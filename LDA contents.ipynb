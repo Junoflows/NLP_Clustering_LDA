{
 "cells": [
  {
   "cell_type": "code",
   "execution_count": 1,
   "metadata": {},
   "outputs": [],
   "source": [
    "import warnings\n",
    "warnings.filterwarnings(action='ignore')"
   ]
  },
  {
   "cell_type": "code",
   "execution_count": 631,
   "metadata": {},
   "outputs": [
    {
     "data": {
      "text/html": [
       "<div>\n",
       "<style scoped>\n",
       "    .dataframe tbody tr th:only-of-type {\n",
       "        vertical-align: middle;\n",
       "    }\n",
       "\n",
       "    .dataframe tbody tr th {\n",
       "        vertical-align: top;\n",
       "    }\n",
       "\n",
       "    .dataframe thead th {\n",
       "        text-align: right;\n",
       "    }\n",
       "</style>\n",
       "<table border=\"1\" class=\"dataframe\">\n",
       "  <thead>\n",
       "    <tr style=\"text-align: right;\">\n",
       "      <th></th>\n",
       "      <th>id</th>\n",
       "      <th>title</th>\n",
       "      <th>contents</th>\n",
       "    </tr>\n",
       "  </thead>\n",
       "  <tbody>\n",
       "    <tr>\n",
       "      <th>0</th>\n",
       "      <td>NEWS_00000</td>\n",
       "      <td>Spanish coach facing action in race row</td>\n",
       "      <td>MADRID (AFP) - Spanish national team coach Lui...</td>\n",
       "    </tr>\n",
       "    <tr>\n",
       "      <th>1</th>\n",
       "      <td>NEWS_00001</td>\n",
       "      <td>Bruce Lee statue for divided city</td>\n",
       "      <td>In Bosnia, where one man #39;s hero is often a...</td>\n",
       "    </tr>\n",
       "    <tr>\n",
       "      <th>2</th>\n",
       "      <td>NEWS_00002</td>\n",
       "      <td>Only Lovers Left Alive's Tilda Swinton Talks A...</td>\n",
       "      <td>Yasmine Hamdan performs 'Hal' which she also s...</td>\n",
       "    </tr>\n",
       "    <tr>\n",
       "      <th>3</th>\n",
       "      <td>NEWS_00003</td>\n",
       "      <td>Macromedia contributes to eBay Stores</td>\n",
       "      <td>Macromedia has announced a special version of ...</td>\n",
       "    </tr>\n",
       "    <tr>\n",
       "      <th>4</th>\n",
       "      <td>NEWS_00004</td>\n",
       "      <td>Qualcomm plans to phone it in on cellular repairs</td>\n",
       "      <td>Over-the-air fixes for cell phones comes to Qu...</td>\n",
       "    </tr>\n",
       "    <tr>\n",
       "      <th>...</th>\n",
       "      <td>...</td>\n",
       "      <td>...</td>\n",
       "      <td>...</td>\n",
       "    </tr>\n",
       "    <tr>\n",
       "      <th>59995</th>\n",
       "      <td>NEWS_59995</td>\n",
       "      <td>Dolphins Break Through, Rip Rams For First Win</td>\n",
       "      <td>But that #39;s OK. Because after a 31-14 rout ...</td>\n",
       "    </tr>\n",
       "    <tr>\n",
       "      <th>59996</th>\n",
       "      <td>NEWS_59996</td>\n",
       "      <td>After Steep Drop, Price of Oil Rises</td>\n",
       "      <td>The freefall in oil prices ended Monday on a s...</td>\n",
       "    </tr>\n",
       "    <tr>\n",
       "      <th>59997</th>\n",
       "      <td>NEWS_59997</td>\n",
       "      <td>Pro football: Culpepper puts on a show</td>\n",
       "      <td>To say Daunte Culpepper was a little frustrate...</td>\n",
       "    </tr>\n",
       "    <tr>\n",
       "      <th>59998</th>\n",
       "      <td>NEWS_59998</td>\n",
       "      <td>Albertsons on the Rebound</td>\n",
       "      <td>The No. 2 grocer reports double-digit gains in...</td>\n",
       "    </tr>\n",
       "    <tr>\n",
       "      <th>59999</th>\n",
       "      <td>NEWS_59999</td>\n",
       "      <td>Cassini Craft Spies Saturn Moon Dione (AP)</td>\n",
       "      <td>AP - The Cassini spacecraft's close flyby of S...</td>\n",
       "    </tr>\n",
       "  </tbody>\n",
       "</table>\n",
       "<p>60000 rows × 3 columns</p>\n",
       "</div>"
      ],
      "text/plain": [
       "               id                                              title  \\\n",
       "0      NEWS_00000            Spanish coach facing action in race row   \n",
       "1      NEWS_00001                  Bruce Lee statue for divided city   \n",
       "2      NEWS_00002  Only Lovers Left Alive's Tilda Swinton Talks A...   \n",
       "3      NEWS_00003              Macromedia contributes to eBay Stores   \n",
       "4      NEWS_00004  Qualcomm plans to phone it in on cellular repairs   \n",
       "...           ...                                                ...   \n",
       "59995  NEWS_59995     Dolphins Break Through, Rip Rams For First Win   \n",
       "59996  NEWS_59996               After Steep Drop, Price of Oil Rises   \n",
       "59997  NEWS_59997             Pro football: Culpepper puts on a show   \n",
       "59998  NEWS_59998                          Albertsons on the Rebound   \n",
       "59999  NEWS_59999         Cassini Craft Spies Saturn Moon Dione (AP)   \n",
       "\n",
       "                                                contents  \n",
       "0      MADRID (AFP) - Spanish national team coach Lui...  \n",
       "1      In Bosnia, where one man #39;s hero is often a...  \n",
       "2      Yasmine Hamdan performs 'Hal' which she also s...  \n",
       "3      Macromedia has announced a special version of ...  \n",
       "4      Over-the-air fixes for cell phones comes to Qu...  \n",
       "...                                                  ...  \n",
       "59995  But that #39;s OK. Because after a 31-14 rout ...  \n",
       "59996  The freefall in oil prices ended Monday on a s...  \n",
       "59997  To say Daunte Culpepper was a little frustrate...  \n",
       "59998  The No. 2 grocer reports double-digit gains in...  \n",
       "59999  AP - The Cassini spacecraft's close flyby of S...  \n",
       "\n",
       "[60000 rows x 3 columns]"
      ]
     },
     "execution_count": 631,
     "metadata": {},
     "output_type": "execute_result"
    }
   ],
   "source": [
    "import pandas as pd\n",
    "from sklearn.feature_extraction.text import TfidfVectorizer\n",
    "from sklearn.decomposition import LatentDirichletAllocation\n",
    "import numpy as np\n",
    "from sklearn.preprocessing import LabelEncoder\n",
    "import re\n",
    "from nltk.corpus import stopwords\n",
    "import matplotlib.pyplot as plt\n",
    "import nltk\n",
    "from nltk.stem import WordNetLemmatizer\n",
    "\n",
    "# CSV 파일 불러오기\n",
    "\n",
    "data = pd.read_csv(\"./data/news.csv\")\n",
    "data"
   ]
  },
  {
   "cell_type": "markdown",
   "metadata": {},
   "source": [
    "우선 contents 로만 해보자"
   ]
  },
  {
   "cell_type": "code",
   "execution_count": 632,
   "metadata": {},
   "outputs": [
    {
     "data": {
      "text/html": [
       "<div>\n",
       "<style scoped>\n",
       "    .dataframe tbody tr th:only-of-type {\n",
       "        vertical-align: middle;\n",
       "    }\n",
       "\n",
       "    .dataframe tbody tr th {\n",
       "        vertical-align: top;\n",
       "    }\n",
       "\n",
       "    .dataframe thead th {\n",
       "        text-align: right;\n",
       "    }\n",
       "</style>\n",
       "<table border=\"1\" class=\"dataframe\">\n",
       "  <thead>\n",
       "    <tr style=\"text-align: right;\">\n",
       "      <th></th>\n",
       "      <th>contents</th>\n",
       "    </tr>\n",
       "  </thead>\n",
       "  <tbody>\n",
       "    <tr>\n",
       "      <th>0</th>\n",
       "      <td>MADRID (AFP) - Spanish national team coach Lui...</td>\n",
       "    </tr>\n",
       "    <tr>\n",
       "      <th>1</th>\n",
       "      <td>In Bosnia, where one man #39;s hero is often a...</td>\n",
       "    </tr>\n",
       "    <tr>\n",
       "      <th>2</th>\n",
       "      <td>Yasmine Hamdan performs 'Hal' which she also s...</td>\n",
       "    </tr>\n",
       "    <tr>\n",
       "      <th>3</th>\n",
       "      <td>Macromedia has announced a special version of ...</td>\n",
       "    </tr>\n",
       "    <tr>\n",
       "      <th>4</th>\n",
       "      <td>Over-the-air fixes for cell phones comes to Qu...</td>\n",
       "    </tr>\n",
       "  </tbody>\n",
       "</table>\n",
       "</div>"
      ],
      "text/plain": [
       "                                            contents\n",
       "0  MADRID (AFP) - Spanish national team coach Lui...\n",
       "1  In Bosnia, where one man #39;s hero is often a...\n",
       "2  Yasmine Hamdan performs 'Hal' which she also s...\n",
       "3  Macromedia has announced a special version of ...\n",
       "4  Over-the-air fixes for cell phones comes to Qu..."
      ]
     },
     "execution_count": 632,
     "metadata": {},
     "output_type": "execute_result"
    }
   ],
   "source": [
    "# 필요한 열 선택 (contents: 기사 내용)\n",
    "df = data[['contents']]\n",
    "df.head()"
   ]
  },
  {
   "cell_type": "code",
   "execution_count": 633,
   "metadata": {},
   "outputs": [],
   "source": [
    "# 텍스트 정제 함수 (불용어 제거와 1글자짜리 단어 제거)\n",
    "stop_words = set(stopwords.words('english'))\n",
    "\n",
    "def clean_text(text):\n",
    "    \n",
    "    text = text.replace('short_description','')\n",
    "    # URL 제거\n",
    "    text = re.sub(r'http\\S+|www\\S+|https\\S+', '', text, flags=re.MULTILINE)\n",
    "\n",
    "    # 해시태그 제거\n",
    "    text = re.sub(r'#\\w+', '', text)\n",
    "\n",
    "    # 멘션 제거\n",
    "    text = re.sub(r'@\\w+', '', text)\n",
    "\n",
    "    # 이모지 제거\n",
    "    text = text.encode('ascii', 'ignore').decode('ascii')\n",
    "\n",
    "    # 공백 및 특수문자 제거\n",
    "    text = re.sub(r'[^\\w\\s]', '', text).strip()\n",
    "    \n",
    "    # 숫자 제거\n",
    "    text = re.sub(r'\\d+', '', text)\n",
    "\n",
    "    # 같은 글자가 3번 이상 연속으로 나타나는 패턴을 찾아서 1번으로 대체\n",
    "    text = re.sub(r'(.)\\1{2,}', r'\\1', text)\n",
    "\n",
    "    # # 영문자와 공백 이외의 문자 제거\n",
    "    # text = re.sub(r'[^a-zA-Z\\s]', '', text)\n",
    "    \n",
    "    # 소문자 변환\n",
    "    text = text.lower()\n",
    "    # 불용어 제거 및 2글자 이하 단어 제거\n",
    "    text = ' '.join(word for word in text.split() if word not in stop_words and len(word) > 2)\n",
    "\n",
    "    return text\n",
    "\n",
    "import nltk\n",
    "from nltk import word_tokenize, pos_tag\n",
    "\n",
    "# # 명사와 동사만 추출하는 함수\n",
    "# def extract_nouns_and_verbs(text):\n",
    "#     # 문장을 토큰화하고 품사 태깅\n",
    "#     # words = word_tokenize(text)\n",
    "#     tagged_words = pos_tag(text)\n",
    "    \n",
    "#     # 명사와 동사만 추출\n",
    "#     nouns_and_verbs = [word for word, tag in tagged_words if tag.startswith('N') or tag.startswith('V')]\n",
    "    \n",
    "#     return nouns_and_verbs"
   ]
  },
  {
   "cell_type": "code",
   "execution_count": 634,
   "metadata": {},
   "outputs": [
    {
     "data": {
      "text/html": [
       "<div>\n",
       "<style scoped>\n",
       "    .dataframe tbody tr th:only-of-type {\n",
       "        vertical-align: middle;\n",
       "    }\n",
       "\n",
       "    .dataframe tbody tr th {\n",
       "        vertical-align: top;\n",
       "    }\n",
       "\n",
       "    .dataframe thead th {\n",
       "        text-align: right;\n",
       "    }\n",
       "</style>\n",
       "<table border=\"1\" class=\"dataframe\">\n",
       "  <thead>\n",
       "    <tr style=\"text-align: right;\">\n",
       "      <th></th>\n",
       "      <th>contents</th>\n",
       "    </tr>\n",
       "  </thead>\n",
       "  <tbody>\n",
       "    <tr>\n",
       "      <th>0</th>\n",
       "      <td>madrid afp spanish national team coach luis ar...</td>\n",
       "    </tr>\n",
       "    <tr>\n",
       "      <th>1</th>\n",
       "      <td>bosnia one man hero often another man villain ...</td>\n",
       "    </tr>\n",
       "    <tr>\n",
       "      <th>2</th>\n",
       "      <td>yasmine hamdan performs hal also sings film sc...</td>\n",
       "    </tr>\n",
       "    <tr>\n",
       "      <th>3</th>\n",
       "      <td>macromedia announced special version contribut...</td>\n",
       "    </tr>\n",
       "    <tr>\n",
       "      <th>4</th>\n",
       "      <td>overtheair fixes cell phones comes qualcomms cdma</td>\n",
       "    </tr>\n",
       "  </tbody>\n",
       "</table>\n",
       "</div>"
      ],
      "text/plain": [
       "                                            contents\n",
       "0  madrid afp spanish national team coach luis ar...\n",
       "1  bosnia one man hero often another man villain ...\n",
       "2  yasmine hamdan performs hal also sings film sc...\n",
       "3  macromedia announced special version contribut...\n",
       "4  overtheair fixes cell phones comes qualcomms cdma"
      ]
     },
     "execution_count": 634,
     "metadata": {},
     "output_type": "execute_result"
    }
   ],
   "source": [
    "# 텍스트 정제 적용\n",
    "df['contents'] = df['contents'].apply(clean_text)\n",
    "df.head(5)"
   ]
  },
  {
   "cell_type": "code",
   "execution_count": 635,
   "metadata": {},
   "outputs": [
    {
     "data": {
      "text/html": [
       "<div>\n",
       "<style scoped>\n",
       "    .dataframe tbody tr th:only-of-type {\n",
       "        vertical-align: middle;\n",
       "    }\n",
       "\n",
       "    .dataframe tbody tr th {\n",
       "        vertical-align: top;\n",
       "    }\n",
       "\n",
       "    .dataframe thead th {\n",
       "        text-align: right;\n",
       "    }\n",
       "</style>\n",
       "<table border=\"1\" class=\"dataframe\">\n",
       "  <thead>\n",
       "    <tr style=\"text-align: right;\">\n",
       "      <th></th>\n",
       "      <th>contents</th>\n",
       "    </tr>\n",
       "  </thead>\n",
       "  <tbody>\n",
       "    <tr>\n",
       "      <th>0</th>\n",
       "      <td>[madrid, afp, spanish, national, team, coach, ...</td>\n",
       "    </tr>\n",
       "    <tr>\n",
       "      <th>1</th>\n",
       "      <td>[bosnia, one, man, hero, often, another, man, ...</td>\n",
       "    </tr>\n",
       "    <tr>\n",
       "      <th>2</th>\n",
       "      <td>[yasmine, hamdan, perform, hal, also, sing, fi...</td>\n",
       "    </tr>\n",
       "    <tr>\n",
       "      <th>3</th>\n",
       "      <td>[macromedia, announce, special, version, contr...</td>\n",
       "    </tr>\n",
       "    <tr>\n",
       "      <th>4</th>\n",
       "      <td>[overtheair, fix, cell, phone, come, qualcomms...</td>\n",
       "    </tr>\n",
       "  </tbody>\n",
       "</table>\n",
       "</div>"
      ],
      "text/plain": [
       "                                            contents\n",
       "0  [madrid, afp, spanish, national, team, coach, ...\n",
       "1  [bosnia, one, man, hero, often, another, man, ...\n",
       "2  [yasmine, hamdan, perform, hal, also, sing, fi...\n",
       "3  [macromedia, announce, special, version, contr...\n",
       "4  [overtheair, fix, cell, phone, come, qualcomms..."
      ]
     },
     "execution_count": 635,
     "metadata": {},
     "output_type": "execute_result"
    }
   ],
   "source": [
    "# 동사 시제에 따라 변한 것을 동사 원형으로 만드는 작업\n",
    "df['contents'] = df.apply(lambda x: nltk.word_tokenize(x['contents']), axis=1)\n",
    "df['contents'] = df['contents'].apply(lambda x: [WordNetLemmatizer().lemmatize(word, pos='v') for word in x])\n",
    "df.head(5)"
   ]
  },
  {
   "cell_type": "code",
   "execution_count": 636,
   "metadata": {},
   "outputs": [],
   "source": [
    "def cleaning_text(text):\n",
    "    text = [word for word in text if word not in stop_words and len(word) > 3]\n",
    "    return text"
   ]
  },
  {
   "cell_type": "code",
   "execution_count": 637,
   "metadata": {},
   "outputs": [
    {
     "data": {
      "text/html": [
       "<div>\n",
       "<style scoped>\n",
       "    .dataframe tbody tr th:only-of-type {\n",
       "        vertical-align: middle;\n",
       "    }\n",
       "\n",
       "    .dataframe tbody tr th {\n",
       "        vertical-align: top;\n",
       "    }\n",
       "\n",
       "    .dataframe thead th {\n",
       "        text-align: right;\n",
       "    }\n",
       "</style>\n",
       "<table border=\"1\" class=\"dataframe\">\n",
       "  <thead>\n",
       "    <tr style=\"text-align: right;\">\n",
       "      <th></th>\n",
       "      <th>contents</th>\n",
       "    </tr>\n",
       "  </thead>\n",
       "  <tbody>\n",
       "    <tr>\n",
       "      <th>0</th>\n",
       "      <td>[madrid, afp, spanish, national, team, coach, ...</td>\n",
       "    </tr>\n",
       "    <tr>\n",
       "      <th>1</th>\n",
       "      <td>[bosnia, one, man, hero, often, another, man, ...</td>\n",
       "    </tr>\n",
       "    <tr>\n",
       "      <th>2</th>\n",
       "      <td>[yasmine, hamdan, perform, hal, also, sing, fi...</td>\n",
       "    </tr>\n",
       "    <tr>\n",
       "      <th>3</th>\n",
       "      <td>[macromedia, announce, special, version, contr...</td>\n",
       "    </tr>\n",
       "    <tr>\n",
       "      <th>4</th>\n",
       "      <td>[overtheair, fix, cell, phone, come, qualcomms...</td>\n",
       "    </tr>\n",
       "  </tbody>\n",
       "</table>\n",
       "</div>"
      ],
      "text/plain": [
       "                                            contents\n",
       "0  [madrid, afp, spanish, national, team, coach, ...\n",
       "1  [bosnia, one, man, hero, often, another, man, ...\n",
       "2  [yasmine, hamdan, perform, hal, also, sing, fi...\n",
       "3  [macromedia, announce, special, version, contr...\n",
       "4  [overtheair, fix, cell, phone, come, qualcomms..."
      ]
     },
     "execution_count": 637,
     "metadata": {},
     "output_type": "execute_result"
    }
   ],
   "source": [
    "df['contents'] = df['contents'].apply(lambda x: cleaning_text(x))\n",
    "df.head()"
   ]
  },
  {
   "cell_type": "code",
   "execution_count": 203,
   "metadata": {},
   "outputs": [],
   "source": [
    "# # 명사와 동사만 추출\n",
    "# df['contents'] = df['contents'].apply(lambda x: extract_nouns_and_verbs(x))"
   ]
  },
  {
   "cell_type": "code",
   "execution_count": 618,
   "metadata": {},
   "outputs": [],
   "source": [
    "# 역토큰화 (토큰화 작업을 되돌림)\n",
    "detokenized_doc = []\n",
    "for i in range(len(df)):\n",
    "    t = ' '.join(df['contents'][i])\n",
    "    detokenized_doc.append(t)"
   ]
  },
  {
   "cell_type": "code",
   "execution_count": 619,
   "metadata": {},
   "outputs": [
    {
     "data": {
      "text/html": [
       "<div>\n",
       "<style scoped>\n",
       "    .dataframe tbody tr th:only-of-type {\n",
       "        vertical-align: middle;\n",
       "    }\n",
       "\n",
       "    .dataframe tbody tr th {\n",
       "        vertical-align: top;\n",
       "    }\n",
       "\n",
       "    .dataframe thead th {\n",
       "        text-align: right;\n",
       "    }\n",
       "</style>\n",
       "<table border=\"1\" class=\"dataframe\">\n",
       "  <thead>\n",
       "    <tr style=\"text-align: right;\">\n",
       "      <th></th>\n",
       "      <th>contents</th>\n",
       "    </tr>\n",
       "  </thead>\n",
       "  <tbody>\n",
       "    <tr>\n",
       "      <th>0</th>\n",
       "      <td>madrid afp spanish national team coach luis ar...</td>\n",
       "    </tr>\n",
       "    <tr>\n",
       "      <th>1</th>\n",
       "      <td>bosnia one man hero often another man villain ...</td>\n",
       "    </tr>\n",
       "    <tr>\n",
       "      <th>2</th>\n",
       "      <td>yasmine hamdan perform hal also sing film scen...</td>\n",
       "    </tr>\n",
       "    <tr>\n",
       "      <th>3</th>\n",
       "      <td>macromedia announce special version contribute...</td>\n",
       "    </tr>\n",
       "    <tr>\n",
       "      <th>4</th>\n",
       "      <td>overtheair fix cell phone come qualcomms cdma</td>\n",
       "    </tr>\n",
       "  </tbody>\n",
       "</table>\n",
       "</div>"
      ],
      "text/plain": [
       "                                            contents\n",
       "0  madrid afp spanish national team coach luis ar...\n",
       "1  bosnia one man hero often another man villain ...\n",
       "2  yasmine hamdan perform hal also sing film scen...\n",
       "3  macromedia announce special version contribute...\n",
       "4      overtheair fix cell phone come qualcomms cdma"
      ]
     },
     "execution_count": 619,
     "metadata": {},
     "output_type": "execute_result"
    }
   ],
   "source": [
    "# 다시 text['headline_text']에 재저장\n",
    "df['contents'] = detokenized_doc\n",
    "df.head(5)"
   ]
  },
  {
   "cell_type": "code",
   "execution_count": 620,
   "metadata": {},
   "outputs": [],
   "source": [
    "from nltk.stem import WordNetLemmatizer\n",
    "import nltk\n",
    "import string\n",
    "\n",
    "# 단어 원형 추출 함수\n",
    "lemmar = WordNetLemmatizer()\n",
    "def LemTokens(tokens):\n",
    "    return [lemmar.lemmatize(token) for token in tokens]\n",
    "\n",
    "# 특수 문자 사전 생성: {33: None ...}\n",
    "# ord(): 아스키 코드 생성\n",
    "remove_punct_dict = dict((ord(punct), None) for punct in string.punctuation)\n",
    "\n",
    "# 특수 문자 제거 및 단어 원형 추출\n",
    "def LemNormalize(text):\n",
    "    # 텍스트 소문자 변경 후 특수 문자 제거\n",
    "    text_new = text.lower().translate(remove_punct_dict)\n",
    "    \n",
    "    # 단어 토큰화\n",
    "    word_tokens = nltk.word_tokenize(text_new)\n",
    "    \n",
    "    # 단어 원형 추출\n",
    "    return LemTokens(word_tokens)"
   ]
  },
  {
   "cell_type": "code",
   "execution_count": 621,
   "metadata": {},
   "outputs": [
    {
     "data": {
      "text/plain": [
       "(60000, 3000)"
      ]
     },
     "execution_count": 621,
     "metadata": {},
     "output_type": "execute_result"
    }
   ],
   "source": [
    "# TF-IDF 벡터화\n",
    "tfidf_vectorizer = TfidfVectorizer(stop_words = 'english', max_features = 3000, tokenizer= LemNormalize) # max_features = 10000 설정\n",
    "X = tfidf_vectorizer.fit_transform(df['contents'])\n",
    "X.shape"
   ]
  },
  {
   "cell_type": "markdown",
   "metadata": {},
   "source": [
    "### LDA 모델링"
   ]
  },
  {
   "cell_type": "code",
   "execution_count": 622,
   "metadata": {},
   "outputs": [],
   "source": [
    "tfidf_feature_names = tfidf_vectorizer.get_feature_names_out()"
   ]
  },
  {
   "cell_type": "code",
   "execution_count": 623,
   "metadata": {},
   "outputs": [
    {
     "data": {
      "text/plain": [
       "array(['abandon', 'ability', 'able', ..., 'ziff', 'zimbabwe', 'zone'],\n",
       "      dtype=object)"
      ]
     },
     "execution_count": 623,
     "metadata": {},
     "output_type": "execute_result"
    }
   ],
   "source": [
    "tfidf_feature_names"
   ]
  },
  {
   "cell_type": "code",
   "execution_count": 624,
   "metadata": {},
   "outputs": [],
   "source": [
    "tfidf_tokens = []\n",
    "for i in range(len(data)):\n",
    "    doc = X[i, :].toarray()\n",
    "    tokens = [tfidf_feature_names[j] for j in np.where(doc > 0)[1]]\n",
    "    tfidf_tokens.append(tokens)"
   ]
  },
  {
   "cell_type": "code",
   "execution_count": 625,
   "metadata": {},
   "outputs": [
    {
     "data": {
      "text/html": [
       "<div>\n",
       "<style scoped>\n",
       "    .dataframe tbody tr th:only-of-type {\n",
       "        vertical-align: middle;\n",
       "    }\n",
       "\n",
       "    .dataframe tbody tr th {\n",
       "        vertical-align: top;\n",
       "    }\n",
       "\n",
       "    .dataframe thead th {\n",
       "        text-align: right;\n",
       "    }\n",
       "</style>\n",
       "<table border=\"1\" class=\"dataframe\">\n",
       "  <thead>\n",
       "    <tr style=\"text-align: right;\">\n",
       "      <th></th>\n",
       "      <th>contents</th>\n",
       "      <th>tfidf_tokens</th>\n",
       "    </tr>\n",
       "  </thead>\n",
       "  <tbody>\n",
       "    <tr>\n",
       "      <th>0</th>\n",
       "      <td>madrid afp spanish national team coach luis ar...</td>\n",
       "      <td>[afp, arsenal, coach, comment, decide, face, f...</td>\n",
       "    </tr>\n",
       "    <tr>\n",
       "      <th>1</th>\n",
       "      <td>bosnia one man hero often another man villain ...</td>\n",
       "      <td>[citizen, decide, great, hero, honour, lee, lo...</td>\n",
       "    </tr>\n",
       "    <tr>\n",
       "      <th>2</th>\n",
       "      <td>yasmine hamdan perform hal also sing film scen...</td>\n",
       "      <td>[begin, continue, creation, film, live, myster...</td>\n",
       "    </tr>\n",
       "    <tr>\n",
       "      <th>3</th>\n",
       "      <td>macromedia announce special version contribute...</td>\n",
       "      <td>[announce, application, contribute, creation, ...</td>\n",
       "    </tr>\n",
       "    <tr>\n",
       "      <th>4</th>\n",
       "      <td>overtheair fix cell phone come qualcomms cdma</td>\n",
       "      <td>[cell, come, fix, phone]</td>\n",
       "    </tr>\n",
       "  </tbody>\n",
       "</table>\n",
       "</div>"
      ],
      "text/plain": [
       "                                            contents  \\\n",
       "0  madrid afp spanish national team coach luis ar...   \n",
       "1  bosnia one man hero often another man villain ...   \n",
       "2  yasmine hamdan perform hal also sing film scen...   \n",
       "3  macromedia announce special version contribute...   \n",
       "4      overtheair fix cell phone come qualcomms cdma   \n",
       "\n",
       "                                        tfidf_tokens  \n",
       "0  [afp, arsenal, coach, comment, decide, face, f...  \n",
       "1  [citizen, decide, great, hero, honour, lee, lo...  \n",
       "2  [begin, continue, creation, film, live, myster...  \n",
       "3  [announce, application, contribute, creation, ...  \n",
       "4                           [cell, come, fix, phone]  "
      ]
     },
     "execution_count": 625,
     "metadata": {},
     "output_type": "execute_result"
    }
   ],
   "source": [
    "# 토큰화된 결과를 데이터프레임에 추가\n",
    "df['tfidf_tokens'] = tfidf_tokens\n",
    "df.head()"
   ]
  },
  {
   "cell_type": "markdown",
   "metadata": {},
   "source": [
    "LDA 모델링"
   ]
  },
  {
   "cell_type": "code",
   "execution_count": 626,
   "metadata": {},
   "outputs": [],
   "source": [
    "from gensim.models.ldamodel import LdaModel\n",
    "from gensim.corpora import Dictionary"
   ]
  },
  {
   "cell_type": "code",
   "execution_count": 627,
   "metadata": {},
   "outputs": [],
   "source": [
    "# Dictionary 및 corpus 생성\n",
    "dictionary = Dictionary(tfidf_tokens)\n",
    "corpus = [dictionary.doc2bow(text) for text in tfidf_tokens]\n",
    "# print(corpus[1]) # 수행된 결과에서 두번째 뉴스 출력. 첫번째 문서의 인덱스는 0"
   ]
  },
  {
   "cell_type": "markdown",
   "metadata": {},
   "source": [
    "pass 는 epoch 과 같은 역할로 군집이 잘 나눠지는 passes 를 찾자"
   ]
  },
  {
   "cell_type": "code",
   "execution_count": 628,
   "metadata": {},
   "outputs": [
    {
     "name": "stdout",
     "output_type": "stream",
     "text": [
      "(0, '0.016*\"new\" + 0.012*\"company\" + 0.011*\"service\" + 0.011*\"software\" + 0.010*\"use\" + 0.010*\"microsoft\" + 0.010*\"internet\" + 0.009*\"computer\" + 0.009*\"announce\" + 0.008*\"technology\"')\n",
      "(1, '0.016*\"say\" + 0.013*\"president\" + 0.010*\"make\" + 0.009*\"like\" + 0.008*\"want\" + 0.008*\"trump\" + 0.008*\"time\" + 0.007*\"bush\" + 0.007*\"year\" + 0.007*\"come\"')\n",
      "(2, '0.029*\"say\" + 0.014*\"people\" + 0.013*\"kill\" + 0.011*\"iraq\" + 0.011*\"official\" + 0.010*\"court\" + 0.010*\"attack\" + 0.009*\"force\" + 0.008*\"city\" + 0.007*\"police\"')\n",
      "(3, '0.018*\"say\" + 0.016*\"reuters\" + 0.015*\"minister\" + 0.014*\"oil\" + 0.011*\"state\" + 0.010*\"prime\" + 0.010*\"unite\" + 0.009*\"leader\" + 0.009*\"country\" + 0.009*\"president\"')\n",
      "(4, '0.023*\"say\" + 0.016*\"new\" + 0.015*\"reuters\" + 0.014*\"company\" + 0.011*\"year\" + 0.011*\"million\" + 0.010*\"york\" + 0.010*\"price\" + 0.010*\"report\" + 0.010*\"percent\"')\n",
      "(5, '0.015*\"game\" + 0.012*\"win\" + 0.011*\"team\" + 0.010*\"night\" + 0.010*\"new\" + 0.010*\"season\" + 0.009*\"world\" + 0.009*\"play\" + 0.008*\"lead\" + 0.008*\"sunday\"')\n"
     ]
    }
   ],
   "source": [
    "import gensim\n",
    "NUM_TOPICS = 6 # 6개의 토픽\n",
    "ldamodel = gensim.models.ldamodel.LdaModel(corpus, num_topics = NUM_TOPICS, id2word=dictionary, passes=30, random_state = 42)\n",
    "topics = ldamodel.print_topics(num_words=10)\n",
    "for topic in topics:\n",
    "    print(topic)"
   ]
  },
  {
   "cell_type": "code",
   "execution_count": 629,
   "metadata": {},
   "outputs": [
    {
     "data": {
      "text/html": [
       "\n",
       "<link rel=\"stylesheet\" type=\"text/css\" href=\"https://cdn.jsdelivr.net/gh/bmabey/pyLDAvis@3.4.0/pyLDAvis/js/ldavis.v1.0.0.css\">\n",
       "\n",
       "\n",
       "<div id=\"ldavis_el1889231514950450562204406220\" style=\"background-color:white;\"></div>\n",
       "<script type=\"text/javascript\">\n",
       "\n",
       "var ldavis_el1889231514950450562204406220_data = {\"mdsDat\": {\"x\": [-0.06283687809267387, -0.012870995751124261, -0.08790598138838812, -0.2532761888375432, 0.21682990368990998, 0.2000601403798197], \"y\": [-0.20116407501470598, 0.15095705051913036, 0.25438366385264405, -0.11565948072332438, 0.004725971257974944, -0.09324312989171904], \"topics\": [1, 2, 3, 4, 5, 6], \"cluster\": [1, 1, 1, 1, 1, 1], \"Freq\": [19.753547664910837, 18.71162306145515, 17.09310905724559, 16.187096711075704, 14.580767129570853, 13.673856375741867]}, \"tinfo\": {\"Term\": [\"say\", \"company\", \"game\", \"president\", \"reuters\", \"minister\", \"oil\", \"kill\", \"win\", \"people\", \"team\", \"night\", \"official\", \"software\", \"service\", \"million\", \"percent\", \"season\", \"rise\", \"iraq\", \"york\", \"microsoft\", \"internet\", \"play\", \"price\", \"court\", \"attack\", \"prime\", \"sale\", \"computer\", \"percent\", \"rise\", \"sale\", \"stock\", \"billion\", \"cut\", \"profit\", \"largest\", \"cost\", \"dollar\", \"growth\", \"investor\", \"higher\", \"href\", \"financial\", \"lta\", \"fell\", \"quote\", \"airline\", \"wall\", \"lower\", \"rat\", \"retailer\", \"revenue\", \"boost\", \"chip\", \"low\", \"investment\", \"quarterly\", \"profile\", \"increase\", \"price\", \"million\", \"share\", \"market\", \"executive\", \"earn\", \"york\", \"company\", \"corp\", \"report\", \"reuters\", \"bank\", \"say\", \"new\", \"year\", \"thursday\", \"wednesday\", \"monday\", \"tuesday\", \"group\", \"friday\", \"game\", \"win\", \"team\", \"night\", \"season\", \"play\", \"victory\", \"league\", \"sport\", \"final\", \"coach\", \"champion\", \"cup\", \"england\", \"score\", \"championship\", \"olympic\", \"football\", \"match\", \"field\", \"title\", \"gold\", \"athens\", \"sox\", \"grand\", \"throw\", \"baseball\", \"minute\", \"medal\", \"goal\", \"beat\", \"round\", \"red\", \"series\", \"point\", \"player\", \"lead\", \"second\", \"sunday\", \"saturday\", \"run\", \"world\", \"open\", \"new\", \"year\", \"start\", \"time\", \"york\", \"trump\", \"bush\", \"think\", \"house\", \"vote\", \"campaign\", \"thing\", \"republican\", \"question\", \"donald\", \"dont\", \"policy\", \"administration\", \"really\", \"democratic\", \"george\", \"feel\", \"lot\", \"democrat\", \"poll\", \"happen\", \"speak\", \"voter\", \"debate\", \"congress\", \"researcher\", \"committee\", \"kerry\", \"word\", \"love\", \"want\", \"like\", \"know\", \"tell\", \"john\", \"president\", \"right\", \"white\", \"mean\", \"director\", \"good\", \"presidential\", \"way\", \"need\", \"make\", \"work\", \"come\", \"look\", \"election\", \"say\", \"time\", \"change\", \"people\", \"year\", \"day\", \"state\", \"software\", \"microsoft\", \"internet\", \"online\", \"phone\", \"music\", \"user\", \"search\", \"web\", \"version\", \"mobile\", \"apple\", \"wireless\", \"window\", \"digital\", \"google\", \"design\", \"access\", \"oracle\", \"feature\", \"introduce\", \"email\", \"unveil\", \"application\", \"peoplesoft\", \"nasa\", \"server\", \"acquire\", \"engine\", \"justice\", \"computer\", \"technology\", \"service\", \"launch\", \"space\", \"provide\", \"use\", \"announce\", \"offer\", \"company\", \"release\", \"new\", \"network\", \"business\", \"security\", \"make\", \"plan\", \"today\", \"say\", \"corp\", \"kill\", \"court\", \"attack\", \"police\", \"military\", \"iraqi\", \"bomb\", \"baghdad\", \"death\", \"troop\", \"die\", \"militant\", \"judge\", \"child\", \"rebel\", \"arrest\", \"soldier\", \"violence\", \"body\", \"suspect\", \"muslim\", \"hostage\", \"terrorist\", \"wound\", \"town\", \"damage\", \"allege\", \"supreme\", \"darfur\", \"hospital\", \"iraq\", \"army\", \"force\", \"aid\", \"people\", \"city\", \"official\", \"car\", \"say\", \"charge\", \"war\", \"government\", \"group\", \"british\", \"accuse\", \"reuters\", \"yesterday\", \"friday\", \"thursday\", \"wednesday\", \"security\", \"tuesday\", \"minister\", \"oil\", \"prime\", \"palestinian\", \"israeli\", \"nuclear\", \"russian\", \"union\", \"hurricane\", \"supply\", \"israel\", \"peace\", \"gaza\", \"iran\", \"crude\", \"tony\", \"korea\", \"dead\", \"arafat\", \"opposition\", \"strip\", \"blair\", \"tournament\", \"surge\", \"barrel\", \"yasser\", \"gas\", \"fresh\", \"beijing\", \"winter\", \"china\", \"north\", \"talk\", \"leader\", \"unite\", \"country\", \"nation\", \"european\", \"state\", \"reuters\", \"meet\", \"government\", \"president\", \"say\", \"official\", \"afp\", \"monday\", \"foreign\", \"friday\", \"wednesday\", \"plan\", \"thursday\", \"new\", \"tuesday\", \"week\"], \"Freq\": [10496.0, 3342.0, 2022.0, 2484.0, 4557.0, 1406.0, 1372.0, 1389.0, 1593.0, 2348.0, 1503.0, 1377.0, 1783.0, 1205.0, 1604.0, 1932.0, 1330.0, 1286.0, 1308.0, 1328.0, 2027.0, 1090.0, 1089.0, 1170.0, 1675.0, 994.0, 993.0, 932.0, 1132.0, 1142.0, 1330.152518789304, 1307.2297281329732, 1131.7549380626099, 1119.0942098646808, 1080.9054832353045, 844.1408045675431, 814.7734090886031, 795.8972066103751, 685.8352917994499, 673.3163908635458, 627.4024598452037, 604.5441243244294, 568.0320101335436, 566.0879705465208, 556.9199577455237, 547.0087960553171, 494.61267761266674, 466.45999855548115, 450.95915509444086, 451.4555180567769, 448.63335027098816, 429.79638558676197, 381.2714049381167, 368.4870565934937, 366.9382509645805, 364.60550082440625, 346.693464089939, 344.304177773461, 333.4132720589966, 331.82104197319796, 662.6850582478628, 1359.067624857814, 1536.839042930449, 1037.0776787040181, 1263.8666756365144, 786.2574964578289, 606.5217221240227, 1378.3704125836518, 1975.4960299164004, 1138.3022297174953, 1343.4567597907635, 2029.767643511887, 713.2341118995844, 3207.1340992226906, 2236.015509238037, 1576.1374624072293, 1033.5990486690357, 982.8672098594826, 893.0222032920595, 883.2626701986906, 757.2003683987876, 734.3369699368518, 2022.089237448418, 1592.845746927844, 1502.5572103871978, 1376.5043675850175, 1285.499275852798, 1169.3736799195572, 1029.7176018596108, 941.4542222045696, 875.132532317366, 817.852571204968, 787.5288950001984, 781.177968083022, 718.0895690233507, 645.4422843572004, 630.8664056658068, 595.4664640915271, 576.7329789560818, 511.1471507929855, 458.9501877421757, 448.47199760962803, 444.201011401267, 439.7523005677779, 413.9462607473601, 385.73615796890977, 366.24639783291974, 366.01856230328406, 364.28527837927135, 355.0877754000852, 345.46927933726255, 346.33269329621777, 642.7917556804945, 483.6353419317048, 606.2898660932258, 658.0519710187224, 739.2332964369549, 794.1894642671913, 1091.7394072254244, 944.738607708968, 1034.1739676717639, 861.5748580169497, 796.0896820632755, 1200.7214631494546, 727.29368172307, 1301.0672274818983, 976.6614673681414, 660.9063865167135, 700.3833881731982, 648.1431083957312, 974.5258814520384, 830.2535956404049, 798.7165615078309, 772.9309556840522, 704.2777806598596, 607.8317458277145, 562.2218038546202, 515.2168886059029, 473.65251516732695, 471.2961246925238, 441.5124398617087, 433.98219034019877, 374.00249587520454, 362.13676984035015, 350.0405328406401, 339.07640573557717, 331.5364954231425, 318.96519464644666, 309.0102831886858, 298.76962013889187, 291.18623626729584, 291.2013172112685, 288.80726650207555, 282.8006978283053, 272.21572868334437, 269.104897838185, 261.58613454774553, 245.19123875824434, 245.9579797868129, 242.24798331845705, 982.1816089207919, 1102.949808253783, 748.2233143918306, 772.4894238383574, 614.0775594953451, 1622.2766332221097, 798.4106177394173, 432.14341043962276, 362.8827851023418, 428.8460476952709, 584.8796162817322, 473.3835857083286, 717.7170080165829, 614.7551628774161, 1224.9859302282587, 729.0157523421935, 809.8147882543639, 668.018023949809, 627.156023711896, 1960.2553596725566, 909.5821693060052, 535.8466651148752, 758.8899509205391, 829.0316179232019, 568.8482077507748, 481.91855748601273, 1204.2558423815294, 1090.1052836306064, 1089.1281785067272, 834.4510203987685, 732.3616728329478, 654.6104873424189, 647.5910747682176, 613.4070759449255, 583.6222841701184, 556.0068040650056, 549.8629032131261, 488.37261928118875, 457.73353869883545, 454.2006946475058, 450.76705043591676, 435.3072474222758, 435.00430228166323, 352.44208413450383, 346.3120127508991, 344.41522139161276, 331.99125261560926, 321.0713980852809, 316.81162931019, 311.9336301129518, 301.6375909823434, 300.1519337577888, 296.16936603621434, 287.8970568265764, 272.8689459841604, 273.511670522233, 1068.8982195532603, 954.2254388041749, 1305.5016987631109, 756.9151490912261, 501.7630019382896, 460.4325721937183, 1097.9730808932056, 1054.1231347900111, 746.1924176740766, 1365.9941333687568, 715.7663640934184, 1843.903217382424, 649.6223045162141, 694.4953121301701, 671.208987497704, 810.7076318398193, 597.0184645658422, 540.8422601990322, 597.381275347006, 490.99569708108515, 1388.8832000054567, 993.619372143979, 992.8543146549275, 759.3326378369314, 614.9693847627443, 610.8538948368264, 587.9949755483157, 537.3444134788211, 469.83604344823124, 465.9113387754072, 465.39829796924715, 461.8971825537318, 426.2212984635141, 401.47627865433685, 389.1879978996576, 350.7073022822252, 340.02881402345287, 336.51634348363234, 327.10119664966646, 319.7301638383017, 304.27083286362785, 284.4881461115675, 272.4437849258237, 271.66116771922856, 258.9127648706048, 256.42893923065844, 254.54762990168194, 253.43125828196474, 248.83183403940325, 248.32645913994713, 1165.734213636622, 315.40381356610897, 917.798092883655, 295.79485542472634, 1453.3217576964607, 825.1037696726618, 1131.838257259221, 405.6775309115049, 3016.1935384406665, 520.5771111287489, 473.64944873809765, 756.9247286293123, 736.1223325498796, 482.9227523420825, 383.4057002967224, 738.7670224508161, 576.8855435529906, 524.9239197894577, 490.1070005454145, 486.08187249476913, 445.83322714374447, 438.5532030185303, 1405.4103880152948, 1371.306314002976, 931.416428344873, 590.7538795043193, 483.8984195735562, 450.5493801713562, 423.7396755776571, 765.8989488824849, 402.490780218836, 374.927186776894, 359.57613437173796, 356.9806692005766, 341.14925051258444, 336.7770456611136, 325.12786001242966, 321.5304148480735, 316.10732169746205, 313.0581348235526, 272.0446449169056, 272.45804029481536, 272.01588854041927, 270.1705154771679, 268.5959690690278, 265.67050201176687, 259.97132518096777, 256.3747112556194, 252.181380052261, 242.9369239213254, 236.89761307489914, 228.68742046294798, 651.0853414864894, 585.0020200931605, 769.980017887951, 886.6789652173301, 927.060106898227, 876.5453978709085, 655.4311488829825, 598.6555027170209, 1086.7041863269635, 1527.4928884776166, 558.5385153132536, 755.8932575477507, 861.8156629252097, 1715.6516111028222, 650.8292300084081, 492.77407517605496, 656.9980119467801, 400.77016040451315, 578.8320249951554, 583.2800073918515, 512.2840634623815, 519.716238828944, 585.279114739709, 519.1874360244639, 482.0697836200567], \"Total\": [10496.0, 3342.0, 2022.0, 2484.0, 4557.0, 1406.0, 1372.0, 1389.0, 1593.0, 2348.0, 1503.0, 1377.0, 1783.0, 1205.0, 1604.0, 1932.0, 1330.0, 1286.0, 1308.0, 1328.0, 2027.0, 1090.0, 1089.0, 1170.0, 1675.0, 994.0, 993.0, 932.0, 1132.0, 1142.0, 1330.987810260111, 1308.067323755034, 1132.59126730673, 1119.9293040457592, 1081.7416041519423, 844.9792776819937, 815.607568353509, 796.735027369641, 686.6731289275209, 674.1529891855392, 628.2381638416933, 605.3795300267874, 568.868340106923, 566.9221109103572, 557.7579358493338, 547.8428278807286, 495.4494235906215, 467.2986472363654, 451.7952121761182, 452.2930457181114, 449.47070106040655, 430.6335193546888, 382.1071621992831, 369.3229641121178, 367.77758438688033, 365.44348663891094, 347.53134988652965, 345.1411659546479, 334.2472827497953, 332.6560667275213, 724.4729301299202, 1675.337737406116, 1932.5181894092825, 1234.105965673323, 1641.5190956828242, 936.6828157839108, 693.3610245154653, 2027.1879091168912, 3342.1577160219335, 1629.9642432291184, 2268.5241148339446, 4557.056677539461, 923.7500312220392, 10496.780017398192, 6352.428456244336, 4288.459379447211, 2562.464549893979, 2734.418221039477, 2612.9055922868497, 2569.2138469005954, 1796.3143302898072, 2356.6061396618065, 2022.9286871561535, 1593.6852252844878, 1503.3961416731345, 1377.3438655849955, 1286.3378995994317, 1170.2140757512702, 1030.555952090574, 942.2910703318452, 875.9709969601329, 818.6943186296776, 788.3662040873797, 782.0150485948291, 718.9260253840428, 646.2842726205206, 631.7044176703071, 596.3029905328528, 577.5707831389186, 511.984534342998, 459.78837444633444, 449.3129174654414, 445.03930768796613, 440.5916310032323, 414.78416770050956, 386.5725942848417, 367.08672198760036, 366.8595177390444, 365.12351096054437, 355.92928674207496, 346.3059508312228, 347.17191326837366, 686.0148318888957, 513.8381264793239, 680.2337490743822, 786.8098761060135, 925.2540092229083, 1038.1395418926022, 1773.809026184182, 1445.9929492985955, 1764.9926240820857, 1445.2817358970722, 1263.8598407912507, 2759.4360624049777, 1420.2886721331574, 6352.428456244336, 4288.459379447211, 1234.5932138476346, 2339.945994339774, 2027.1879091168912, 975.3619060192699, 831.0910518597534, 799.5551572645678, 773.7706718209796, 705.1168008231124, 608.6707354223397, 563.0591716371873, 516.0531945568293, 474.4918404839457, 472.1330223470824, 442.3496856267914, 434.8214759547007, 374.84106851992, 362.9742387372167, 350.87704927871164, 339.91511128756014, 332.3755287612848, 319.80301889362323, 309.8460201992694, 299.6073486373643, 292.0238792130875, 292.04128409532865, 289.6430674438683, 283.6385098433399, 273.05427219352316, 269.94559092788313, 262.425584860667, 246.02680445425378, 246.79698472866565, 243.08595520279596, 1100.0075324721201, 1295.718273528073, 857.7938220222243, 922.4367379177249, 736.5917654807037, 2484.759980669722, 1035.5116255282016, 497.558796943076, 394.4280519193609, 502.55116879839886, 797.827914881251, 587.2571552039053, 1126.3508628958998, 914.4279287301508, 2895.58467123071, 1270.3141341830624, 1569.9617934482594, 1160.2139703968162, 1070.3198417536319, 10496.780017398192, 2339.945994339774, 795.3536364519048, 2348.858570725908, 4288.459379447211, 2179.834729797804, 2507.9892900538007, 1205.0878501560903, 1090.936743346231, 1089.9608755434745, 835.2855418400286, 733.1942641480146, 655.4429724553938, 648.4226782637145, 614.2413546875017, 584.4544050634979, 556.8391866179413, 550.6951489768364, 489.20483963015556, 458.56616020039445, 455.032416537634, 451.5991535478159, 436.13965227164664, 435.8380760864972, 353.27596442154254, 347.144226267822, 345.2487284726607, 332.82606763742183, 321.9040274311238, 317.64551830734, 312.766023989101, 302.47016721108713, 300.9854796377406, 297.0005773721412, 288.73254519295403, 273.7014679768434, 274.35023320093956, 1142.4403570424545, 1087.2511208990832, 1604.5081986144594, 875.2255248465868, 549.7353217922998, 504.0897321262619, 1646.3218748848076, 1638.6345147716613, 1132.2502953568335, 3342.1577160219335, 1178.6825947180096, 6352.428456244336, 1151.0607012159658, 1343.5940085858158, 1424.7746850507074, 2895.58467123071, 2084.9356736002937, 1696.5034913167501, 10496.780017398192, 1629.9642432291184, 1389.7147344951995, 994.4541334566483, 993.6888678829465, 760.1648172326237, 615.8025674438815, 611.6856468969536, 588.8266163159954, 538.1755208116631, 470.67093626003964, 466.74411093093846, 466.23282040155993, 462.7287869346526, 427.05655150681633, 402.31114661471736, 390.0202108425268, 351.5405209753798, 340.8610985236749, 337.3497973603873, 327.9364879315159, 320.56309438214646, 305.10283541169593, 285.3195757178726, 273.27642244409583, 272.49244107313166, 259.74785799261207, 257.26801287350526, 255.38163382350234, 254.26461021116086, 249.66392569540213, 249.16105464286147, 1328.6569179336552, 327.69632762348493, 1130.6796518094545, 308.6889409906135, 2348.858570725908, 1154.9366824399833, 1783.3324635732702, 491.5491772012629, 10496.780017398192, 868.0329244837071, 733.3601874035073, 1874.6991969259298, 1796.3143302898072, 826.7695288631194, 498.8575484902719, 4557.056677539461, 2143.589511173954, 2356.6061396618065, 2562.464549893979, 2734.418221039477, 1424.7746850507074, 2569.2138469005954, 1406.2423098733987, 1372.1389630792257, 932.2477558329056, 591.5848862718652, 484.73025324731697, 451.3798611851484, 424.5731305821514, 767.4219949861923, 403.3232099774786, 375.7602548662158, 360.408180693242, 357.8122930858255, 341.97976982551734, 337.60792343867274, 325.9583879215562, 322.3631868482928, 316.93942180302855, 313.89609638147203, 272.8750498705539, 273.2909663368858, 272.84897881045686, 271.00292901931107, 269.4376174062409, 266.5072928870809, 260.80185725898883, 257.205094252402, 253.01454276429973, 243.77237432157773, 237.7292567396812, 229.5203734236175, 769.9581437692866, 693.6233305473422, 1020.7765844714925, 1248.6407458820104, 1578.3592409986609, 1524.1306296279413, 1081.8598293568298, 946.484835294596, 2507.9892900538007, 4557.056677539461, 980.315654010659, 1874.6991969259298, 2484.759980669722, 10496.780017398192, 1783.3324635732702, 910.8663072770787, 2612.9055922868497, 580.7508027440961, 2356.6061396618065, 2734.418221039477, 2084.9356736002937, 2562.464549893979, 6352.428456244336, 2569.2138469005954, 2564.534126382803], \"Category\": [\"Default\", \"Default\", \"Default\", \"Default\", \"Default\", \"Default\", \"Default\", \"Default\", \"Default\", \"Default\", \"Default\", \"Default\", \"Default\", \"Default\", \"Default\", \"Default\", \"Default\", \"Default\", \"Default\", \"Default\", \"Default\", \"Default\", \"Default\", \"Default\", \"Default\", \"Default\", \"Default\", \"Default\", \"Default\", \"Default\", \"Topic1\", \"Topic1\", \"Topic1\", \"Topic1\", \"Topic1\", \"Topic1\", \"Topic1\", \"Topic1\", \"Topic1\", \"Topic1\", \"Topic1\", \"Topic1\", \"Topic1\", \"Topic1\", \"Topic1\", \"Topic1\", \"Topic1\", \"Topic1\", \"Topic1\", \"Topic1\", \"Topic1\", \"Topic1\", \"Topic1\", \"Topic1\", \"Topic1\", \"Topic1\", \"Topic1\", \"Topic1\", \"Topic1\", \"Topic1\", \"Topic1\", \"Topic1\", \"Topic1\", \"Topic1\", \"Topic1\", \"Topic1\", \"Topic1\", \"Topic1\", \"Topic1\", \"Topic1\", \"Topic1\", \"Topic1\", \"Topic1\", \"Topic1\", \"Topic1\", \"Topic1\", \"Topic1\", \"Topic1\", \"Topic1\", \"Topic1\", \"Topic1\", \"Topic1\", \"Topic2\", \"Topic2\", \"Topic2\", \"Topic2\", \"Topic2\", \"Topic2\", \"Topic2\", \"Topic2\", \"Topic2\", \"Topic2\", \"Topic2\", \"Topic2\", \"Topic2\", \"Topic2\", \"Topic2\", \"Topic2\", \"Topic2\", \"Topic2\", \"Topic2\", \"Topic2\", \"Topic2\", \"Topic2\", \"Topic2\", \"Topic2\", \"Topic2\", \"Topic2\", \"Topic2\", \"Topic2\", \"Topic2\", \"Topic2\", \"Topic2\", \"Topic2\", \"Topic2\", \"Topic2\", \"Topic2\", \"Topic2\", \"Topic2\", \"Topic2\", \"Topic2\", \"Topic2\", \"Topic2\", \"Topic2\", \"Topic2\", \"Topic2\", \"Topic2\", \"Topic2\", \"Topic2\", \"Topic2\", \"Topic3\", \"Topic3\", \"Topic3\", \"Topic3\", \"Topic3\", \"Topic3\", \"Topic3\", \"Topic3\", \"Topic3\", \"Topic3\", \"Topic3\", \"Topic3\", \"Topic3\", \"Topic3\", \"Topic3\", \"Topic3\", \"Topic3\", \"Topic3\", \"Topic3\", \"Topic3\", \"Topic3\", \"Topic3\", \"Topic3\", \"Topic3\", \"Topic3\", \"Topic3\", \"Topic3\", \"Topic3\", \"Topic3\", \"Topic3\", \"Topic3\", \"Topic3\", \"Topic3\", \"Topic3\", \"Topic3\", \"Topic3\", \"Topic3\", \"Topic3\", \"Topic3\", \"Topic3\", \"Topic3\", \"Topic3\", \"Topic3\", \"Topic3\", \"Topic3\", \"Topic3\", \"Topic3\", \"Topic3\", \"Topic3\", \"Topic3\", \"Topic3\", \"Topic3\", \"Topic3\", \"Topic3\", \"Topic3\", \"Topic3\", \"Topic4\", \"Topic4\", \"Topic4\", \"Topic4\", \"Topic4\", \"Topic4\", \"Topic4\", \"Topic4\", \"Topic4\", \"Topic4\", \"Topic4\", \"Topic4\", \"Topic4\", \"Topic4\", \"Topic4\", \"Topic4\", \"Topic4\", \"Topic4\", \"Topic4\", \"Topic4\", \"Topic4\", \"Topic4\", \"Topic4\", \"Topic4\", \"Topic4\", \"Topic4\", \"Topic4\", \"Topic4\", \"Topic4\", \"Topic4\", \"Topic4\", \"Topic4\", \"Topic4\", \"Topic4\", \"Topic4\", \"Topic4\", \"Topic4\", \"Topic4\", \"Topic4\", \"Topic4\", \"Topic4\", \"Topic4\", \"Topic4\", \"Topic4\", \"Topic4\", \"Topic4\", \"Topic4\", \"Topic4\", \"Topic4\", \"Topic4\", \"Topic5\", \"Topic5\", \"Topic5\", \"Topic5\", \"Topic5\", \"Topic5\", \"Topic5\", \"Topic5\", \"Topic5\", \"Topic5\", \"Topic5\", \"Topic5\", \"Topic5\", \"Topic5\", \"Topic5\", \"Topic5\", \"Topic5\", \"Topic5\", \"Topic5\", \"Topic5\", \"Topic5\", \"Topic5\", \"Topic5\", \"Topic5\", \"Topic5\", \"Topic5\", \"Topic5\", \"Topic5\", \"Topic5\", \"Topic5\", \"Topic5\", \"Topic5\", \"Topic5\", \"Topic5\", \"Topic5\", \"Topic5\", \"Topic5\", \"Topic5\", \"Topic5\", \"Topic5\", \"Topic5\", \"Topic5\", \"Topic5\", \"Topic5\", \"Topic5\", \"Topic5\", \"Topic5\", \"Topic5\", \"Topic5\", \"Topic5\", \"Topic5\", \"Topic5\", \"Topic6\", \"Topic6\", \"Topic6\", \"Topic6\", \"Topic6\", \"Topic6\", \"Topic6\", \"Topic6\", \"Topic6\", \"Topic6\", \"Topic6\", \"Topic6\", \"Topic6\", \"Topic6\", \"Topic6\", \"Topic6\", \"Topic6\", \"Topic6\", \"Topic6\", \"Topic6\", \"Topic6\", \"Topic6\", \"Topic6\", \"Topic6\", \"Topic6\", \"Topic6\", \"Topic6\", \"Topic6\", \"Topic6\", \"Topic6\", \"Topic6\", \"Topic6\", \"Topic6\", \"Topic6\", \"Topic6\", \"Topic6\", \"Topic6\", \"Topic6\", \"Topic6\", \"Topic6\", \"Topic6\", \"Topic6\", \"Topic6\", \"Topic6\", \"Topic6\", \"Topic6\", \"Topic6\", \"Topic6\", \"Topic6\", \"Topic6\", \"Topic6\", \"Topic6\", \"Topic6\", \"Topic6\", \"Topic6\"], \"logprob\": [30.0, 29.0, 28.0, 27.0, 26.0, 25.0, 24.0, 23.0, 22.0, 21.0, 20.0, 19.0, 18.0, 17.0, 16.0, 15.0, 14.0, 13.0, 12.0, 11.0, 10.0, 9.0, 8.0, 7.0, 6.0, 5.0, 4.0, 3.0, 2.0, 1.0, -4.652, -4.6694, -4.8135, -4.8248, -4.8595, -5.1067, -5.1421, -5.1656, -5.3144, -5.3328, -5.4035, -5.4406, -5.5029, -5.5063, -5.5226, -5.5406, -5.6413, -5.6999, -5.7337, -5.7326, -5.7388, -5.7817, -5.9015, -5.9356, -5.9399, -5.9462, -5.9966, -6.0035, -6.0357, -6.0405, -5.3487, -4.6305, -4.5076, -4.9009, -4.7031, -5.1778, -5.4373, -4.6164, -4.2565, -4.8078, -4.642, -4.2294, -5.2752, -3.7719, -4.1326, -4.4823, -4.9042, -4.9546, -5.0504, -5.0614, -5.2154, -5.2461, -4.179, -4.4176, -4.4759, -4.5636, -4.632, -4.7266, -4.8538, -4.9434, -5.0165, -5.0842, -5.122, -5.1301, -5.2143, -5.3209, -5.3438, -5.4015, -5.4335, -5.5542, -5.6619, -5.685, -5.6946, -5.7046, -5.7651, -5.8357, -5.8876, -5.8882, -5.8929, -5.9185, -5.946, -5.9435, -5.325, -5.6095, -5.3835, -5.3016, -5.1852, -5.1135, -4.7953, -4.9399, -4.8495, -5.0321, -5.1111, -4.7002, -5.2015, -4.6199, -4.9067, -5.2972, -5.2392, -5.3167, -4.8184, -4.9787, -5.0174, -5.0502, -5.1432, -5.2905, -5.3685, -5.4558, -5.5399, -5.5449, -5.6102, -5.6274, -5.7761, -5.8084, -5.8423, -5.8742, -5.8967, -5.9353, -5.967, -6.0007, -6.0264, -6.0264, -6.0346, -6.0556, -6.0938, -6.1053, -6.1336, -6.1983, -6.1952, -6.2104, -4.8106, -4.6946, -5.0827, -5.0508, -5.2803, -4.3088, -5.0178, -5.6316, -5.8063, -5.6393, -5.329, -5.5405, -5.1243, -5.2792, -4.5897, -5.1087, -5.0036, -5.1961, -5.2592, -4.1196, -4.8874, -5.4165, -5.0685, -4.9801, -5.3568, -5.5226, -4.5523, -4.6519, -4.6528, -4.9192, -5.0497, -5.1619, -5.1727, -5.2269, -5.2767, -5.3251, -5.3363, -5.4548, -5.5196, -5.5274, -5.535, -5.5699, -5.5706, -5.781, -5.7986, -5.8041, -5.8408, -5.8743, -5.8876, -5.9031, -5.9367, -5.9416, -5.955, -5.9833, -6.0369, -6.0346, -4.6715, -4.785, -4.4716, -5.0167, -5.4278, -5.5138, -4.6447, -4.6855, -5.0309, -4.4263, -5.0726, -4.1263, -5.1695, -5.1027, -5.1368, -4.948, -5.254, -5.3528, -5.2534, -5.4495, -4.3052, -4.6401, -4.6408, -4.909, -5.1198, -5.1266, -5.1647, -5.2548, -5.389, -5.3974, -5.3985, -5.4061, -5.4865, -5.5463, -5.5774, -5.6815, -5.7124, -5.7228, -5.7511, -5.7739, -5.8235, -5.8907, -5.934, -5.9369, -5.9849, -5.9946, -6.0019, -6.0063, -6.0246, -6.0267, -4.4803, -5.7876, -4.7194, -5.8518, -4.2598, -4.8259, -4.5098, -5.5359, -3.5297, -5.2865, -5.3809, -4.9122, -4.94, -5.3616, -5.5923, -4.9364, -5.1838, -5.2782, -5.3468, -5.355, -5.4415, -5.4579, -4.2291, -4.2537, -4.6405, -5.0958, -5.2953, -5.3667, -5.4281, -4.8361, -5.4795, -5.5505, -5.5923, -5.5995, -5.6449, -5.6578, -5.693, -5.7041, -5.7211, -5.7308, -5.8712, -5.8697, -5.8713, -5.8781, -5.884, -5.8949, -5.9166, -5.9306, -5.9471, -5.9844, -6.0096, -6.0448, -4.9986, -5.1056, -4.8308, -4.6897, -4.6452, -4.7012, -4.9919, -5.0825, -4.4863, -4.1458, -5.1519, -4.8493, -4.7182, -4.0297, -4.999, -5.2771, -4.9895, -5.4838, -5.1162, -5.1085, -5.2383, -5.2239, -5.1051, -5.2249, -5.2991], \"loglift\": [30.0, 29.0, 28.0, 27.0, 26.0, 25.0, 24.0, 23.0, 22.0, 21.0, 20.0, 19.0, 18.0, 17.0, 16.0, 15.0, 14.0, 13.0, 12.0, 11.0, 10.0, 9.0, 8.0, 7.0, 6.0, 5.0, 4.0, 3.0, 2.0, 1.0, 1.6212, 1.6212, 1.6211, 1.6211, 1.6211, 1.6208, 1.6208, 1.6208, 1.6206, 1.6206, 1.6205, 1.6205, 1.6204, 1.6204, 1.6203, 1.6203, 1.6201, 1.62, 1.62, 1.62, 1.62, 1.6199, 1.6196, 1.6196, 1.6196, 1.6195, 1.6194, 1.6194, 1.6193, 1.6193, 1.5327, 1.4126, 1.3927, 1.4479, 1.3604, 1.4468, 1.488, 1.2361, 1.096, 1.2628, 1.098, 0.8131, 1.3632, 0.4361, 0.5777, 0.6209, 0.7139, 0.5986, 0.5482, 0.5541, 0.758, 0.4558, 1.6756, 1.6755, 1.6755, 1.6754, 1.6754, 1.6753, 1.6752, 1.6751, 1.6751, 1.675, 1.675, 1.675, 1.6749, 1.6747, 1.6747, 1.6746, 1.6746, 1.6744, 1.6742, 1.6742, 1.6741, 1.6741, 1.674, 1.6739, 1.6737, 1.6737, 1.6737, 1.6737, 1.6736, 1.6736, 1.6109, 1.6154, 1.5609, 1.4973, 1.4516, 1.4082, 1.1907, 1.2504, 1.1415, 1.1587, 1.2138, 0.8439, 1.0067, 0.0904, 0.1965, 1.0511, 0.4698, 0.5357, 1.7656, 1.7655, 1.7654, 1.7654, 1.7653, 1.7651, 1.765, 1.7649, 1.7647, 1.7647, 1.7646, 1.7646, 1.7643, 1.7642, 1.7641, 1.764, 1.764, 1.7639, 1.7638, 1.7637, 1.7636, 1.7636, 1.7636, 1.7635, 1.7634, 1.7634, 1.7633, 1.7631, 1.7631, 1.763, 1.6532, 1.6054, 1.6298, 1.5891, 1.5846, 1.3401, 1.5065, 1.6255, 1.6831, 1.6079, 1.456, 1.5509, 1.3158, 1.3694, 0.9062, 1.2112, 1.1045, 1.2145, 1.232, 0.0885, 0.8216, 1.3716, 0.6367, 0.1231, 0.4231, 0.117, 1.8203, 1.8202, 1.8202, 1.82, 1.8198, 1.8197, 1.8197, 1.8196, 1.8195, 1.8195, 1.8194, 1.8193, 1.8191, 1.8191, 1.8191, 1.819, 1.819, 1.8186, 1.8186, 1.8185, 1.8184, 1.8184, 1.8183, 1.8183, 1.8182, 1.8182, 1.8182, 1.8181, 1.8179, 1.8179, 1.7544, 1.6904, 1.6147, 1.6757, 1.7296, 1.7304, 1.4159, 1.3798, 1.404, 0.9262, 1.3222, 0.584, 1.2489, 1.161, 1.0683, 0.5479, 0.5704, 0.6778, -1.0453, 0.6211, 1.9249, 1.9246, 1.9246, 1.9244, 1.9241, 1.9241, 1.9241, 1.9239, 1.9237, 1.9237, 1.9237, 1.9237, 1.9235, 1.9234, 1.9233, 1.9231, 1.923, 1.923, 1.9229, 1.9229, 1.9227, 1.9225, 1.9224, 1.9224, 1.9222, 1.9222, 1.9222, 1.9222, 1.9221, 1.9221, 1.7946, 1.8872, 1.7169, 1.8828, 1.4454, 1.5892, 1.4708, 1.7335, 0.6784, 1.4142, 1.4883, 1.0185, 1.0334, 1.3878, 1.6622, 0.106, 0.6129, 0.4237, 0.2714, 0.1982, 0.7636, 0.1576, 1.9891, 1.9891, 1.9888, 1.9883, 1.988, 1.9878, 1.9877, 1.9877, 1.9876, 1.9875, 1.9874, 1.9874, 1.9873, 1.9872, 1.9871, 1.9871, 1.9871, 1.987, 1.9866, 1.9866, 1.9866, 1.9866, 1.9866, 1.9865, 1.9865, 1.9865, 1.9864, 1.9863, 1.9862, 1.986, 1.822, 1.8194, 1.7077, 1.6474, 1.4576, 1.4365, 1.4885, 1.5316, 1.1534, 0.8966, 1.4271, 1.0814, 0.9308, 0.1784, 0.9817, 1.3753, 0.6091, 1.6188, 0.5857, 0.4447, 0.5861, 0.3942, -0.3948, 0.3906, 0.3182]}, \"token.table\": {\"Topic\": [4, 3, 5, 4, 3, 1, 2, 5, 6, 1, 5, 1, 5, 1, 2, 4, 5, 4, 4, 6, 5, 6, 5, 2, 5, 5, 1, 6, 6, 2, 1, 2, 6, 1, 6, 5, 5, 1, 1, 2, 5, 6, 3, 1, 4, 3, 1, 5, 2, 2, 1, 3, 4, 6, 1, 2, 4, 5, 5, 1, 6, 1, 2, 5, 2, 1, 2, 3, 4, 6, 3, 1, 4, 1, 4, 3, 1, 4, 1, 3, 5, 6, 5, 6, 2, 1, 5, 5, 1, 2, 3, 4, 5, 6, 6, 5, 3, 3, 3, 4, 5, 4, 1, 3, 1, 3, 3, 1, 2, 3, 6, 4, 4, 2, 1, 2, 4, 6, 1, 3, 4, 3, 1, 2, 2, 1, 2, 5, 6, 5, 6, 6, 1, 2, 5, 6, 2, 6, 6, 3, 2, 2, 1, 2, 3, 4, 1, 5, 6, 2, 1, 2, 4, 5, 1, 3, 1, 5, 5, 3, 1, 6, 1, 6, 4, 4, 1, 1, 6, 5, 6, 5, 6, 6, 2, 3, 5, 4, 3, 5, 2, 3, 4, 6, 1, 4, 5, 1, 2, 3, 4, 5, 3, 5, 6, 2, 2, 3, 4, 1, 2, 3, 4, 3, 3, 1, 1, 1, 1, 2, 3, 4, 6, 1, 4, 2, 3, 4, 2, 1, 2, 3, 5, 6, 4, 5, 5, 1, 4, 6, 2, 4, 1, 2, 4, 5, 6, 4, 5, 4, 1, 3, 5, 6, 1, 2, 3, 4, 6, 1, 2, 4, 1, 2, 3, 4, 5, 6, 2, 5, 6, 6, 1, 4, 6, 5, 6, 6, 2, 4, 1, 2, 4, 6, 6, 4, 6, 6, 3, 4, 5, 4, 1, 4, 1, 3, 4, 5, 6, 2, 2, 4, 1, 2, 3, 5, 3, 3, 3, 6, 3, 6, 1, 6, 6, 1, 1, 1, 4, 1, 3, 1, 1, 3, 5, 2, 4, 1, 4, 5, 1, 4, 5, 6, 3, 3, 1, 1, 2, 5, 6, 1, 2, 3, 1, 2, 6, 2, 3, 4, 6, 1, 2, 5, 6, 1, 3, 4, 5, 6, 2, 4, 2, 1, 2, 4, 5, 6, 1, 4, 5, 6, 2, 4, 5, 4, 1, 4, 1, 4, 4, 5, 2, 4, 5, 3, 2, 1, 2, 3, 4, 6, 1, 2, 3, 5, 6, 1, 6, 2, 5, 6, 6, 5, 6, 5, 3, 6, 2, 1, 4, 3, 5, 5, 3, 3, 2, 1, 2, 4, 5, 6, 1, 2, 3, 4, 5, 2, 1, 2, 3, 4, 5, 6, 6, 6, 5, 5, 3, 1, 2, 4, 5, 6, 1, 6, 1, 2, 5, 6, 4, 3, 4, 5, 4, 4, 2, 5, 3, 3, 1, 3, 5, 3, 5, 2, 3, 4, 6, 4, 1, 2, 4, 5, 6, 1, 2, 3, 4, 5, 6, 2, 3, 2, 4, 6, 4, 3, 3, 4, 5, 6, 1, 2, 4, 6, 5, 6, 1, 2, 3, 4, 5, 6, 1, 2, 4, 5, 6, 1, 2], \"Freq\": [0.9963881935086305, 0.23052673122423964, 0.7677542439902938, 0.997462893583872, 0.997756199652186, 0.11747058722576222, 0.03952281439371439, 0.3019103877297627, 0.541242986002811, 0.03887408457682613, 0.9588940862283779, 0.99823988356962, 0.998505633244691, 0.21603353085073324, 0.06529827062437417, 0.6432184788606577, 0.07567276221890092, 0.9975371469524578, 0.9975508081749709, 0.9967932213994317, 0.9612558135284546, 0.03661926908679827, 0.9984624219879971, 0.9981094560458832, 0.9993067569686936, 0.9978157296900272, 0.7718538304748573, 0.22733422776959333, 0.9969254158409134, 0.9969229290176667, 0.06268086053125468, 0.9372975191069014, 0.9969324064287142, 0.9993144350285725, 0.9962991949092934, 0.997144300905877, 0.9985961634663068, 0.9978857210991349, 0.14030512246805973, 0.08466688424796708, 0.5842015013109728, 0.19110525301683998, 0.9986872053822359, 0.4822885453932954, 0.5165250779366467, 0.9988980324117698, 0.1729226778162159, 0.8259600846280429, 0.9987020088722679, 0.997814885127964, 0.07040893186811542, 0.6739140621662475, 0.1370459566718675, 0.11818642135005088, 0.2626628478817332, 0.07488195224698535, 0.062209621866726295, 0.6002076480104518, 0.9967409637397568, 0.15325508400019988, 0.845500505797713, 0.9987864426234825, 0.28486410121196976, 0.7143248738598026, 0.999535489870721, 0.08216760467569391, 0.2592419775426932, 0.515936122382264, 0.0847154373788162, 0.05796319399603214, 0.9983782646006373, 0.5909356074167502, 0.4087179948006485, 0.063898302917959, 0.9357162440999751, 0.9961389646642264, 0.6981748248326668, 0.3012336019269239, 0.9990197243795279, 0.17058905250363557, 0.25457135527465613, 0.5754099963295707, 0.9995433339342965, 0.997059784447741, 0.9987119323110496, 0.9988410630794637, 0.9950712377363108, 0.9973407223588555, 0.07569381189522795, 0.28855398595211135, 0.26102896344475573, 0.03303002700882674, 0.12478010203334546, 0.21744767780810936, 0.9971452452203068, 0.9985745109622215, 0.9977488605348669, 0.9972695463420015, 0.99750040853195, 0.9980770930020101, 0.9973557837466309, 0.998673262464934, 0.1452588403575763, 0.853644417991784, 0.9982897217634054, 0.9976002052526429, 0.9992094814619435, 0.8754458046213138, 0.12403350773876934, 0.5858062006705506, 0.4129606709671186, 0.9971916243535748, 0.9974371055368153, 0.9980128363400935, 0.17961196382727784, 0.10671063733267683, 0.0802971132404301, 0.6328680372502319, 0.8391314399658286, 0.16013958777973827, 0.9963831047888724, 0.9988701672391938, 0.9990928971369782, 0.9970779440910635, 0.9991519195701276, 0.998641102527426, 0.9980770232752022, 0.811901053079802, 0.1874978466807386, 0.3082217005197583, 0.6904854855219166, 0.9968315756708395, 0.31146485942081753, 0.21980762558580855, 0.22277799890453567, 0.24569230736328793, 0.9995409194787489, 0.9959901800378137, 0.9971350064770872, 0.9973078240502642, 0.9966244006972196, 0.9986571896477354, 0.152915180986314, 0.11280628105547752, 0.7332408268606039, 0.9973869556099503, 0.1925642260859534, 0.40379811398079424, 0.4032646950719689, 0.9970396042065585, 0.42141844956381874, 0.04676241712465096, 0.12191630178926857, 0.40972784528265604, 0.9980291489550365, 0.9964938510650343, 0.9984735657696123, 0.9953401439702296, 0.9953750957516584, 0.9990040048698591, 0.9983734786620396, 0.9967192317606703, 0.9151480647884301, 0.08419914321582841, 0.9991184311611228, 0.9975180200178259, 0.9966936254865703, 0.9993730709282975, 0.9981993211756383, 0.8775779392421172, 0.12192763821374185, 0.9988790861769737, 0.9988674488674012, 0.998493485309768, 0.16562770006040206, 0.8335689166974333, 0.9975259681578741, 0.998723408408102, 0.9958264529081232, 0.999485696972581, 0.06062062778373886, 0.8720044150430128, 0.06644953430140606, 0.9970359578569169, 0.9990774506650377, 0.8649199303604521, 0.13482239337190666, 0.13812084411761283, 0.6156243337813601, 0.1031678141776455, 0.06088592312123341, 0.08230874792314886, 0.0953036334850191, 0.19381075044852625, 0.7103724613547223, 0.9986298603770165, 0.05093699868899012, 0.8512652962720622, 0.09724336113352659, 0.04568122893906625, 0.19737738541596553, 0.5757558666282313, 0.18100109579630025, 0.9974890202837943, 0.9955326287695643, 0.9984710735112008, 0.9989527658659484, 0.9984615516753428, 0.0566379569658017, 0.18510942032725433, 0.42305791026284806, 0.28008160426381207, 0.05525654338126995, 0.7700184562727933, 0.22966531488516068, 0.9982853536754082, 0.9203199372701153, 0.07859481557954152, 0.9962289102220503, 0.0561043779878292, 0.17545369116193857, 0.18361432796016827, 0.015301193996680689, 0.5702244962763003, 0.9991413403646505, 0.9984250235662223, 0.9986967130598159, 0.7953353341889209, 0.20439652375056847, 0.9991165748145421, 0.9973891253777373, 0.9987376882143815, 0.3417651225655017, 0.17528379186450144, 0.07883943476874955, 0.1523208496988462, 0.25144421671392453, 0.9993241632391993, 0.9963853649206249, 0.996725823322352, 0.1266337803497585, 0.20058051340071237, 0.06655205974585848, 0.6054388768546848, 0.03499455669998817, 0.13451032731557952, 0.6725516365778975, 0.08857997164684504, 0.0688955335031017, 0.034750556558611125, 0.40050016433799324, 0.5646965440774308, 0.3519913707649942, 0.20480356590575022, 0.05462477891567665, 0.290282686802616, 0.006139384373808039, 0.09209076560712058, 0.9997503415134104, 0.15570410515859748, 0.8433972362757364, 0.9991584445434694, 0.2605430982970329, 0.6588649197613103, 0.0803709218475593, 0.6347666647259969, 0.3650469070111519, 0.999169936056134, 0.999011752056057, 0.9984609552355034, 0.17672463698736576, 0.5118677732661948, 0.16757156813941454, 0.14363277269092675, 0.9952762202344646, 0.9967038879484655, 0.9990113231669066, 0.9977298346045628, 0.32313567511450175, 0.057900463525128114, 0.6185983345736115, 0.998445574929183, 0.9992578367341186, 0.9983711490850214, 0.31991394672057955, 0.09832437642836403, 0.2863397694035772, 0.049881634870974925, 0.24557112551864577, 0.9989625182465091, 0.7648297439402815, 0.23407257906484683, 0.09186666488631465, 0.7986995923645474, 0.10807842927801724, 0.9984676780532092, 0.998110774190955, 0.9979728513331647, 0.6527793479524808, 0.34691479527437635, 0.805439313610009, 0.19241996287089008, 0.8111797219491432, 0.18861868442673235, 0.9986615619881104, 0.9980277926869775, 0.9992550726880385, 0.08530227310646664, 0.9125359448598757, 0.9962683832773923, 0.9989634374250903, 0.9972209480082048, 0.9985288665971981, 0.99731595624911, 0.9973842103199654, 0.8908702351575548, 0.10731605142987045, 0.10605060307173303, 0.6074578543948868, 0.28591242588139226, 0.5920148660611911, 0.05995087251252569, 0.1899913680360189, 0.15781185558444263, 0.9979591356706283, 0.9964971054921369, 0.9971024824739986, 0.44546296955342657, 0.057273810371154844, 0.16216607610836561, 0.33508470665422774, 0.9964178666352408, 0.22790666389633174, 0.7706335499545455, 0.9991840452431988, 0.9419308826229644, 0.05838414561712589, 0.6298166729482101, 0.1859383393754138, 0.183564658447217, 0.9986501016176752, 0.999477951734401, 0.5964235059436112, 0.21933439835745328, 0.18404716076682198, 0.3055222644167511, 0.18672392836196827, 0.05687458430208931, 0.2873262081324981, 0.16347870462711098, 0.9988848935505233, 0.9979790441037086, 0.9989599158977992, 0.22752531411690996, 0.6535301575698478, 0.02766265217226869, 0.05325060543161723, 0.03803614673686945, 0.03930446026840165, 0.47095165785888404, 0.3130319514233417, 0.17687007120780743, 0.8362884350873885, 0.11057309096140243, 0.05338011287791841, 0.9966310591683212, 0.18572669199031322, 0.8139565763065405, 0.840284407371953, 0.1588194251156247, 0.9990972855995939, 0.9974737553584012, 0.9985187923476546, 0.9131667187826524, 0.08549568881032801, 0.9964344626871701, 0.9988915192814574, 0.05912878766966006, 0.5353990225978807, 0.1555168114051333, 0.18629618032906595, 0.06398868802607047, 0.05303052948728777, 0.1742431683153741, 0.19218582866821582, 0.14712981489330215, 0.43341492896753236, 0.9991702118674795, 0.9968884662344782, 0.585838142262917, 0.2164314993659906, 0.19716796277320608, 0.9979767555073474, 0.9950264009996884, 0.9980965140518844, 0.9982434210549666, 0.24491157399484983, 0.7543276479041374, 0.9997365021352964, 0.12140709488608752, 0.8774421857676326, 0.8369137614170535, 0.16152869229422406, 0.9953291892777287, 0.9981188981717364, 0.9993056673332368, 0.9976570929811455, 0.4035177774626312, 0.1580509669945509, 0.04448842033920692, 0.19122215759834554, 0.20292963663497893, 0.1594053883731806, 0.2991522033813041, 0.38889786439569535, 0.114532557865985, 0.03760770556793537, 0.9976646833886079, 0.1137633968853209, 0.1703503715018536, 0.05658697461653268, 0.31889117987025184, 0.19923330646237547, 0.14146743654133168, 0.9988733612797304, 0.9983758117724849, 0.9971208309535575, 0.9984057411469974, 0.9996289520668826, 0.34368489842339073, 0.18021076780297837, 0.10314439193906969, 0.17086938891038336, 0.20200731855236667, 0.0013030640332611163, 0.9981470494780151, 0.08489828964109299, 0.2432906210610426, 0.08426472031541318, 0.5873187649051731, 0.9979678028804567, 0.23810653674721297, 0.66694126874602, 0.09475668299123782, 0.9993481439223466, 0.9984929461896562, 0.9994605318717085, 0.9989631019104671, 0.9984161477618904, 0.9977797934211116, 0.9971411328775608, 0.8927211596388672, 0.1063629080221461, 0.3531688854245012, 0.6463399679197435, 0.10920220692490203, 0.637456785138859, 0.19443319769555725, 0.059484128975353136, 0.999222514092526, 0.35949146053682923, 0.19857971828229734, 0.05083348221222713, 0.177734333490233, 0.2132080584872548, 0.14895492950167885, 0.21446390373278368, 0.15168447009464156, 0.18170941661723128, 0.11542057364527995, 0.18794836654400315, 0.13063782692487783, 0.8682390958699573, 0.9995700372485002, 0.9977311143116139, 0.9977327789430829, 0.9987653685563125, 0.9967706869290082, 0.5738738004901591, 0.263714297893283, 0.09682644370410093, 0.06533816932878356, 0.24316562689812501, 0.43523385678785115, 0.14713151195326193, 0.1743109784470911, 0.9981928266663386, 0.995314656360502, 0.36749794286337595, 0.22782074249842532, 0.1933095143615093, 0.09094174982025167, 0.08417941457720732, 0.036376699928100664, 0.20433016569488893, 0.2673086414227656, 0.059246417906965505, 0.26917467033322123, 0.20013160064636382, 0.6797593818524211, 0.3196546294922851], \"Term\": [\"access\", \"accuse\", \"accuse\", \"acquire\", \"administration\", \"afp\", \"afp\", \"afp\", \"afp\", \"aid\", \"aid\", \"airline\", \"allege\", \"announce\", \"announce\", \"announce\", \"announce\", \"apple\", \"application\", \"arafat\", \"army\", \"army\", \"arrest\", \"athens\", \"attack\", \"baghdad\", \"bank\", \"bank\", \"barrel\", \"baseball\", \"beat\", \"beat\", \"beijing\", \"billion\", \"blair\", \"body\", \"bomb\", \"boost\", \"british\", \"british\", \"british\", \"british\", \"bush\", \"business\", \"business\", \"campaign\", \"car\", \"car\", \"champion\", \"championship\", \"change\", \"change\", \"change\", \"change\", \"charge\", \"charge\", \"charge\", \"charge\", \"child\", \"china\", \"china\", \"chip\", \"city\", \"city\", \"coach\", \"come\", \"come\", \"come\", \"come\", \"come\", \"committee\", \"company\", \"company\", \"computer\", \"computer\", \"congress\", \"corp\", \"corp\", \"cost\", \"country\", \"country\", \"country\", \"court\", \"crude\", \"cup\", \"cut\", \"damage\", \"darfur\", \"day\", \"day\", \"day\", \"day\", \"day\", \"day\", \"dead\", \"death\", \"debate\", \"democrat\", \"democratic\", \"design\", \"die\", \"digital\", \"director\", \"director\", \"dollar\", \"donald\", \"dont\", \"earn\", \"earn\", \"election\", \"election\", \"email\", \"engine\", \"england\", \"european\", \"european\", \"european\", \"european\", \"executive\", \"executive\", \"feature\", \"feel\", \"fell\", \"field\", \"final\", \"financial\", \"football\", \"force\", \"force\", \"foreign\", \"foreign\", \"fresh\", \"friday\", \"friday\", \"friday\", \"friday\", \"game\", \"gas\", \"gaza\", \"george\", \"goal\", \"gold\", \"good\", \"good\", \"good\", \"google\", \"government\", \"government\", \"government\", \"grand\", \"group\", \"group\", \"group\", \"group\", \"growth\", \"happen\", \"higher\", \"hospital\", \"hostage\", \"house\", \"href\", \"hurricane\", \"increase\", \"increase\", \"internet\", \"introduce\", \"investment\", \"investor\", \"iran\", \"iraq\", \"iraq\", \"iraqi\", \"israel\", \"israeli\", \"john\", \"john\", \"judge\", \"justice\", \"kerry\", \"kill\", \"know\", \"know\", \"know\", \"korea\", \"largest\", \"launch\", \"launch\", \"lead\", \"lead\", \"lead\", \"lead\", \"lead\", \"leader\", \"leader\", \"leader\", \"league\", \"like\", \"like\", \"like\", \"look\", \"look\", \"look\", \"look\", \"lot\", \"love\", \"low\", \"lower\", \"lta\", \"make\", \"make\", \"make\", \"make\", \"make\", \"market\", \"market\", \"match\", \"mean\", \"mean\", \"medal\", \"meet\", \"meet\", \"meet\", \"meet\", \"meet\", \"microsoft\", \"militant\", \"military\", \"million\", \"million\", \"minister\", \"minute\", \"mobile\", \"monday\", \"monday\", \"monday\", \"monday\", \"monday\", \"music\", \"muslim\", \"nasa\", \"nation\", \"nation\", \"nation\", \"nation\", \"need\", \"need\", \"need\", \"need\", \"need\", \"network\", \"network\", \"network\", \"new\", \"new\", \"new\", \"new\", \"new\", \"new\", \"night\", \"north\", \"north\", \"nuclear\", \"offer\", \"offer\", \"offer\", \"official\", \"official\", \"oil\", \"olympic\", \"online\", \"open\", \"open\", \"open\", \"open\", \"opposition\", \"oracle\", \"palestinian\", \"peace\", \"people\", \"people\", \"people\", \"peoplesoft\", \"percent\", \"phone\", \"plan\", \"plan\", \"plan\", \"plan\", \"plan\", \"play\", \"player\", \"player\", \"point\", \"point\", \"point\", \"police\", \"policy\", \"poll\", \"president\", \"president\", \"presidential\", \"presidential\", \"price\", \"price\", \"prime\", \"profile\", \"profit\", \"provide\", \"provide\", \"quarterly\", \"question\", \"quote\", \"rat\", \"really\", \"rebel\", \"red\", \"red\", \"release\", \"release\", \"release\", \"report\", \"report\", \"report\", \"report\", \"republican\", \"researcher\", \"retailer\", \"reuters\", \"reuters\", \"reuters\", \"reuters\", \"revenue\", \"right\", \"right\", \"rise\", \"round\", \"round\", \"run\", \"run\", \"run\", \"russian\", \"sale\", \"saturday\", \"saturday\", \"saturday\", \"say\", \"say\", \"say\", \"say\", \"say\", \"score\", \"search\", \"season\", \"second\", \"second\", \"second\", \"second\", \"second\", \"security\", \"security\", \"security\", \"security\", \"series\", \"series\", \"series\", \"server\", \"service\", \"service\", \"share\", \"share\", \"software\", \"soldier\", \"sox\", \"space\", \"space\", \"speak\", \"sport\", \"start\", \"start\", \"start\", \"start\", \"start\", \"state\", \"state\", \"state\", \"state\", \"state\", \"stock\", \"strip\", \"sunday\", \"sunday\", \"sunday\", \"supply\", \"supreme\", \"surge\", \"suspect\", \"talk\", \"talk\", \"team\", \"technology\", \"technology\", \"tell\", \"tell\", \"terrorist\", \"thing\", \"think\", \"throw\", \"thursday\", \"thursday\", \"thursday\", \"thursday\", \"thursday\", \"time\", \"time\", \"time\", \"time\", \"time\", \"title\", \"today\", \"today\", \"today\", \"today\", \"today\", \"today\", \"tony\", \"tournament\", \"town\", \"troop\", \"trump\", \"tuesday\", \"tuesday\", \"tuesday\", \"tuesday\", \"tuesday\", \"union\", \"union\", \"unite\", \"unite\", \"unite\", \"unite\", \"unveil\", \"use\", \"use\", \"use\", \"user\", \"version\", \"victory\", \"violence\", \"vote\", \"voter\", \"wall\", \"want\", \"want\", \"war\", \"war\", \"way\", \"way\", \"way\", \"way\", \"web\", \"wednesday\", \"wednesday\", \"wednesday\", \"wednesday\", \"wednesday\", \"week\", \"week\", \"week\", \"week\", \"week\", \"week\", \"white\", \"white\", \"win\", \"window\", \"winter\", \"wireless\", \"word\", \"work\", \"work\", \"work\", \"work\", \"world\", \"world\", \"world\", \"world\", \"wound\", \"yasser\", \"year\", \"year\", \"year\", \"year\", \"year\", \"year\", \"yesterday\", \"yesterday\", \"yesterday\", \"yesterday\", \"yesterday\", \"york\", \"york\"]}, \"R\": 30, \"lambda.step\": 0.01, \"plot.opts\": {\"xlab\": \"PC1\", \"ylab\": \"PC2\"}, \"topic.order\": [5, 6, 2, 1, 3, 4]};\n",
       "\n",
       "function LDAvis_load_lib(url, callback){\n",
       "  var s = document.createElement('script');\n",
       "  s.src = url;\n",
       "  s.async = true;\n",
       "  s.onreadystatechange = s.onload = callback;\n",
       "  s.onerror = function(){console.warn(\"failed to load library \" + url);};\n",
       "  document.getElementsByTagName(\"head\")[0].appendChild(s);\n",
       "}\n",
       "\n",
       "if(typeof(LDAvis) !== \"undefined\"){\n",
       "   // already loaded: just create the visualization\n",
       "   !function(LDAvis){\n",
       "       new LDAvis(\"#\" + \"ldavis_el1889231514950450562204406220\", ldavis_el1889231514950450562204406220_data);\n",
       "   }(LDAvis);\n",
       "}else if(typeof define === \"function\" && define.amd){\n",
       "   // require.js is available: use it to load d3/LDAvis\n",
       "   require.config({paths: {d3: \"https://d3js.org/d3.v5\"}});\n",
       "   require([\"d3\"], function(d3){\n",
       "      window.d3 = d3;\n",
       "      LDAvis_load_lib(\"https://cdn.jsdelivr.net/gh/bmabey/pyLDAvis@3.4.0/pyLDAvis/js/ldavis.v3.0.0.js\", function(){\n",
       "        new LDAvis(\"#\" + \"ldavis_el1889231514950450562204406220\", ldavis_el1889231514950450562204406220_data);\n",
       "      });\n",
       "    });\n",
       "}else{\n",
       "    // require.js not available: dynamically load d3 & LDAvis\n",
       "    LDAvis_load_lib(\"https://d3js.org/d3.v5.js\", function(){\n",
       "         LDAvis_load_lib(\"https://cdn.jsdelivr.net/gh/bmabey/pyLDAvis@3.4.0/pyLDAvis/js/ldavis.v3.0.0.js\", function(){\n",
       "                 new LDAvis(\"#\" + \"ldavis_el1889231514950450562204406220\", ldavis_el1889231514950450562204406220_data);\n",
       "            })\n",
       "         });\n",
       "}\n",
       "</script>"
      ],
      "text/plain": [
       "<IPython.core.display.HTML object>"
      ]
     },
     "execution_count": 629,
     "metadata": {},
     "output_type": "execute_result"
    }
   ],
   "source": [
    "import pyLDAvis.gensim_models\n",
    "\n",
    "pyLDAvis.enable_notebook()\n",
    "vis = pyLDAvis.gensim_models.prepare(ldamodel, corpus, dictionary)\n",
    "pyLDAvis.display(vis)"
   ]
  },
  {
   "cell_type": "markdown",
   "metadata": {},
   "source": [
    "Business, Entertainment, Politics, Sports, Tech, World  \n",
    "Politics - 0   <br/>\n",
    "Tech - 2 <br/>\n",
    "Sports -  1 <br/>\n",
    "Business - 4   <br/>\n",
    "World - 5  <br/>\n",
    "Entertainment - 3 <br/>"
   ]
  },
  {
   "cell_type": "code",
   "execution_count": 593,
   "metadata": {},
   "outputs": [
    {
     "name": "stdout",
     "output_type": "stream",
     "text": [
      "0 번째 문서의 topic 비율은 [(0, 0.08747146), (1, 0.4461617), (3, 0.4411979)]\n",
      "[(1, 0.4461617), (3, 0.4411979), (0, 0.08747146)]\n",
      "1 번째 문서의 topic 비율은 [(0, 0.018624393), (1, 0.01865809), (2, 0.01857992), (3, 0.68317616), (4, 0.24243534), (5, 0.0185261)]\n",
      "[(3, 0.68317616), (4, 0.24243534), (1, 0.01865809), (0, 0.018624393), (2, 0.01857992), (5, 0.0185261)]\n",
      "2 번째 문서의 topic 비율은 [(0, 0.14873558), (1, 0.013919738), (2, 0.013987724), (3, 0.7954868), (4, 0.013942142), (5, 0.013927992)]\n",
      "[(3, 0.7954868), (0, 0.14873558), (2, 0.013987724), (4, 0.013942142), (5, 0.013927992), (1, 0.013919738)]\n",
      "3 번째 문서의 topic 비율은 [(0, 0.015186861), (1, 0.015190888), (2, 0.828408), (3, 0.11086553), (4, 0.015189747), (5, 0.015158966)]\n",
      "[(2, 0.828408), (3, 0.11086553), (1, 0.015190888), (4, 0.015189747), (0, 0.015186861), (5, 0.015158966)]\n",
      "4 번째 문서의 topic 비율은 [(0, 0.04177914), (1, 0.041886277), (2, 0.541658), (3, 0.29125613), (4, 0.041751448), (5, 0.041669015)]\n",
      "[(2, 0.541658), (3, 0.29125613), (1, 0.041886277), (0, 0.04177914), (4, 0.041751448), (5, 0.041669015)]\n"
     ]
    }
   ],
   "source": [
    "for i, topic_list in enumerate(ldamodel[corpus]):\n",
    "    if i==5:\n",
    "        break\n",
    "    print(i,'번째 문서의 topic 비율은',topic_list)\n",
    "    # doc = topic_list[0] if ldamodel.per_word_topics else topic_list            \n",
    "    doc = sorted(topic_list, key=lambda x: (x[1]), reverse=True)\n",
    "    print(doc)"
   ]
  },
  {
   "cell_type": "code",
   "execution_count": 594,
   "metadata": {},
   "outputs": [],
   "source": [
    "def make_topictable_per_doc(ldamodel, corpus):\n",
    "    topic_table = pd.DataFrame()\n",
    "\n",
    "    # 몇 번째 문서인지를 의미하는 문서 번호와 해당 문서의 토픽 비중을 한 줄씩 꺼내온다.\n",
    "    for i, topic_list in enumerate(ldamodel[corpus]):\n",
    "        doc = topic_list[0] if ldamodel.per_word_topics else topic_list            \n",
    "        doc = sorted(doc, key=lambda x: (x[1]), reverse=True)\n",
    "        # 각 문서에 대해서 비중이 높은 토픽순으로 토픽을 정렬한다.\n",
    "        # EX) 정렬 전 0번 문서 : (2번 토픽, 48.5%), (8번 토픽, 25%), (10번 토픽, 5%), (12번 토픽, 21.5%), \n",
    "        # Ex) 정렬 후 0번 문서 : (2번 토픽, 48.5%), (8번 토픽, 25%), (12번 토픽, 21.5%), (10번 토픽, 5%)\n",
    "        # 48 > 25 > 21 > 5 순으로 정렬이 된 것.\n",
    "\n",
    "        # 모든 문서에 대해서 각각 아래를 수행\n",
    "        for j, (topic_num, prop_topic) in enumerate(doc): #  몇 번 토픽인지와 비중을 나눠서 저장한다.\n",
    "            if j == 0:  # 정렬을 한 상태이므로 가장 앞에 있는 것이 가장 비중이 높은 토픽\n",
    "                topic_table = pd.concat([topic_table, pd.DataFrame([int(topic_num), round(prop_topic,4), doc]).T], ignore_index= True)\n",
    "                # pd.DataFrame({'가장 비중이 높은 토픽' : int(topic_num), '가장 높은 토픽의 비중' : round(prop_topic,4), '각 토픽의 비중':topic_list})\n",
    "                # print(topic_table)\n",
    "                # topic_table.append(pd.Series([int(topic_num), round(prop_topic,4), topic_list]), ignore_index=True)\n",
    "                # 가장 비중이 높은 토픽과, 가장 비중이 높은 토픽의 비중과, 전체 토픽의 비중을 저장한다.\n",
    "            else:\n",
    "                break\n",
    "    return topic_table"
   ]
  },
  {
   "cell_type": "code",
   "execution_count": 595,
   "metadata": {},
   "outputs": [],
   "source": [
    "topictable = make_topictable_per_doc(ldamodel, corpus)"
   ]
  },
  {
   "cell_type": "code",
   "execution_count": 596,
   "metadata": {},
   "outputs": [
    {
     "data": {
      "text/html": [
       "<div>\n",
       "<style scoped>\n",
       "    .dataframe tbody tr th:only-of-type {\n",
       "        vertical-align: middle;\n",
       "    }\n",
       "\n",
       "    .dataframe tbody tr th {\n",
       "        vertical-align: top;\n",
       "    }\n",
       "\n",
       "    .dataframe thead th {\n",
       "        text-align: right;\n",
       "    }\n",
       "</style>\n",
       "<table border=\"1\" class=\"dataframe\">\n",
       "  <thead>\n",
       "    <tr style=\"text-align: right;\">\n",
       "      <th></th>\n",
       "      <th>num</th>\n",
       "      <th>best_topic</th>\n",
       "      <th>best_topic_rate</th>\n",
       "      <th>topic_rate</th>\n",
       "    </tr>\n",
       "  </thead>\n",
       "  <tbody>\n",
       "    <tr>\n",
       "      <th>0</th>\n",
       "      <td>0</td>\n",
       "      <td>1</td>\n",
       "      <td>0.4462</td>\n",
       "      <td>[(1, 0.44615817), (3, 0.44119608), (0, 0.08747...</td>\n",
       "    </tr>\n",
       "    <tr>\n",
       "      <th>1</th>\n",
       "      <td>1</td>\n",
       "      <td>3</td>\n",
       "      <td>0.6832</td>\n",
       "      <td>[(3, 0.6831718), (4, 0.24243565), (1, 0.018662...</td>\n",
       "    </tr>\n",
       "    <tr>\n",
       "      <th>2</th>\n",
       "      <td>2</td>\n",
       "      <td>3</td>\n",
       "      <td>0.7955</td>\n",
       "      <td>[(3, 0.7954998), (0, 0.14872257), (2, 0.013987...</td>\n",
       "    </tr>\n",
       "    <tr>\n",
       "      <th>3</th>\n",
       "      <td>3</td>\n",
       "      <td>2</td>\n",
       "      <td>0.8284</td>\n",
       "      <td>[(2, 0.82840747), (3, 0.11086603), (1, 0.01519...</td>\n",
       "    </tr>\n",
       "    <tr>\n",
       "      <th>4</th>\n",
       "      <td>4</td>\n",
       "      <td>2</td>\n",
       "      <td>0.5417</td>\n",
       "      <td>[(2, 0.541658), (3, 0.29126903), (1, 0.0418749...</td>\n",
       "    </tr>\n",
       "    <tr>\n",
       "      <th>...</th>\n",
       "      <td>...</td>\n",
       "      <td>...</td>\n",
       "      <td>...</td>\n",
       "      <td>...</td>\n",
       "    </tr>\n",
       "    <tr>\n",
       "      <th>59995</th>\n",
       "      <td>59995</td>\n",
       "      <td>1</td>\n",
       "      <td>0.6549</td>\n",
       "      <td>[(1, 0.65489787), (2, 0.24966879), (3, 0.02389...</td>\n",
       "    </tr>\n",
       "    <tr>\n",
       "      <th>59996</th>\n",
       "      <td>59996</td>\n",
       "      <td>5</td>\n",
       "      <td>0.5335</td>\n",
       "      <td>[(5, 0.53351486), (4, 0.30272928), (2, 0.12197...</td>\n",
       "    </tr>\n",
       "    <tr>\n",
       "      <th>59997</th>\n",
       "      <td>59997</td>\n",
       "      <td>1</td>\n",
       "      <td>0.5512</td>\n",
       "      <td>[(1, 0.5511734), (3, 0.31109333), (0, 0.099145...</td>\n",
       "    </tr>\n",
       "    <tr>\n",
       "      <th>59998</th>\n",
       "      <td>59998</td>\n",
       "      <td>4</td>\n",
       "      <td>0.861</td>\n",
       "      <td>[(4, 0.86095774), (3, 0.027859796), (5, 0.0278...</td>\n",
       "    </tr>\n",
       "    <tr>\n",
       "      <th>59999</th>\n",
       "      <td>59999</td>\n",
       "      <td>3</td>\n",
       "      <td>0.7189</td>\n",
       "      <td>[(3, 0.718905), (4, 0.12221935), (5, 0.1202091...</td>\n",
       "    </tr>\n",
       "  </tbody>\n",
       "</table>\n",
       "<p>60000 rows × 4 columns</p>\n",
       "</div>"
      ],
      "text/plain": [
       "         num best_topic best_topic_rate  \\\n",
       "0          0          1          0.4462   \n",
       "1          1          3          0.6832   \n",
       "2          2          3          0.7955   \n",
       "3          3          2          0.8284   \n",
       "4          4          2          0.5417   \n",
       "...      ...        ...             ...   \n",
       "59995  59995          1          0.6549   \n",
       "59996  59996          5          0.5335   \n",
       "59997  59997          1          0.5512   \n",
       "59998  59998          4           0.861   \n",
       "59999  59999          3          0.7189   \n",
       "\n",
       "                                              topic_rate  \n",
       "0      [(1, 0.44615817), (3, 0.44119608), (0, 0.08747...  \n",
       "1      [(3, 0.6831718), (4, 0.24243565), (1, 0.018662...  \n",
       "2      [(3, 0.7954998), (0, 0.14872257), (2, 0.013987...  \n",
       "3      [(2, 0.82840747), (3, 0.11086603), (1, 0.01519...  \n",
       "4      [(2, 0.541658), (3, 0.29126903), (1, 0.0418749...  \n",
       "...                                                  ...  \n",
       "59995  [(1, 0.65489787), (2, 0.24966879), (3, 0.02389...  \n",
       "59996  [(5, 0.53351486), (4, 0.30272928), (2, 0.12197...  \n",
       "59997  [(1, 0.5511734), (3, 0.31109333), (0, 0.099145...  \n",
       "59998  [(4, 0.86095774), (3, 0.027859796), (5, 0.0278...  \n",
       "59999  [(3, 0.718905), (4, 0.12221935), (5, 0.1202091...  \n",
       "\n",
       "[60000 rows x 4 columns]"
      ]
     },
     "execution_count": 596,
     "metadata": {},
     "output_type": "execute_result"
    }
   ],
   "source": [
    "topictable = topictable.reset_index() # 문서 번호을 의미하는 열(column)로 사용하기 위해서 인덱스 열을 하나 더 만든다.\n",
    "topictable.columns = ['num', 'best_topic', 'best_topic_rate', 'topic_rate']\n",
    "topictable"
   ]
  },
  {
   "cell_type": "code",
   "execution_count": 597,
   "metadata": {},
   "outputs": [
    {
     "data": {
      "text/html": [
       "<div>\n",
       "<style scoped>\n",
       "    .dataframe tbody tr th:only-of-type {\n",
       "        vertical-align: middle;\n",
       "    }\n",
       "\n",
       "    .dataframe tbody tr th {\n",
       "        vertical-align: top;\n",
       "    }\n",
       "\n",
       "    .dataframe thead th {\n",
       "        text-align: right;\n",
       "    }\n",
       "</style>\n",
       "<table border=\"1\" class=\"dataframe\">\n",
       "  <thead>\n",
       "    <tr style=\"text-align: right;\">\n",
       "      <th></th>\n",
       "      <th>contents</th>\n",
       "      <th>tfidf_tokens</th>\n",
       "      <th>best_topic_rate</th>\n",
       "      <th>topic</th>\n",
       "    </tr>\n",
       "  </thead>\n",
       "  <tbody>\n",
       "    <tr>\n",
       "      <th>0</th>\n",
       "      <td>madrid spanish national team coach luis aragon...</td>\n",
       "      <td>[arsenal, coach, comment, decide, face, federa...</td>\n",
       "      <td>0.4462</td>\n",
       "      <td>1</td>\n",
       "    </tr>\n",
       "    <tr>\n",
       "      <th>1</th>\n",
       "      <td>bosnia hero often another villain citizens dec...</td>\n",
       "      <td>[bruce, citizens, decide, great, hero, honour,...</td>\n",
       "      <td>0.6832</td>\n",
       "      <td>3</td>\n",
       "    </tr>\n",
       "    <tr>\n",
       "      <th>2</th>\n",
       "      <td>yasmine hamdan perform also sing film scene wo...</td>\n",
       "      <td>[begin, continue, creation, film, live, myster...</td>\n",
       "      <td>0.7955</td>\n",
       "      <td>3</td>\n",
       "    </tr>\n",
       "    <tr>\n",
       "      <th>3</th>\n",
       "      <td>macromedia announce special version contribute...</td>\n",
       "      <td>[announce, application, contribute, creation, ...</td>\n",
       "      <td>0.8284</td>\n",
       "      <td>2</td>\n",
       "    </tr>\n",
       "    <tr>\n",
       "      <th>4</th>\n",
       "      <td>overtheair cell phone come qualcomms cdma</td>\n",
       "      <td>[cell, come, phone]</td>\n",
       "      <td>0.5417</td>\n",
       "      <td>2</td>\n",
       "    </tr>\n",
       "  </tbody>\n",
       "</table>\n",
       "</div>"
      ],
      "text/plain": [
       "                                            contents  \\\n",
       "0  madrid spanish national team coach luis aragon...   \n",
       "1  bosnia hero often another villain citizens dec...   \n",
       "2  yasmine hamdan perform also sing film scene wo...   \n",
       "3  macromedia announce special version contribute...   \n",
       "4          overtheair cell phone come qualcomms cdma   \n",
       "\n",
       "                                        tfidf_tokens best_topic_rate topic  \n",
       "0  [arsenal, coach, comment, decide, face, federa...          0.4462     1  \n",
       "1  [bruce, citizens, decide, great, hero, honour,...          0.6832     3  \n",
       "2  [begin, continue, creation, film, live, myster...          0.7955     3  \n",
       "3  [announce, application, contribute, creation, ...          0.8284     2  \n",
       "4                                [cell, come, phone]          0.5417     2  "
      ]
     },
     "execution_count": 597,
     "metadata": {},
     "output_type": "execute_result"
    }
   ],
   "source": [
    "df['best_topic_rate'] = topictable['best_topic_rate']\n",
    "df['topic'] = topictable['best_topic']\n",
    "df.head()"
   ]
  },
  {
   "cell_type": "code",
   "execution_count": 598,
   "metadata": {},
   "outputs": [
    {
     "data": {
      "text/plain": [
       "topic\n",
       "0    14254\n",
       "3    12012\n",
       "1    10206\n",
       "2     9694\n",
       "4     7230\n",
       "5     6604\n",
       "Name: count, dtype: int64"
      ]
     },
     "execution_count": 598,
     "metadata": {},
     "output_type": "execute_result"
    }
   ],
   "source": [
    "df.topic.value_counts()"
   ]
  },
  {
   "cell_type": "markdown",
   "metadata": {},
   "source": [
    "Business, Entertainment, Politics, Sports, Tech, World  \n",
    "Politics - 0   <br/>\n",
    "Tech - 2 <br/>\n",
    "Sports -  1 <br/>\n",
    "Business - 4   <br/>\n",
    "World - 5  <br/>\n",
    "Entertainment - 3 <br/>"
   ]
  },
  {
   "cell_type": "code",
   "execution_count": 599,
   "metadata": {},
   "outputs": [
    {
     "data": {
      "text/plain": [
       "topic\n",
       "Politics         14254\n",
       "Entertainment    12012\n",
       "Sports           10206\n",
       "Tech              9694\n",
       "Business          7230\n",
       "World             6604\n",
       "Name: count, dtype: int64"
      ]
     },
     "execution_count": 599,
     "metadata": {},
     "output_type": "execute_result"
    }
   ],
   "source": [
    "df['topic'] = df['topic'].replace({3: 'Entertainment', 4: 'Business', 2:'Tech', 5:'World', 1:'Sports', 0:'Politics'})\n",
    "df.topic.value_counts()"
   ]
  },
  {
   "cell_type": "code",
   "execution_count": 600,
   "metadata": {},
   "outputs": [
    {
     "data": {
      "text/html": [
       "<div>\n",
       "<style scoped>\n",
       "    .dataframe tbody tr th:only-of-type {\n",
       "        vertical-align: middle;\n",
       "    }\n",
       "\n",
       "    .dataframe tbody tr th {\n",
       "        vertical-align: top;\n",
       "    }\n",
       "\n",
       "    .dataframe thead th {\n",
       "        text-align: right;\n",
       "    }\n",
       "</style>\n",
       "<table border=\"1\" class=\"dataframe\">\n",
       "  <thead>\n",
       "    <tr style=\"text-align: right;\">\n",
       "      <th></th>\n",
       "      <th>contents</th>\n",
       "      <th>tfidf_tokens</th>\n",
       "      <th>best_topic_rate</th>\n",
       "      <th>topic</th>\n",
       "    </tr>\n",
       "  </thead>\n",
       "  <tbody>\n",
       "    <tr>\n",
       "      <th>0</th>\n",
       "      <td>madrid spanish national team coach luis aragon...</td>\n",
       "      <td>[arsenal, coach, comment, decide, face, federa...</td>\n",
       "      <td>0.4462</td>\n",
       "      <td>3</td>\n",
       "    </tr>\n",
       "    <tr>\n",
       "      <th>1</th>\n",
       "      <td>bosnia hero often another villain citizens dec...</td>\n",
       "      <td>[bruce, citizens, decide, great, hero, honour,...</td>\n",
       "      <td>0.6832</td>\n",
       "      <td>1</td>\n",
       "    </tr>\n",
       "    <tr>\n",
       "      <th>2</th>\n",
       "      <td>yasmine hamdan perform also sing film scene wo...</td>\n",
       "      <td>[begin, continue, creation, film, live, myster...</td>\n",
       "      <td>0.7955</td>\n",
       "      <td>1</td>\n",
       "    </tr>\n",
       "    <tr>\n",
       "      <th>3</th>\n",
       "      <td>macromedia announce special version contribute...</td>\n",
       "      <td>[announce, application, contribute, creation, ...</td>\n",
       "      <td>0.8284</td>\n",
       "      <td>4</td>\n",
       "    </tr>\n",
       "    <tr>\n",
       "      <th>4</th>\n",
       "      <td>overtheair cell phone come qualcomms cdma</td>\n",
       "      <td>[cell, come, phone]</td>\n",
       "      <td>0.5417</td>\n",
       "      <td>4</td>\n",
       "    </tr>\n",
       "  </tbody>\n",
       "</table>\n",
       "</div>"
      ],
      "text/plain": [
       "                                            contents  \\\n",
       "0  madrid spanish national team coach luis aragon...   \n",
       "1  bosnia hero often another villain citizens dec...   \n",
       "2  yasmine hamdan perform also sing film scene wo...   \n",
       "3  macromedia announce special version contribute...   \n",
       "4          overtheair cell phone come qualcomms cdma   \n",
       "\n",
       "                                        tfidf_tokens best_topic_rate  topic  \n",
       "0  [arsenal, coach, comment, decide, face, federa...          0.4462      3  \n",
       "1  [bruce, citizens, decide, great, hero, honour,...          0.6832      1  \n",
       "2  [begin, continue, creation, film, live, myster...          0.7955      1  \n",
       "3  [announce, application, contribute, creation, ...          0.8284      4  \n",
       "4                                [cell, come, phone]          0.5417      4  "
      ]
     },
     "execution_count": 600,
     "metadata": {},
     "output_type": "execute_result"
    }
   ],
   "source": [
    "df['topic'] = df['topic'].replace({'Business':0,'Entertainment':1, 'Politics':2, 'Sports':3, 'Tech':4, 'World':5})\n",
    "df.head()"
   ]
  },
  {
   "cell_type": "code",
   "execution_count": 601,
   "metadata": {},
   "outputs": [
    {
     "data": {
      "text/plain": [
       "topic\n",
       "2    14254\n",
       "1    12012\n",
       "3    10206\n",
       "4     9694\n",
       "0     7230\n",
       "5     6604\n",
       "Name: count, dtype: int64"
      ]
     },
     "execution_count": 601,
     "metadata": {},
     "output_type": "execute_result"
    }
   ],
   "source": [
    "df.topic.value_counts()"
   ]
  },
  {
   "cell_type": "code",
   "execution_count": 602,
   "metadata": {},
   "outputs": [
    {
     "data": {
      "text/html": [
       "<div>\n",
       "<style scoped>\n",
       "    .dataframe tbody tr th:only-of-type {\n",
       "        vertical-align: middle;\n",
       "    }\n",
       "\n",
       "    .dataframe tbody tr th {\n",
       "        vertical-align: top;\n",
       "    }\n",
       "\n",
       "    .dataframe thead th {\n",
       "        text-align: right;\n",
       "    }\n",
       "</style>\n",
       "<table border=\"1\" class=\"dataframe\">\n",
       "  <thead>\n",
       "    <tr style=\"text-align: right;\">\n",
       "      <th></th>\n",
       "      <th>id</th>\n",
       "      <th>category</th>\n",
       "    </tr>\n",
       "  </thead>\n",
       "  <tbody>\n",
       "    <tr>\n",
       "      <th>0</th>\n",
       "      <td>NEWS_00000</td>\n",
       "      <td>-1</td>\n",
       "    </tr>\n",
       "    <tr>\n",
       "      <th>1</th>\n",
       "      <td>NEWS_00001</td>\n",
       "      <td>-1</td>\n",
       "    </tr>\n",
       "    <tr>\n",
       "      <th>2</th>\n",
       "      <td>NEWS_00002</td>\n",
       "      <td>-1</td>\n",
       "    </tr>\n",
       "    <tr>\n",
       "      <th>3</th>\n",
       "      <td>NEWS_00003</td>\n",
       "      <td>-1</td>\n",
       "    </tr>\n",
       "    <tr>\n",
       "      <th>4</th>\n",
       "      <td>NEWS_00004</td>\n",
       "      <td>-1</td>\n",
       "    </tr>\n",
       "    <tr>\n",
       "      <th>...</th>\n",
       "      <td>...</td>\n",
       "      <td>...</td>\n",
       "    </tr>\n",
       "    <tr>\n",
       "      <th>59995</th>\n",
       "      <td>NEWS_59995</td>\n",
       "      <td>-1</td>\n",
       "    </tr>\n",
       "    <tr>\n",
       "      <th>59996</th>\n",
       "      <td>NEWS_59996</td>\n",
       "      <td>-1</td>\n",
       "    </tr>\n",
       "    <tr>\n",
       "      <th>59997</th>\n",
       "      <td>NEWS_59997</td>\n",
       "      <td>-1</td>\n",
       "    </tr>\n",
       "    <tr>\n",
       "      <th>59998</th>\n",
       "      <td>NEWS_59998</td>\n",
       "      <td>-1</td>\n",
       "    </tr>\n",
       "    <tr>\n",
       "      <th>59999</th>\n",
       "      <td>NEWS_59999</td>\n",
       "      <td>-1</td>\n",
       "    </tr>\n",
       "  </tbody>\n",
       "</table>\n",
       "<p>60000 rows × 2 columns</p>\n",
       "</div>"
      ],
      "text/plain": [
       "               id  category\n",
       "0      NEWS_00000        -1\n",
       "1      NEWS_00001        -1\n",
       "2      NEWS_00002        -1\n",
       "3      NEWS_00003        -1\n",
       "4      NEWS_00004        -1\n",
       "...           ...       ...\n",
       "59995  NEWS_59995        -1\n",
       "59996  NEWS_59996        -1\n",
       "59997  NEWS_59997        -1\n",
       "59998  NEWS_59998        -1\n",
       "59999  NEWS_59999        -1\n",
       "\n",
       "[60000 rows x 2 columns]"
      ]
     },
     "execution_count": 602,
     "metadata": {},
     "output_type": "execute_result"
    }
   ],
   "source": [
    "submission = pd.read_csv('./data/sample_submission.csv')\n",
    "submission"
   ]
  },
  {
   "cell_type": "code",
   "execution_count": 603,
   "metadata": {},
   "outputs": [
    {
     "data": {
      "text/html": [
       "<div>\n",
       "<style scoped>\n",
       "    .dataframe tbody tr th:only-of-type {\n",
       "        vertical-align: middle;\n",
       "    }\n",
       "\n",
       "    .dataframe tbody tr th {\n",
       "        vertical-align: top;\n",
       "    }\n",
       "\n",
       "    .dataframe thead th {\n",
       "        text-align: right;\n",
       "    }\n",
       "</style>\n",
       "<table border=\"1\" class=\"dataframe\">\n",
       "  <thead>\n",
       "    <tr style=\"text-align: right;\">\n",
       "      <th></th>\n",
       "      <th>id</th>\n",
       "      <th>category</th>\n",
       "    </tr>\n",
       "  </thead>\n",
       "  <tbody>\n",
       "    <tr>\n",
       "      <th>0</th>\n",
       "      <td>NEWS_00000</td>\n",
       "      <td>3</td>\n",
       "    </tr>\n",
       "    <tr>\n",
       "      <th>1</th>\n",
       "      <td>NEWS_00001</td>\n",
       "      <td>1</td>\n",
       "    </tr>\n",
       "    <tr>\n",
       "      <th>2</th>\n",
       "      <td>NEWS_00002</td>\n",
       "      <td>1</td>\n",
       "    </tr>\n",
       "    <tr>\n",
       "      <th>3</th>\n",
       "      <td>NEWS_00003</td>\n",
       "      <td>4</td>\n",
       "    </tr>\n",
       "    <tr>\n",
       "      <th>4</th>\n",
       "      <td>NEWS_00004</td>\n",
       "      <td>4</td>\n",
       "    </tr>\n",
       "  </tbody>\n",
       "</table>\n",
       "</div>"
      ],
      "text/plain": [
       "           id  category\n",
       "0  NEWS_00000         3\n",
       "1  NEWS_00001         1\n",
       "2  NEWS_00002         1\n",
       "3  NEWS_00003         4\n",
       "4  NEWS_00004         4"
      ]
     },
     "execution_count": 603,
     "metadata": {},
     "output_type": "execute_result"
    }
   ],
   "source": [
    "submission['category'] = df['topic'].values\n",
    "submission.head()"
   ]
  },
  {
   "cell_type": "code",
   "execution_count": 604,
   "metadata": {},
   "outputs": [],
   "source": [
    "submission.to_csv('submission1.csv', index = 0)"
   ]
  },
  {
   "cell_type": "code",
   "execution_count": null,
   "metadata": {},
   "outputs": [],
   "source": []
  }
 ],
 "metadata": {
  "kernelspec": {
   "display_name": "base",
   "language": "python",
   "name": "python3"
  },
  "language_info": {
   "codemirror_mode": {
    "name": "ipython",
    "version": 3
   },
   "file_extension": ".py",
   "mimetype": "text/x-python",
   "name": "python",
   "nbconvert_exporter": "python",
   "pygments_lexer": "ipython3",
   "version": "3.10.9"
  },
  "orig_nbformat": 4
 },
 "nbformat": 4,
 "nbformat_minor": 2
}

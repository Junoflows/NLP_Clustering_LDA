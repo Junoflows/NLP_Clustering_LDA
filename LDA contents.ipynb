{
 "cells": [
  {
   "cell_type": "code",
   "execution_count": 1,
   "metadata": {},
   "outputs": [],
   "source": [
    "import warnings\n",
    "warnings.filterwarnings(action='ignore')"
   ]
  },
  {
   "cell_type": "markdown",
   "metadata": {},
   "source": [
    "### Import library and load data"
   ]
  },
  {
   "cell_type": "code",
   "execution_count": 99,
   "metadata": {},
   "outputs": [
    {
     "data": {
      "text/html": [
       "<div>\n",
       "<style scoped>\n",
       "    .dataframe tbody tr th:only-of-type {\n",
       "        vertical-align: middle;\n",
       "    }\n",
       "\n",
       "    .dataframe tbody tr th {\n",
       "        vertical-align: top;\n",
       "    }\n",
       "\n",
       "    .dataframe thead th {\n",
       "        text-align: right;\n",
       "    }\n",
       "</style>\n",
       "<table border=\"1\" class=\"dataframe\">\n",
       "  <thead>\n",
       "    <tr style=\"text-align: right;\">\n",
       "      <th></th>\n",
       "      <th>id</th>\n",
       "      <th>title</th>\n",
       "      <th>contents</th>\n",
       "    </tr>\n",
       "  </thead>\n",
       "  <tbody>\n",
       "    <tr>\n",
       "      <th>0</th>\n",
       "      <td>NEWS_00000</td>\n",
       "      <td>Spanish coach facing action in race row</td>\n",
       "      <td>MADRID (AFP) - Spanish national team coach Lui...</td>\n",
       "    </tr>\n",
       "    <tr>\n",
       "      <th>1</th>\n",
       "      <td>NEWS_00001</td>\n",
       "      <td>Bruce Lee statue for divided city</td>\n",
       "      <td>In Bosnia, where one man #39;s hero is often a...</td>\n",
       "    </tr>\n",
       "    <tr>\n",
       "      <th>2</th>\n",
       "      <td>NEWS_00002</td>\n",
       "      <td>Only Lovers Left Alive's Tilda Swinton Talks A...</td>\n",
       "      <td>Yasmine Hamdan performs 'Hal' which she also s...</td>\n",
       "    </tr>\n",
       "    <tr>\n",
       "      <th>3</th>\n",
       "      <td>NEWS_00003</td>\n",
       "      <td>Macromedia contributes to eBay Stores</td>\n",
       "      <td>Macromedia has announced a special version of ...</td>\n",
       "    </tr>\n",
       "    <tr>\n",
       "      <th>4</th>\n",
       "      <td>NEWS_00004</td>\n",
       "      <td>Qualcomm plans to phone it in on cellular repairs</td>\n",
       "      <td>Over-the-air fixes for cell phones comes to Qu...</td>\n",
       "    </tr>\n",
       "  </tbody>\n",
       "</table>\n",
       "</div>"
      ],
      "text/plain": [
       "           id                                              title  \\\n",
       "0  NEWS_00000            Spanish coach facing action in race row   \n",
       "1  NEWS_00001                  Bruce Lee statue for divided city   \n",
       "2  NEWS_00002  Only Lovers Left Alive's Tilda Swinton Talks A...   \n",
       "3  NEWS_00003              Macromedia contributes to eBay Stores   \n",
       "4  NEWS_00004  Qualcomm plans to phone it in on cellular repairs   \n",
       "\n",
       "                                            contents  \n",
       "0  MADRID (AFP) - Spanish national team coach Lui...  \n",
       "1  In Bosnia, where one man #39;s hero is often a...  \n",
       "2  Yasmine Hamdan performs 'Hal' which she also s...  \n",
       "3  Macromedia has announced a special version of ...  \n",
       "4  Over-the-air fixes for cell phones comes to Qu...  "
      ]
     },
     "execution_count": 99,
     "metadata": {},
     "output_type": "execute_result"
    }
   ],
   "source": [
    "import pandas as pd\n",
    "from sklearn.feature_extraction.text import TfidfVectorizer\n",
    "from sklearn.decomposition import LatentDirichletAllocation\n",
    "import numpy as np\n",
    "from sklearn.preprocessing import LabelEncoder\n",
    "import re\n",
    "from nltk.corpus import stopwords\n",
    "import matplotlib.pyplot as plt\n",
    "import nltk\n",
    "from nltk.stem import WordNetLemmatizer\n",
    "\n",
    "# CSV 파일 불러오기\n",
    "data = pd.read_csv(\"./data/news.csv\")\n",
    "data.head()"
   ]
  },
  {
   "cell_type": "code",
   "execution_count": 108,
   "metadata": {},
   "outputs": [
    {
     "data": {
      "text/html": [
       "<div>\n",
       "<style scoped>\n",
       "    .dataframe tbody tr th:only-of-type {\n",
       "        vertical-align: middle;\n",
       "    }\n",
       "\n",
       "    .dataframe tbody tr th {\n",
       "        vertical-align: top;\n",
       "    }\n",
       "\n",
       "    .dataframe thead th {\n",
       "        text-align: right;\n",
       "    }\n",
       "</style>\n",
       "<table border=\"1\" class=\"dataframe\">\n",
       "  <thead>\n",
       "    <tr style=\"text-align: right;\">\n",
       "      <th></th>\n",
       "      <th>contents</th>\n",
       "    </tr>\n",
       "  </thead>\n",
       "  <tbody>\n",
       "    <tr>\n",
       "      <th>0</th>\n",
       "      <td>MADRID (AFP) - Spanish national team coach Lui...</td>\n",
       "    </tr>\n",
       "    <tr>\n",
       "      <th>1</th>\n",
       "      <td>In Bosnia, where one man #39;s hero is often a...</td>\n",
       "    </tr>\n",
       "    <tr>\n",
       "      <th>2</th>\n",
       "      <td>Yasmine Hamdan performs 'Hal' which she also s...</td>\n",
       "    </tr>\n",
       "    <tr>\n",
       "      <th>3</th>\n",
       "      <td>Macromedia has announced a special version of ...</td>\n",
       "    </tr>\n",
       "    <tr>\n",
       "      <th>4</th>\n",
       "      <td>Over-the-air fixes for cell phones comes to Qu...</td>\n",
       "    </tr>\n",
       "  </tbody>\n",
       "</table>\n",
       "</div>"
      ],
      "text/plain": [
       "                                            contents\n",
       "0  MADRID (AFP) - Spanish national team coach Lui...\n",
       "1  In Bosnia, where one man #39;s hero is often a...\n",
       "2  Yasmine Hamdan performs 'Hal' which she also s...\n",
       "3  Macromedia has announced a special version of ...\n",
       "4  Over-the-air fixes for cell phones comes to Qu..."
      ]
     },
     "execution_count": 108,
     "metadata": {},
     "output_type": "execute_result"
    }
   ],
   "source": [
    "# 필요한 열 선택 (contents: 기사 내용)\n",
    "df = data[['contents']]\n",
    "df.head()"
   ]
  },
  {
   "cell_type": "code",
   "execution_count": 109,
   "metadata": {},
   "outputs": [],
   "source": [
    "# 텍스트 정제 함수 (불용어 제거와 1글자짜리 단어 제거)\n",
    "stop_words = set(stopwords.words('english'))\n",
    "\n",
    "def clean_text(text):\n",
    "    \n",
    "    # URL 링크 뒤에 short_description 이 붙은 기사가 많음 -- 뉴스 기사에 큰 영향을 미치지 않으므로 제거\n",
    "    text = text.replace('short_description','')\n",
    "    \n",
    "    # URL 제거\n",
    "    text = re.sub(r'http\\S+|www\\S+|https\\S+', '', text, flags=re.MULTILINE)\n",
    "\n",
    "    # 해시태그 제거\n",
    "    text = re.sub(r'#\\w+', '', text)\n",
    "\n",
    "    # 멘션 제거\n",
    "    text = re.sub(r'@\\w+', '', text)\n",
    "\n",
    "    # 이모지 제거\n",
    "    text = text.encode('ascii', 'ignore').decode('ascii')\n",
    "\n",
    "    # 공백 및 특수문자 제거\n",
    "    text = re.sub(r'[^\\w\\s]', '', text).strip()\n",
    "    \n",
    "    # 숫자 제거\n",
    "    text = re.sub(r'\\d+', '', text)\n",
    "\n",
    "    # 같은 글자가 3번 이상 연속으로 나타나는 패턴을 찾아서 1번으로 대체\n",
    "    text = re.sub(r'(.)\\1{2,}', r'\\1', text)\n",
    "\n",
    "    # 소문자 변환\n",
    "    text = text.lower()\n",
    "\n",
    "    # 단어 원형으로 변환 후 시행\n",
    "    # 불용어 제거 및 2글자 미만 단어 제거\n",
    "    # text = ' '.join(word for word in text.split() if word not in stop_words and len(word) > 2)\n",
    "\n",
    "    return text\n",
    "\n",
    "# 명사와 동사만 추출하는 함수\n",
    "# 명사와 동사만 추출해서 했을 경우 결과가 좋지 않았음\n",
    "\n",
    "# import nltk\n",
    "# from nltk import word_tokenize, pos_tag\n",
    "\n",
    "# def extract_nouns_and_verbs(text):\n",
    "#     # 문장을 토큰화하고 품사 태깅\n",
    "#     words = word_tokenize(text)\n",
    "#     tagged_words = pos_tag(words)\n",
    "    \n",
    "#     # 명사와 동사만 추출\n",
    "#     nouns_and_verbs = [word for word, tag in tagged_words if tag.startswith('N') or tag.startswith('V')]\n",
    "    \n",
    "#     return nouns_and_verbs"
   ]
  },
  {
   "cell_type": "code",
   "execution_count": 110,
   "metadata": {},
   "outputs": [
    {
     "data": {
      "text/html": [
       "<div>\n",
       "<style scoped>\n",
       "    .dataframe tbody tr th:only-of-type {\n",
       "        vertical-align: middle;\n",
       "    }\n",
       "\n",
       "    .dataframe tbody tr th {\n",
       "        vertical-align: top;\n",
       "    }\n",
       "\n",
       "    .dataframe thead th {\n",
       "        text-align: right;\n",
       "    }\n",
       "</style>\n",
       "<table border=\"1\" class=\"dataframe\">\n",
       "  <thead>\n",
       "    <tr style=\"text-align: right;\">\n",
       "      <th></th>\n",
       "      <th>contents</th>\n",
       "    </tr>\n",
       "  </thead>\n",
       "  <tbody>\n",
       "    <tr>\n",
       "      <th>0</th>\n",
       "      <td>madrid afp  spanish national team coach luis a...</td>\n",
       "    </tr>\n",
       "    <tr>\n",
       "      <th>1</th>\n",
       "      <td>in bosnia where one man s hero is often anothe...</td>\n",
       "    </tr>\n",
       "    <tr>\n",
       "      <th>2</th>\n",
       "      <td>yasmine hamdan performs hal which she also sin...</td>\n",
       "    </tr>\n",
       "    <tr>\n",
       "      <th>3</th>\n",
       "      <td>macromedia has announced a special version of ...</td>\n",
       "    </tr>\n",
       "    <tr>\n",
       "      <th>4</th>\n",
       "      <td>overtheair fixes for cell phones comes to qual...</td>\n",
       "    </tr>\n",
       "  </tbody>\n",
       "</table>\n",
       "</div>"
      ],
      "text/plain": [
       "                                            contents\n",
       "0  madrid afp  spanish national team coach luis a...\n",
       "1  in bosnia where one man s hero is often anothe...\n",
       "2  yasmine hamdan performs hal which she also sin...\n",
       "3  macromedia has announced a special version of ...\n",
       "4  overtheair fixes for cell phones comes to qual..."
      ]
     },
     "execution_count": 110,
     "metadata": {},
     "output_type": "execute_result"
    }
   ],
   "source": [
    "# 텍스트 정제 적용\n",
    "df['contents'] = df['contents'].apply(clean_text)\n",
    "df.head(5)"
   ]
  },
  {
   "cell_type": "code",
   "execution_count": 111,
   "metadata": {},
   "outputs": [],
   "source": [
    "from nltk.stem import WordNetLemmatizer\n",
    "import nltk\n",
    "import string\n",
    "\n",
    "# 단어 원형 추출 함수\n",
    "lemmar = WordNetLemmatizer()\n",
    "def LemTokens(tokens):\n",
    "    return [lemmar.lemmatize(token) for token in tokens]\n",
    "\n",
    "# 특수 문자 사전 생성: {33: None ...}\n",
    "# ord(): 아스키 코드 생성\n",
    "remove_punct_dict = dict((ord(punct), None) for punct in string.punctuation)\n",
    "\n",
    "# 특수 문자 제거 및 단어 원형 추출\n",
    "def LemNormalize(text):\n",
    "    # 텍스트 소문자 변경 후 특수 문자 제거\n",
    "    text_new = text.lower().translate(remove_punct_dict)\n",
    "    \n",
    "    # 단어 토큰화\n",
    "    word_tokens = nltk.word_tokenize(text_new)\n",
    "    \n",
    "    # 단어 원형 추출\n",
    "    return LemTokens(word_tokens)"
   ]
  },
  {
   "cell_type": "code",
   "execution_count": 112,
   "metadata": {},
   "outputs": [
    {
     "data": {
      "text/html": [
       "<div>\n",
       "<style scoped>\n",
       "    .dataframe tbody tr th:only-of-type {\n",
       "        vertical-align: middle;\n",
       "    }\n",
       "\n",
       "    .dataframe tbody tr th {\n",
       "        vertical-align: top;\n",
       "    }\n",
       "\n",
       "    .dataframe thead th {\n",
       "        text-align: right;\n",
       "    }\n",
       "</style>\n",
       "<table border=\"1\" class=\"dataframe\">\n",
       "  <thead>\n",
       "    <tr style=\"text-align: right;\">\n",
       "      <th></th>\n",
       "      <th>contents</th>\n",
       "    </tr>\n",
       "  </thead>\n",
       "  <tbody>\n",
       "    <tr>\n",
       "      <th>0</th>\n",
       "      <td>[madrid, afp, spanish, national, team, coach, ...</td>\n",
       "    </tr>\n",
       "    <tr>\n",
       "      <th>1</th>\n",
       "      <td>[in, bosnia, where, one, man, s, hero, is, oft...</td>\n",
       "    </tr>\n",
       "    <tr>\n",
       "      <th>2</th>\n",
       "      <td>[yasmine, hamdan, performs, hal, which, she, a...</td>\n",
       "    </tr>\n",
       "    <tr>\n",
       "      <th>3</th>\n",
       "      <td>[macromedia, ha, announced, a, special, versio...</td>\n",
       "    </tr>\n",
       "    <tr>\n",
       "      <th>4</th>\n",
       "      <td>[overtheair, fix, for, cell, phone, come, to, ...</td>\n",
       "    </tr>\n",
       "  </tbody>\n",
       "</table>\n",
       "</div>"
      ],
      "text/plain": [
       "                                            contents\n",
       "0  [madrid, afp, spanish, national, team, coach, ...\n",
       "1  [in, bosnia, where, one, man, s, hero, is, oft...\n",
       "2  [yasmine, hamdan, performs, hal, which, she, a...\n",
       "3  [macromedia, ha, announced, a, special, versio...\n",
       "4  [overtheair, fix, for, cell, phone, come, to, ..."
      ]
     },
     "execution_count": 112,
     "metadata": {},
     "output_type": "execute_result"
    }
   ],
   "source": [
    "df['contents'] = df['contents'].apply(LemNormalize)\n",
    "df.head()"
   ]
  },
  {
   "cell_type": "code",
   "execution_count": 113,
   "metadata": {},
   "outputs": [
    {
     "data": {
      "text/html": [
       "<div>\n",
       "<style scoped>\n",
       "    .dataframe tbody tr th:only-of-type {\n",
       "        vertical-align: middle;\n",
       "    }\n",
       "\n",
       "    .dataframe tbody tr th {\n",
       "        vertical-align: top;\n",
       "    }\n",
       "\n",
       "    .dataframe thead th {\n",
       "        text-align: right;\n",
       "    }\n",
       "</style>\n",
       "<table border=\"1\" class=\"dataframe\">\n",
       "  <thead>\n",
       "    <tr style=\"text-align: right;\">\n",
       "      <th></th>\n",
       "      <th>contents</th>\n",
       "    </tr>\n",
       "  </thead>\n",
       "  <tbody>\n",
       "    <tr>\n",
       "      <th>0</th>\n",
       "      <td>madrid afp spanish national team coach luis ar...</td>\n",
       "    </tr>\n",
       "    <tr>\n",
       "      <th>1</th>\n",
       "      <td>bosnia one man hero often another man villain ...</td>\n",
       "    </tr>\n",
       "    <tr>\n",
       "      <th>2</th>\n",
       "      <td>yasmine hamdan performs hal also sings film sc...</td>\n",
       "    </tr>\n",
       "    <tr>\n",
       "      <th>3</th>\n",
       "      <td>macromedia announced special version contribut...</td>\n",
       "    </tr>\n",
       "    <tr>\n",
       "      <th>4</th>\n",
       "      <td>overtheair fix cell phone come qualcomms cdma</td>\n",
       "    </tr>\n",
       "  </tbody>\n",
       "</table>\n",
       "</div>"
      ],
      "text/plain": [
       "                                            contents\n",
       "0  madrid afp spanish national team coach luis ar...\n",
       "1  bosnia one man hero often another man villain ...\n",
       "2  yasmine hamdan performs hal also sings film sc...\n",
       "3  macromedia announced special version contribut...\n",
       "4      overtheair fix cell phone come qualcomms cdma"
      ]
     },
     "execution_count": 113,
     "metadata": {},
     "output_type": "execute_result"
    }
   ],
   "source": [
    "# 텍스트 정제 적용\n",
    "df['contents'] = df['contents'].apply(lambda x : ' '.join(word for word in x if word not in stop_words and len(word) > 2))\n",
    "df.head(5)"
   ]
  },
  {
   "cell_type": "code",
   "execution_count": 618,
   "metadata": {},
   "outputs": [],
   "source": [
    "# # 역토큰화 (토큰화 작업을 되돌림)\n",
    "# detokenized_doc = []\n",
    "# for i in range(len(df)):\n",
    "#     t = ' '.join(df['contents'][i])\n",
    "#     detokenized_doc.append(t)"
   ]
  },
  {
   "cell_type": "code",
   "execution_count": 619,
   "metadata": {},
   "outputs": [
    {
     "data": {
      "text/html": [
       "<div>\n",
       "<style scoped>\n",
       "    .dataframe tbody tr th:only-of-type {\n",
       "        vertical-align: middle;\n",
       "    }\n",
       "\n",
       "    .dataframe tbody tr th {\n",
       "        vertical-align: top;\n",
       "    }\n",
       "\n",
       "    .dataframe thead th {\n",
       "        text-align: right;\n",
       "    }\n",
       "</style>\n",
       "<table border=\"1\" class=\"dataframe\">\n",
       "  <thead>\n",
       "    <tr style=\"text-align: right;\">\n",
       "      <th></th>\n",
       "      <th>contents</th>\n",
       "    </tr>\n",
       "  </thead>\n",
       "  <tbody>\n",
       "    <tr>\n",
       "      <th>0</th>\n",
       "      <td>madrid afp spanish national team coach luis ar...</td>\n",
       "    </tr>\n",
       "    <tr>\n",
       "      <th>1</th>\n",
       "      <td>bosnia one man hero often another man villain ...</td>\n",
       "    </tr>\n",
       "    <tr>\n",
       "      <th>2</th>\n",
       "      <td>yasmine hamdan perform hal also sing film scen...</td>\n",
       "    </tr>\n",
       "    <tr>\n",
       "      <th>3</th>\n",
       "      <td>macromedia announce special version contribute...</td>\n",
       "    </tr>\n",
       "    <tr>\n",
       "      <th>4</th>\n",
       "      <td>overtheair fix cell phone come qualcomms cdma</td>\n",
       "    </tr>\n",
       "  </tbody>\n",
       "</table>\n",
       "</div>"
      ],
      "text/plain": [
       "                                            contents\n",
       "0  madrid afp spanish national team coach luis ar...\n",
       "1  bosnia one man hero often another man villain ...\n",
       "2  yasmine hamdan perform hal also sing film scen...\n",
       "3  macromedia announce special version contribute...\n",
       "4      overtheair fix cell phone come qualcomms cdma"
      ]
     },
     "execution_count": 619,
     "metadata": {},
     "output_type": "execute_result"
    }
   ],
   "source": [
    "# # 다시 text['headline_text']에 재저장\n",
    "# df['contents'] = detokenized_doc\n",
    "# df.head(5)"
   ]
  },
  {
   "cell_type": "markdown",
   "metadata": {},
   "source": [
    "### TF-IDF 벡터화"
   ]
  },
  {
   "cell_type": "code",
   "execution_count": 114,
   "metadata": {},
   "outputs": [
    {
     "data": {
      "text/plain": [
       "(60000, 3000)"
      ]
     },
     "execution_count": 114,
     "metadata": {},
     "output_type": "execute_result"
    }
   ],
   "source": [
    "# TF-IDF 벡터화\n",
    "tfidf_vectorizer = TfidfVectorizer(stop_words = 'english', max_features = 3000) # max_features = 10000 설정\n",
    "X = tfidf_vectorizer.fit_transform(df['contents'])\n",
    "X.shape"
   ]
  },
  {
   "cell_type": "code",
   "execution_count": 115,
   "metadata": {},
   "outputs": [],
   "source": [
    "tfidf_feature_names = tfidf_vectorizer.get_feature_names_out()"
   ]
  },
  {
   "cell_type": "code",
   "execution_count": 116,
   "metadata": {},
   "outputs": [
    {
     "data": {
      "text/plain": [
       "array(['ability', 'able', 'aboard', ..., 'ziff', 'zimbabwe', 'zone'],\n",
       "      dtype=object)"
      ]
     },
     "execution_count": 116,
     "metadata": {},
     "output_type": "execute_result"
    }
   ],
   "source": [
    "tfidf_feature_names"
   ]
  },
  {
   "cell_type": "code",
   "execution_count": 117,
   "metadata": {},
   "outputs": [],
   "source": [
    "tfidf_tokens = []\n",
    "for i in range(len(data)):\n",
    "    doc = X[i, :].toarray()\n",
    "    tokens = [tfidf_feature_names[j] for j in np.where(doc > 0)[1]]\n",
    "    tfidf_tokens.append(tokens)"
   ]
  },
  {
   "cell_type": "code",
   "execution_count": 118,
   "metadata": {},
   "outputs": [
    {
     "data": {
      "text/html": [
       "<div>\n",
       "<style scoped>\n",
       "    .dataframe tbody tr th:only-of-type {\n",
       "        vertical-align: middle;\n",
       "    }\n",
       "\n",
       "    .dataframe tbody tr th {\n",
       "        vertical-align: top;\n",
       "    }\n",
       "\n",
       "    .dataframe thead th {\n",
       "        text-align: right;\n",
       "    }\n",
       "</style>\n",
       "<table border=\"1\" class=\"dataframe\">\n",
       "  <thead>\n",
       "    <tr style=\"text-align: right;\">\n",
       "      <th></th>\n",
       "      <th>contents</th>\n",
       "      <th>tfidf_tokens</th>\n",
       "    </tr>\n",
       "  </thead>\n",
       "  <tbody>\n",
       "    <tr>\n",
       "      <th>0</th>\n",
       "      <td>madrid afp spanish national team coach luis ar...</td>\n",
       "      <td>[afp, arsenal, coach, comment, decided, face, ...</td>\n",
       "    </tr>\n",
       "    <tr>\n",
       "      <th>1</th>\n",
       "      <td>bosnia one man hero often another man villain ...</td>\n",
       "      <td>[citizen, decided, great, hero, lee, look, man...</td>\n",
       "    </tr>\n",
       "    <tr>\n",
       "      <th>2</th>\n",
       "      <td>yasmine hamdan performs hal also sings film sc...</td>\n",
       "      <td>[begin, continue, creation, film, living, myst...</td>\n",
       "    </tr>\n",
       "    <tr>\n",
       "      <th>3</th>\n",
       "      <td>macromedia announced special version contribut...</td>\n",
       "      <td>[announced, application, creation, designed, e...</td>\n",
       "    </tr>\n",
       "    <tr>\n",
       "      <th>4</th>\n",
       "      <td>overtheair fix cell phone come qualcomms cdma</td>\n",
       "      <td>[cell, come, fix, phone]</td>\n",
       "    </tr>\n",
       "  </tbody>\n",
       "</table>\n",
       "</div>"
      ],
      "text/plain": [
       "                                            contents  \\\n",
       "0  madrid afp spanish national team coach luis ar...   \n",
       "1  bosnia one man hero often another man villain ...   \n",
       "2  yasmine hamdan performs hal also sings film sc...   \n",
       "3  macromedia announced special version contribut...   \n",
       "4      overtheair fix cell phone come qualcomms cdma   \n",
       "\n",
       "                                        tfidf_tokens  \n",
       "0  [afp, arsenal, coach, comment, decided, face, ...  \n",
       "1  [citizen, decided, great, hero, lee, look, man...  \n",
       "2  [begin, continue, creation, film, living, myst...  \n",
       "3  [announced, application, creation, designed, e...  \n",
       "4                           [cell, come, fix, phone]  "
      ]
     },
     "execution_count": 118,
     "metadata": {},
     "output_type": "execute_result"
    }
   ],
   "source": [
    "# 토큰화된 결과를 데이터프레임에 추가\n",
    "df['tfidf_tokens'] = tfidf_tokens\n",
    "df.head()"
   ]
  },
  {
   "cell_type": "markdown",
   "metadata": {},
   "source": [
    "### LDA 모델링"
   ]
  },
  {
   "cell_type": "code",
   "execution_count": 119,
   "metadata": {},
   "outputs": [],
   "source": [
    "from gensim.models.ldamodel import LdaModel\n",
    "from gensim.corpora import Dictionary"
   ]
  },
  {
   "cell_type": "code",
   "execution_count": 120,
   "metadata": {},
   "outputs": [],
   "source": [
    "# Dictionary 및 corpus 생성\n",
    "dictionary = Dictionary(tfidf_tokens)\n",
    "corpus = [dictionary.doc2bow(text) for text in tfidf_tokens]\n",
    "# print(corpus[1]) # 수행된 결과에서 두번째 뉴스 출력. 첫번째 문서의 인덱스는 0"
   ]
  },
  {
   "cell_type": "markdown",
   "metadata": {},
   "source": [
    "pass 는 epoch 과 같은 역할로 군집이 잘 나눠지는 passes 를 찾자"
   ]
  },
  {
   "cell_type": "code",
   "execution_count": 121,
   "metadata": {},
   "outputs": [
    {
     "name": "stdout",
     "output_type": "stream",
     "text": [
      "(0, '0.016*\"new\" + 0.012*\"service\" + 0.010*\"microsoft\" + 0.010*\"internet\" + 0.010*\"company\" + 0.009*\"computer\" + 0.009*\"software\" + 0.008*\"online\" + 0.008*\"technology\" + 0.007*\"phone\"')\n",
      "(1, '0.014*\"game\" + 0.011*\"night\" + 0.011*\"year\" + 0.010*\"win\" + 0.009*\"time\" + 0.008*\"victory\" + 0.008*\"world\" + 0.008*\"team\" + 0.008*\"lead\" + 0.008*\"sunday\"')\n",
      "(2, '0.022*\"said\" + 0.017*\"reuters\" + 0.015*\"company\" + 0.014*\"new\" + 0.011*\"price\" + 0.010*\"year\" + 0.010*\"corp\" + 0.009*\"oil\" + 0.009*\"percent\" + 0.009*\"market\"')\n",
      "(3, '0.025*\"said\" + 0.014*\"reuters\" + 0.011*\"country\" + 0.011*\"minister\" + 0.011*\"official\" + 0.011*\"iraq\" + 0.010*\"people\" + 0.008*\"leader\" + 0.008*\"government\" + 0.007*\"prime\"')\n",
      "(4, '0.018*\"president\" + 0.016*\"said\" + 0.014*\"say\" + 0.010*\"state\" + 0.010*\"trump\" + 0.010*\"court\" + 0.008*\"bush\" + 0.008*\"election\" + 0.006*\"house\" + 0.006*\"federal\"')\n",
      "(5, '0.029*\"new\" + 0.013*\"york\" + 0.010*\"red\" + 0.009*\"network\" + 0.009*\"sport\" + 0.008*\"space\" + 0.007*\"team\" + 0.007*\"wednesday\" + 0.007*\"round\" + 0.007*\"monday\"')\n"
     ]
    }
   ],
   "source": [
    "import gensim\n",
    "NUM_TOPICS = 6 # 6개의 토픽\n",
    "ldamodel = gensim.models.ldamodel.LdaModel(corpus, num_topics = NUM_TOPICS, id2word=dictionary, passes=30, random_state = 42)\n",
    "topics = ldamodel.print_topics(num_words=10)\n",
    "for topic in topics:\n",
    "    print(topic)"
   ]
  },
  {
   "cell_type": "code",
   "execution_count": 122,
   "metadata": {},
   "outputs": [
    {
     "data": {
      "text/html": [
       "\n",
       "<link rel=\"stylesheet\" type=\"text/css\" href=\"https://cdn.jsdelivr.net/gh/bmabey/pyLDAvis@3.4.0/pyLDAvis/js/ldavis.v1.0.0.css\">\n",
       "\n",
       "\n",
       "<div id=\"ldavis_el1341621715350787049845784764\" style=\"background-color:white;\"></div>\n",
       "<script type=\"text/javascript\">\n",
       "\n",
       "var ldavis_el1341621715350787049845784764_data = {\"mdsDat\": {\"x\": [-0.07611958486739721, 0.23078288489256013, -0.1771735078269433, 0.008690703736678499, -0.1989846854527571, 0.2128041895178591], \"y\": [-0.00041233325334894764, -0.008869637549065529, 0.16710121367221387, -0.32005675987458737, 0.00029583786767623416, 0.1619416791371117], \"topics\": [1, 2, 3, 4, 5, 6], \"cluster\": [1, 1, 1, 1, 1, 1], \"Freq\": [21.954601830319877, 18.266857909590993, 18.11362528190692, 15.660959517244045, 15.141587810474622, 10.862367650463547]}, \"tinfo\": {\"Term\": [\"said\", \"new\", \"president\", \"company\", \"reuters\", \"york\", \"price\", \"minister\", \"game\", \"say\", \"iraq\", \"country\", \"win\", \"service\", \"official\", \"night\", \"microsoft\", \"internet\", \"oil\", \"percent\", \"team\", \"trump\", \"court\", \"corp\", \"victory\", \"people\", \"sale\", \"stock\", \"network\", \"share\", \"price\", \"oil\", \"percent\", \"sale\", \"stock\", \"share\", \"billion\", \"profit\", \"largest\", \"maker\", \"research\", \"rose\", \"cost\", \"dollar\", \"growth\", \"investor\", \"rate\", \"higher\", \"href\", \"lta\", \"economy\", \"earnings\", \"fell\", \"wall\", \"rise\", \"quote\", \"communication\", \"analyst\", \"retailer\", \"lower\", \"corp\", \"market\", \"company\", \"reuters\", \"said\", \"quarter\", \"york\", \"new\", \"thursday\", \"million\", \"year\", \"tuesday\", \"monday\", \"wednesday\", \"business\", \"friday\", \"world\", \"group\", \"month\", \"win\", \"victory\", \"lead\", \"coach\", \"cup\", \"woman\", \"play\", \"olympic\", \"football\", \"got\", \"field\", \"title\", \"dont\", \"great\", \"match\", \"athens\", \"winning\", \"los\", \"really\", \"minute\", \"angeles\", \"medal\", \"goal\", \"scored\", \"yard\", \"career\", \"touchdown\", \"tour\", \"playing\", \"played\", \"night\", \"point\", \"game\", \"champion\", \"beat\", \"final\", \"championship\", \"season\", \"league\", \"team\", \"thing\", \"run\", \"sunday\", \"time\", \"like\", \"year\", \"world\", \"second\", \"saturday\", \"good\", \"hit\", \"home\", \"day\", \"player\", \"minister\", \"iraq\", \"prime\", \"killed\", \"police\", \"south\", \"military\", \"iraqi\", \"palestinian\", \"foreign\", \"baghdad\", \"israeli\", \"death\", \"troop\", \"militant\", \"nuclear\", \"russia\", \"region\", \"killing\", \"russian\", \"bomb\", \"rebel\", \"southern\", \"israel\", \"peace\", \"soldier\", \"gaza\", \"iran\", \"army\", \"korea\", \"country\", \"force\", \"official\", \"leader\", \"attack\", \"north\", \"afp\", \"said\", \"people\", \"reuters\", \"city\", \"talk\", \"government\", \"united\", \"british\", \"thursday\", \"state\", \"friday\", \"wednesday\", \"sunday\", \"yesterday\", \"tuesday\", \"group\", \"monday\", \"president\", \"saturday\", \"microsoft\", \"internet\", \"online\", \"phone\", \"music\", \"user\", \"web\", \"search\", \"version\", \"apple\", \"video\", \"using\", \"window\", \"digital\", \"google\", \"information\", \"popular\", \"access\", \"email\", \"server\", \"project\", \"file\", \"designed\", \"engine\", \"feature\", \"available\", \"linux\", \"standard\", \"tool\", \"desktop\", \"launched\", \"computer\", \"service\", \"mobile\", \"software\", \"technology\", \"use\", \"site\", \"small\", \"support\", \"new\", \"make\", \"company\", \"announced\", \"business\", \"security\", \"people\", \"say\", \"today\", \"help\", \"trump\", \"court\", \"bush\", \"presidential\", \"issue\", \"campaign\", \"case\", \"law\", \"republican\", \"donald\", \"vote\", \"policy\", \"health\", \"judge\", \"administration\", \"democratic\", \"california\", \"george\", \"democrat\", \"bankruptcy\", \"care\", \"voter\", \"act\", \"congress\", \"appeal\", \"justice\", \"debate\", \"committee\", \"poll\", \"labor\", \"house\", \"president\", \"election\", \"john\", \"say\", \"told\", \"federal\", \"decision\", \"state\", \"said\", \"washington\", \"need\", \"party\", \"want\", \"union\", \"government\", \"right\", \"people\", \"red\", \"space\", \"round\", \"boston\", \"sox\", \"grand\", \"nasa\", \"williams\", \"weapon\", \"size\", \"attorney\", \"summer\", \"selling\", \"seattle\", \"hill\", \"prize\", \"practice\", \"captain\", \"update\", \"mission\", \"jet\", \"losing\", \"earth\", \"allegation\", \"foot\", \"aircraft\", \"prix\", \"scandal\", \"nba\", \"miss\", \"sport\", \"contract\", \"network\", \"new\", \"york\", \"series\", \"yankee\", \"test\", \"michael\", \"australia\", \"team\", \"wednesday\", \"monday\", \"yesterday\", \"day\", \"million\", \"season\", \"second\", \"tuesday\", \"friday\", \"announced\", \"year\", \"thursday\", \"world\", \"time\"], \"Freq\": [7882.0, 6434.0, 2484.0, 3319.0, 4511.0, 2069.0, 1604.0, 1377.0, 1998.0, 2437.0, 1310.0, 1505.0, 1268.0, 1595.0, 1755.0, 1380.0, 1089.0, 1088.0, 1327.0, 1321.0, 1502.0, 974.0, 973.0, 1614.0, 1030.0, 2344.0, 1124.0, 1107.0, 1105.0, 1078.0, 1604.0842916452602, 1326.596203452548, 1320.8433547302172, 1123.8311518130724, 1106.3198456061314, 1077.6766603890521, 1073.3408060118397, 799.5047948320886, 790.3255060137408, 765.5682746626694, 764.6572123942535, 685.4911336283361, 671.9907536516264, 668.6043459118414, 623.0155261012677, 600.3143648062091, 595.5064307564494, 564.0594356151092, 562.1252479472814, 543.1790942003329, 542.2286862370269, 502.1843134315213, 485.3497806431442, 445.26310949897834, 403.7870134625708, 398.73878227621753, 394.39393263542644, 389.6598490129865, 378.6017860971012, 369.7632529696649, 1424.1922039685833, 1254.2036954936766, 2256.1605617256087, 2489.5717210503144, 3176.008936675503, 592.3698304128429, 1125.7752274042234, 2130.970937853569, 1216.8901061787221, 1032.578872104062, 1542.6017337508292, 1144.3008697454002, 1101.6493811570174, 1088.9902986563877, 772.5374752860192, 874.9640696760965, 821.4571519338192, 727.5085591336203, 711.4264011775491, 1267.2651370288695, 1029.4195959658055, 944.4237489865718, 743.0223187018073, 716.7648776708012, 711.1895184973343, 685.5105980376187, 576.5687070995398, 510.99746244257943, 473.2365117820287, 441.0901415444205, 436.67348034708857, 437.3891467441131, 433.20724172172027, 416.20058800878496, 413.8331156906513, 377.11079970576475, 361.50956933802604, 358.7649959897914, 355.0015271380613, 350.56978304216926, 345.3712106717501, 346.2368205054082, 339.30725699643887, 330.98501062098103, 320.74512223729033, 305.4001583145964, 287.5470911843523, 279.0659030520971, 274.22446401084414, 1318.4430115450257, 809.7977956915407, 1696.2161447470348, 707.7581590748865, 461.1431408411776, 708.2360698569174, 536.0839220762747, 935.2462051380245, 720.8184066588577, 959.4251199094889, 484.332154696341, 560.4376042215863, 940.8416748429049, 1064.6965532036259, 756.9640017364866, 1297.992886385041, 1020.1998314277278, 750.0584908801454, 722.218431011956, 547.7161505333047, 528.5262472537789, 576.4098796071254, 655.4153020415288, 547.1883633480804, 1376.5967438422167, 1309.566124542639, 912.3211849821455, 861.0195731717887, 743.1499699267611, 706.3585343681029, 607.0869565322821, 603.0246578483319, 578.648996197785, 569.4107154391992, 530.4551377743156, 473.98473881203245, 463.8030450580561, 459.94591497718693, 455.98035117926764, 441.30962051057816, 434.83257546367764, 432.46111194285186, 424.112452218142, 415.0458581782189, 402.91949578711444, 384.20193268565276, 369.8342102383022, 352.20931228874554, 349.66698351681043, 335.67079101534017, 334.16184009912774, 329.8702386619066, 322.58498284831995, 309.61851408828306, 1396.0904521493142, 795.0666059964159, 1360.6667317406168, 994.5736546993487, 735.886780431247, 602.4666830942949, 744.6713278356767, 3076.2867606630425, 1194.74580885587, 1758.7710963207815, 752.3855313444803, 613.8666698829132, 925.6370607170553, 749.7713383248555, 557.9230299076374, 818.0471891295334, 791.2776010695451, 775.6004876685261, 787.8541208774743, 693.1240689003828, 717.125481264183, 740.7857296551117, 651.8651528686719, 676.3056821294708, 648.5219498850965, 624.0670874318139, 1089.0576057632347, 1088.0869809415863, 833.6642517150442, 731.6565105363351, 653.9848258341218, 646.9711602312232, 583.065537417151, 562.4676796254845, 555.4762028116556, 487.9067357979814, 476.9083457367696, 468.9624081198198, 453.76774088507983, 450.3358748422868, 434.70120343047427, 396.91881425050184, 351.10631210255, 340.1921708651793, 317.1330718523684, 295.8827510037394, 297.30670307227723, 292.2203272784928, 279.5452631681569, 272.60999305511746, 267.2742995210125, 264.9096995379137, 262.4116974200874, 262.86257557326036, 239.2520141283476, 232.32183813023804, 375.6226953493778, 934.0492723791996, 1233.4829153803448, 485.70671491261874, 923.313817019371, 790.899646697042, 536.9350449410732, 460.1165265258742, 338.8018693443036, 477.0166446609049, 1675.0394260140208, 709.9439232487523, 1062.8154686292082, 666.3502510259044, 561.9646847580284, 549.5731032453556, 634.515853300052, 590.9853676950848, 506.50907202959723, 478.10041761224704, 973.9401875252977, 972.5862375844666, 839.0754076267864, 589.130518296039, 577.4412750678009, 552.0702706046604, 529.7581322005693, 528.0426553675276, 520.6859572350177, 476.3023037094294, 468.3811519447136, 438.5988942780569, 437.1728189171529, 397.33524529957714, 377.9916149102154, 353.7611676480185, 352.14625439312834, 342.6738378072572, 312.29291073951566, 302.24064934512626, 299.6032410509747, 291.8730819449288, 286.4235873448469, 275.1221070447488, 272.8291295977349, 269.9103469218608, 269.52090280369276, 264.36954712814753, 259.1899427243859, 258.65350103306855, 653.063096824263, 1835.1063374046053, 825.233767588098, 592.5464596455348, 1448.2295621603996, 522.9256338545252, 604.6488967609276, 433.4535056431743, 974.6533909568792, 1630.1790286336527, 579.0702298112344, 453.1730122368164, 422.79315071205036, 448.57526533386, 429.8454350558348, 526.1859585721368, 456.1540699799236, 514.5370639045698, 718.3017227771828, 563.4666807784844, 525.591114251629, 492.58158602187785, 409.2475121460493, 388.5689727331685, 308.11062794828933, 304.00196304891847, 298.62302535803235, 263.11830629723454, 248.98162080026165, 245.89576501191934, 229.9517351153898, 225.23495981666812, 223.80589443281426, 215.17085925906105, 211.7344978705566, 210.67783407012593, 209.76700193478163, 206.8632276395157, 195.4299911231479, 189.75558505922604, 183.8562567964214, 177.0205312665363, 172.5229706024028, 171.713057036922, 168.05036354525964, 166.61110608230828, 164.03211937428188, 162.41959656667345, 634.7335368444852, 392.3132368312077, 671.0090488738281, 2149.0252899530215, 943.5290045609308, 481.90072878448564, 259.0744800077221, 398.13172491997085, 315.4250074861888, 322.9789688300729, 541.9562638696677, 528.2642248101206, 497.25438249929397, 452.6174246727711, 444.5368046283235, 427.81771807682657, 367.8818719738458, 372.4974229403311, 393.7548384723514, 376.819611896794, 341.5532515924891, 368.46176730089513, 343.8491193299862, 337.48273904253983, 319.7493707528592], \"Total\": [7882.0, 6434.0, 2484.0, 3319.0, 4511.0, 2069.0, 1604.0, 1377.0, 1998.0, 2437.0, 1310.0, 1505.0, 1268.0, 1595.0, 1755.0, 1380.0, 1089.0, 1088.0, 1327.0, 1321.0, 1502.0, 974.0, 973.0, 1614.0, 1030.0, 2344.0, 1124.0, 1107.0, 1105.0, 1078.0, 1604.9216851131987, 1327.4338188492657, 1321.6812588555244, 1124.6706751931317, 1107.1570841119885, 1078.5164535020706, 1074.1796653132387, 800.341564377249, 791.1661318476181, 766.407477535818, 765.4981308120557, 686.330375918831, 672.8320546522242, 669.4436326210307, 623.8532663880544, 601.1523435731972, 596.3448907743376, 564.8979654348041, 562.9621555541888, 544.0159407685769, 543.068638739757, 503.02119220425334, 486.18922040221486, 446.10247728105526, 404.62784549003135, 399.5773360869574, 395.2369126681906, 390.49983112298924, 379.44040304459963, 370.6039895319979, 1614.1623477448204, 1487.9681514012032, 3319.646876393287, 4511.504548576604, 7882.99178388058, 711.3358506586231, 2069.970372229357, 6434.293747750701, 2553.5816900597765, 1942.9913332044184, 4285.612563085916, 2562.4090777621223, 2608.252923058582, 2734.7416768628927, 1335.173362290701, 2351.3350952214846, 2758.0719018985124, 1775.4461839858602, 1736.1232948477812, 1268.1062638250935, 1030.2599277441352, 945.2665080532774, 743.8623644396098, 717.6044153884976, 712.0332712116682, 686.3511471751274, 577.4081108251997, 511.8371141657908, 474.07878432253307, 441.93275176446343, 437.51346194660715, 438.2317191409805, 434.05020980678387, 417.04092868460395, 414.6719987421353, 377.95253120791386, 362.3512404495035, 359.606388684314, 355.84310598610836, 351.41098940001257, 346.2094573038043, 347.07753194404535, 340.1457479014188, 331.8241528159512, 321.5851674186465, 306.2384866983494, 288.38827906182775, 279.90719623415725, 275.06592834816735, 1380.47768027352, 858.3755012629083, 1998.8000339602868, 777.395833977707, 493.01793427518334, 825.1583811773585, 599.7473425057278, 1303.7951121267583, 955.5087232394685, 1502.0480918958456, 560.2132011110949, 731.2780367201863, 1759.367117566126, 2327.156944720905, 1283.2765052698833, 4285.612563085916, 2758.0719018985124, 1458.3321057020667, 1442.0049368844411, 795.2524775848286, 830.2615176436246, 1173.80462890127, 2185.3294506856355, 1053.001335643678, 1377.4330892883331, 1310.4020334018073, 913.1569938247213, 861.854291470723, 743.9865883524008, 707.1975114125485, 607.9231348241639, 603.8593888001615, 579.4835954674322, 570.2485472963218, 531.2895402408486, 474.8201320231233, 464.6423838767448, 460.7809240001148, 456.81456358142003, 442.145023178426, 435.6709190370234, 433.2989978853085, 424.9477276221679, 415.8845682677042, 403.7543923795545, 385.036918022624, 370.6724545046924, 353.045302954407, 350.5025681331446, 336.50631960032484, 334.9959445543796, 330.70600775735414, 323.4216574702946, 310.45603743147973, 1505.3118670037188, 843.6007691863913, 1755.440793748666, 1228.6236138710099, 857.8916966072263, 680.2291152465723, 896.6708540013182, 7882.99178388058, 2344.3019932257043, 4511.504548576604, 1153.7456483829442, 832.830493986098, 1846.4817604550701, 1541.049333480224, 824.0362926528371, 2553.5816900597765, 2449.9939547777844, 2351.3350952214846, 2734.7416768628927, 1759.367117566126, 2144.6525291873695, 2562.4090777621223, 1775.4461839858602, 2608.252923058582, 2484.2986045982675, 1442.0049368844411, 1089.891432956357, 1088.9214335117213, 834.4997040018379, 732.4915489087449, 654.8192491030462, 647.8045677027584, 583.8992730650083, 563.302412864768, 556.3103616562672, 488.7408093288613, 477.7447169635259, 469.799139307018, 454.6012053822512, 451.16986736229865, 435.5353863204199, 397.75611095100834, 351.9436013128291, 341.02675586018773, 317.9668988902714, 296.71599209724474, 298.14445728318407, 293.05827127386476, 280.3806376870176, 273.4441711843912, 268.1080361577938, 265.7444243836745, 263.24510423830725, 263.6985949407993, 240.08508394233462, 233.15468111750604, 392.24491505787614, 1137.638532537818, 1595.858292883963, 548.6056504147463, 1197.0871408833298, 1081.4429754685884, 671.2722412470886, 550.6122631034584, 365.96988819792017, 666.3482398911673, 6434.293747750701, 1398.2919602186532, 3319.646876393287, 1385.6631771293746, 1335.173362290701, 1410.8556407607336, 2344.3019932257043, 2437.5942250058206, 1700.8096047226704, 1043.3982876299856, 974.7758929042466, 973.4249517208599, 839.9116556052463, 589.9664969858272, 578.2806613558189, 552.9085154293512, 530.5961707921714, 528.8804013771668, 521.5221923626847, 477.13903723362756, 469.2186075228646, 439.4370245107524, 438.01162157888024, 398.1718531823412, 378.8279136968152, 354.5969377819615, 352.9872113959613, 343.51290812118623, 313.1283930752371, 303.078321552192, 300.441306952754, 292.7086692906699, 287.26342871556335, 275.9585758550548, 273.66876401790523, 270.74723270520286, 270.35783859569904, 265.20834674987617, 260.02657471608774, 259.49303707958586, 704.23857862769, 2484.2986045982675, 1067.8924576935801, 742.5270091457145, 2437.5942250058206, 647.8553808418586, 898.3609938878194, 564.126246214757, 2449.9939547777844, 7882.99178388058, 1169.779665476928, 718.4047348654117, 662.0522224142376, 842.6359211824648, 752.1936043049478, 1846.4817604550701, 1045.7818472950416, 2344.3019932257043, 719.1325210193029, 564.2973459742776, 526.4240343612206, 493.41200755124805, 410.0758784062351, 389.40115759421184, 308.939826290543, 304.83473101839166, 299.4617910481101, 263.9507490373296, 249.81338844525465, 246.72912235844294, 230.7875222364577, 226.0674364944903, 224.63666628448217, 216.00372045609723, 212.5663646989554, 211.5091735836898, 210.60467743632728, 207.69561863097863, 196.26089681032568, 190.587360346071, 184.68612751431624, 177.8537266901806, 173.35634337718724, 172.54516869587832, 168.8789377374816, 167.44491163801803, 164.86218838874842, 163.24964152730726, 863.9757497082578, 484.89063977016986, 1105.6779934013255, 6434.293747750701, 2069.970372229357, 810.2650439746023, 319.61047136640553, 627.7433585693623, 464.0469485418181, 528.2764184589292, 1502.0480918958456, 2734.7416768628927, 2608.252923058582, 2144.6525291873695, 2185.3294506856355, 1942.9913332044184, 1303.7951121267583, 1458.3321057020667, 2562.4090777621223, 2351.3350952214846, 1385.6631771293746, 4285.612563085916, 2553.5816900597765, 2758.0719018985124, 2327.156944720905], \"Category\": [\"Default\", \"Default\", \"Default\", \"Default\", \"Default\", \"Default\", \"Default\", \"Default\", \"Default\", \"Default\", \"Default\", \"Default\", \"Default\", \"Default\", \"Default\", \"Default\", \"Default\", \"Default\", \"Default\", \"Default\", \"Default\", \"Default\", \"Default\", \"Default\", \"Default\", \"Default\", \"Default\", \"Default\", \"Default\", \"Default\", \"Topic1\", \"Topic1\", \"Topic1\", \"Topic1\", \"Topic1\", \"Topic1\", \"Topic1\", \"Topic1\", \"Topic1\", \"Topic1\", \"Topic1\", \"Topic1\", \"Topic1\", \"Topic1\", \"Topic1\", \"Topic1\", \"Topic1\", \"Topic1\", \"Topic1\", \"Topic1\", \"Topic1\", \"Topic1\", \"Topic1\", \"Topic1\", \"Topic1\", \"Topic1\", \"Topic1\", \"Topic1\", \"Topic1\", \"Topic1\", \"Topic1\", \"Topic1\", \"Topic1\", \"Topic1\", \"Topic1\", \"Topic1\", \"Topic1\", \"Topic1\", \"Topic1\", \"Topic1\", \"Topic1\", \"Topic1\", \"Topic1\", \"Topic1\", \"Topic1\", \"Topic1\", \"Topic1\", \"Topic1\", \"Topic1\", \"Topic2\", \"Topic2\", \"Topic2\", \"Topic2\", \"Topic2\", \"Topic2\", \"Topic2\", \"Topic2\", \"Topic2\", \"Topic2\", \"Topic2\", \"Topic2\", \"Topic2\", \"Topic2\", \"Topic2\", \"Topic2\", \"Topic2\", \"Topic2\", \"Topic2\", \"Topic2\", \"Topic2\", \"Topic2\", \"Topic2\", \"Topic2\", \"Topic2\", \"Topic2\", \"Topic2\", \"Topic2\", \"Topic2\", \"Topic2\", \"Topic2\", \"Topic2\", \"Topic2\", \"Topic2\", \"Topic2\", \"Topic2\", \"Topic2\", \"Topic2\", \"Topic2\", \"Topic2\", \"Topic2\", \"Topic2\", \"Topic2\", \"Topic2\", \"Topic2\", \"Topic2\", \"Topic2\", \"Topic2\", \"Topic2\", \"Topic2\", \"Topic2\", \"Topic2\", \"Topic2\", \"Topic2\", \"Topic3\", \"Topic3\", \"Topic3\", \"Topic3\", \"Topic3\", \"Topic3\", \"Topic3\", \"Topic3\", \"Topic3\", \"Topic3\", \"Topic3\", \"Topic3\", \"Topic3\", \"Topic3\", \"Topic3\", \"Topic3\", \"Topic3\", \"Topic3\", \"Topic3\", \"Topic3\", \"Topic3\", \"Topic3\", \"Topic3\", \"Topic3\", \"Topic3\", \"Topic3\", \"Topic3\", \"Topic3\", \"Topic3\", \"Topic3\", \"Topic3\", \"Topic3\", \"Topic3\", \"Topic3\", \"Topic3\", \"Topic3\", \"Topic3\", \"Topic3\", \"Topic3\", \"Topic3\", \"Topic3\", \"Topic3\", \"Topic3\", \"Topic3\", \"Topic3\", \"Topic3\", \"Topic3\", \"Topic3\", \"Topic3\", \"Topic3\", \"Topic3\", \"Topic3\", \"Topic3\", \"Topic3\", \"Topic3\", \"Topic3\", \"Topic4\", \"Topic4\", \"Topic4\", \"Topic4\", \"Topic4\", \"Topic4\", \"Topic4\", \"Topic4\", \"Topic4\", \"Topic4\", \"Topic4\", \"Topic4\", \"Topic4\", \"Topic4\", \"Topic4\", \"Topic4\", \"Topic4\", \"Topic4\", \"Topic4\", \"Topic4\", \"Topic4\", \"Topic4\", \"Topic4\", \"Topic4\", \"Topic4\", \"Topic4\", \"Topic4\", \"Topic4\", \"Topic4\", \"Topic4\", \"Topic4\", \"Topic4\", \"Topic4\", \"Topic4\", \"Topic4\", \"Topic4\", \"Topic4\", \"Topic4\", \"Topic4\", \"Topic4\", \"Topic4\", \"Topic4\", \"Topic4\", \"Topic4\", \"Topic4\", \"Topic4\", \"Topic4\", \"Topic4\", \"Topic4\", \"Topic4\", \"Topic5\", \"Topic5\", \"Topic5\", \"Topic5\", \"Topic5\", \"Topic5\", \"Topic5\", \"Topic5\", \"Topic5\", \"Topic5\", \"Topic5\", \"Topic5\", \"Topic5\", \"Topic5\", \"Topic5\", \"Topic5\", \"Topic5\", \"Topic5\", \"Topic5\", \"Topic5\", \"Topic5\", \"Topic5\", \"Topic5\", \"Topic5\", \"Topic5\", \"Topic5\", \"Topic5\", \"Topic5\", \"Topic5\", \"Topic5\", \"Topic5\", \"Topic5\", \"Topic5\", \"Topic5\", \"Topic5\", \"Topic5\", \"Topic5\", \"Topic5\", \"Topic5\", \"Topic5\", \"Topic5\", \"Topic5\", \"Topic5\", \"Topic5\", \"Topic5\", \"Topic5\", \"Topic5\", \"Topic5\", \"Topic6\", \"Topic6\", \"Topic6\", \"Topic6\", \"Topic6\", \"Topic6\", \"Topic6\", \"Topic6\", \"Topic6\", \"Topic6\", \"Topic6\", \"Topic6\", \"Topic6\", \"Topic6\", \"Topic6\", \"Topic6\", \"Topic6\", \"Topic6\", \"Topic6\", \"Topic6\", \"Topic6\", \"Topic6\", \"Topic6\", \"Topic6\", \"Topic6\", \"Topic6\", \"Topic6\", \"Topic6\", \"Topic6\", \"Topic6\", \"Topic6\", \"Topic6\", \"Topic6\", \"Topic6\", \"Topic6\", \"Topic6\", \"Topic6\", \"Topic6\", \"Topic6\", \"Topic6\", \"Topic6\", \"Topic6\", \"Topic6\", \"Topic6\", \"Topic6\", \"Topic6\", \"Topic6\", \"Topic6\", \"Topic6\", \"Topic6\", \"Topic6\", \"Topic6\", \"Topic6\", \"Topic6\", \"Topic6\"], \"logprob\": [30.0, 29.0, 28.0, 27.0, 26.0, 25.0, 24.0, 23.0, 22.0, 21.0, 20.0, 19.0, 18.0, 17.0, 16.0, 15.0, 14.0, 13.0, 12.0, 11.0, 10.0, 9.0, 8.0, 7.0, 6.0, 5.0, 4.0, 3.0, 2.0, 1.0, -4.521, -4.7109, -4.7153, -4.8768, -4.8925, -4.9187, -4.9228, -5.2173, -5.2289, -5.2607, -5.2619, -5.3712, -5.3911, -5.3961, -5.4667, -5.5039, -5.5119, -5.5661, -5.5696, -5.6039, -5.6056, -5.6823, -5.7164, -5.8026, -5.9004, -5.913, -5.924, -5.936, -5.9648, -5.9884, -4.6399, -4.7671, -4.1799, -4.0814, -3.8379, -5.5172, -4.8751, -4.237, -4.7973, -4.9615, -4.5601, -4.8588, -4.8967, -4.9083, -5.2516, -5.1271, -5.1902, -5.3117, -5.334, -4.5728, -4.7807, -4.8668, -5.1067, -5.1427, -5.1505, -5.1873, -5.3603, -5.4811, -5.5578, -5.6282, -5.6382, -5.6366, -5.6462, -5.6863, -5.692, -5.7849, -5.8271, -5.8348, -5.8453, -5.8579, -5.8728, -5.8703, -5.8905, -5.9153, -5.9468, -5.9958, -6.056, -6.086, -6.1035, -4.5332, -5.0206, -4.2813, -5.1553, -5.5837, -5.1546, -5.4331, -4.8766, -5.137, -4.8511, -5.5346, -5.3887, -4.8706, -4.747, -5.0881, -4.5488, -4.7897, -5.0973, -5.1351, -5.4117, -5.4473, -5.3606, -5.2322, -5.4126, -4.4816, -4.5315, -4.893, -4.9509, -5.0981, -5.1489, -5.3003, -5.307, -5.3483, -5.3644, -5.4353, -5.5478, -5.5695, -5.5779, -5.5865, -5.6192, -5.634, -5.6395, -5.659, -5.6806, -5.7103, -5.7578, -5.7959, -5.8448, -5.852, -5.8929, -5.8974, -5.9103, -5.9326, -5.9737, -4.4676, -5.0306, -4.4933, -4.8067, -5.1079, -5.308, -5.0961, -3.6775, -4.6233, -4.2366, -5.0857, -5.2892, -4.8785, -5.0892, -5.3848, -5.0021, -5.0353, -5.0554, -5.0397, -5.1678, -5.1337, -5.1013, -5.2292, -5.1924, -5.2343, -5.2727, -4.5704, -4.5713, -4.8377, -4.9682, -5.0804, -5.0912, -5.1952, -5.2312, -5.2437, -5.3734, -5.3962, -5.413, -5.4459, -5.4535, -5.4888, -5.5798, -5.7024, -5.734, -5.8042, -5.8735, -5.8687, -5.886, -5.9303, -5.9555, -5.9752, -5.9841, -5.9936, -5.9919, -6.086, -6.1154, -5.6349, -4.724, -4.4459, -5.3779, -4.7355, -4.8903, -5.2776, -5.432, -5.7381, -5.396, -4.1399, -4.9983, -4.5948, -5.0617, -5.2321, -5.2544, -5.1106, -5.1817, -5.336, -5.3937, -4.6484, -4.6498, -4.7975, -5.1511, -5.1712, -5.2161, -5.2574, -5.2606, -5.2746, -5.3637, -5.3805, -5.4462, -5.4494, -5.545, -5.5949, -5.6612, -5.6657, -5.693, -5.7858, -5.8186, -5.8273, -5.8535, -5.8723, -5.9126, -5.9209, -5.9317, -5.9331, -5.9524, -5.9722, -5.9743, -5.0481, -4.0149, -4.8141, -5.1453, -4.2517, -5.2703, -5.1251, -5.458, -4.6477, -4.1333, -5.1684, -5.4135, -5.4829, -5.4237, -5.4664, -5.2641, -5.4069, -5.2865, -4.6207, -4.8635, -4.9331, -4.998, -5.1833, -5.2352, -5.4672, -5.4806, -5.4985, -5.625, -5.6803, -5.6927, -5.7598, -5.7805, -5.7869, -5.8262, -5.8423, -5.8473, -5.8516, -5.8656, -5.9224, -5.9519, -5.9835, -6.0214, -6.0471, -6.0518, -6.0734, -6.082, -6.0976, -6.1075, -4.7444, -5.2256, -4.6889, -3.5249, -4.348, -5.0199, -5.6405, -5.2109, -5.4437, -5.42, -4.9025, -4.928, -4.9885, -5.0826, -5.1006, -5.1389, -5.2899, -5.2774, -5.2219, -5.2659, -5.3641, -5.2883, -5.3574, -5.3761, -5.4301], \"loglift\": [30.0, 29.0, 28.0, 27.0, 26.0, 25.0, 24.0, 23.0, 22.0, 21.0, 20.0, 19.0, 18.0, 17.0, 16.0, 15.0, 14.0, 13.0, 12.0, 11.0, 10.0, 9.0, 8.0, 7.0, 6.0, 5.0, 4.0, 3.0, 2.0, 1.0, 1.5157, 1.5156, 1.5156, 1.5154, 1.5154, 1.5154, 1.5154, 1.5151, 1.5151, 1.5151, 1.5151, 1.515, 1.5149, 1.5149, 1.5148, 1.5148, 1.5148, 1.5147, 1.5147, 1.5147, 1.5146, 1.5145, 1.5145, 1.5143, 1.5141, 1.5141, 1.5141, 1.514, 1.514, 1.5139, 1.391, 1.3453, 1.13, 0.9217, 0.6071, 1.3332, 0.9071, 0.4111, 0.775, 0.884, 0.4944, 0.71, 0.6543, 0.5954, 0.9691, 0.5276, 0.305, 0.624, 0.6241, 1.6994, 1.6993, 1.6992, 1.699, 1.6989, 1.6989, 1.6989, 1.6986, 1.6984, 1.6983, 1.6982, 1.6982, 1.6982, 1.6981, 1.6981, 1.6981, 1.6979, 1.6978, 1.6977, 1.6977, 1.6977, 1.6977, 1.6977, 1.6976, 1.6975, 1.6975, 1.6973, 1.6972, 1.6971, 1.697, 1.6541, 1.6418, 1.5359, 1.6062, 1.6332, 1.5473, 1.5879, 1.3679, 1.4182, 1.2518, 1.5545, 1.434, 1.0741, 0.9181, 1.1722, 0.5056, 0.7055, 1.0352, 1.0086, 1.3272, 1.2484, 0.9889, 0.4958, 1.0455, 1.7079, 1.7079, 1.7076, 1.7075, 1.7074, 1.7073, 1.7071, 1.7071, 1.7071, 1.707, 1.7069, 1.7067, 1.7067, 1.7067, 1.7067, 1.7066, 1.7066, 1.7066, 1.7065, 1.7065, 1.7064, 1.7063, 1.7062, 1.7061, 1.7061, 1.706, 1.706, 1.706, 1.7059, 1.7058, 1.6332, 1.6493, 1.4538, 1.4972, 1.5551, 1.5871, 1.5228, 0.7675, 1.0345, 0.7665, 1.281, 1.4035, 1.018, 0.9881, 1.3185, 0.5702, 0.5783, 0.5994, 0.464, 0.777, 0.613, 0.4675, 0.7065, 0.3587, 0.3655, 0.871, 1.8532, 1.8532, 1.853, 1.8529, 1.8527, 1.8527, 1.8526, 1.8525, 1.8525, 1.8523, 1.8522, 1.8522, 1.8522, 1.8521, 1.8521, 1.8519, 1.8516, 1.8515, 1.8514, 1.8512, 1.8512, 1.8511, 1.851, 1.8509, 1.8509, 1.8509, 1.8508, 1.8508, 1.8505, 1.8504, 1.8107, 1.6568, 1.5964, 1.7322, 1.5943, 1.5411, 1.6307, 1.6744, 1.7769, 1.5197, 0.5082, 1.1762, 0.7151, 1.1219, 0.9886, 0.9112, 0.5471, 0.437, 0.6427, 1.0736, 1.8869, 1.8869, 1.8867, 1.8863, 1.8863, 1.8862, 1.8861, 1.8861, 1.8861, 1.886, 1.8859, 1.8858, 1.8858, 1.8856, 1.8855, 1.8854, 1.8853, 1.8853, 1.8851, 1.885, 1.8849, 1.8849, 1.8848, 1.8847, 1.8847, 1.8846, 1.8846, 1.8846, 1.8845, 1.8845, 1.8123, 1.5848, 1.6299, 1.6621, 1.3671, 1.6735, 1.4918, 1.6242, 0.966, 0.3117, 1.1846, 1.427, 1.4393, 1.2573, 1.3282, 0.6323, 1.058, 0.3712, 2.2187, 2.2184, 2.2183, 2.2182, 2.2178, 2.2177, 2.2172, 2.2171, 2.2171, 2.2167, 2.2165, 2.2165, 2.2162, 2.2162, 2.2162, 2.216, 2.2159, 2.2159, 2.2159, 2.2159, 2.2156, 2.2155, 2.2154, 2.2152, 2.215, 2.215, 2.2149, 2.2149, 2.2148, 2.2148, 1.9115, 2.008, 1.7204, 1.1232, 1.4342, 1.7002, 2.0099, 1.7645, 1.8338, 1.7278, 1.2005, 0.5757, 0.5625, 0.6642, 0.6274, 0.7066, 0.9546, 0.855, 0.3469, 0.3889, 0.8194, -0.2338, 0.2148, 0.1191, 0.235]}, \"token.table\": {\"Topic\": [4, 5, 5, 1, 3, 6, 6, 1, 2, 1, 3, 4, 6, 5, 4, 3, 2, 3, 4, 6, 1, 3, 6, 4, 3, 5, 1, 2, 1, 3, 6, 1, 3, 6, 5, 1, 4, 5, 5, 6, 5, 2, 5, 2, 6, 2, 6, 2, 3, 6, 2, 5, 1, 1, 4, 1, 4, 5, 1, 6, 1, 4, 1, 3, 4, 5, 2, 1, 2, 3, 4, 5, 6, 3, 5, 2, 5, 5, 5, 4, 4, 4, 1, 5, 2, 1, 6, 1, 3, 5, 4, 4, 4, 1, 5, 1, 2, 4, 2, 6, 6, 2, 3, 4, 3, 1, 2, 3, 5, 6, 2, 4, 6, 3, 5, 2, 1, 2, 4, 4, 2, 1, 3, 5, 6, 2, 1, 3, 4, 5, 1, 5, 1, 2, 3, 4, 5, 6, 1, 6, 1, 2, 3, 1, 2, 3, 4, 3, 5, 1, 4, 4, 1, 3, 3, 3, 3, 3, 5, 6, 2, 5, 5, 5, 3, 3, 3, 5, 1, 4, 6, 5, 2, 3, 5, 2, 6, 2, 4, 5, 6, 4, 2, 6, 1, 1, 2, 4, 5, 1, 1, 4, 2, 2, 2, 6, 4, 3, 3, 1, 4, 5, 6, 3, 2, 6, 6, 1, 4, 1, 2, 3, 4, 5, 6, 1, 2, 3, 4, 5, 6, 4, 6, 6, 2, 4, 5, 4, 6, 1, 3, 4, 5, 6, 2, 6, 3, 5, 3, 3, 5, 1, 2, 4, 3, 3, 5, 3, 3, 4, 5, 1, 4, 2, 2, 2, 4, 6, 2, 1, 2, 3, 5, 5, 4, 6, 3, 5, 5, 1, 3, 6, 6, 1, 4, 1, 2, 1, 1, 2, 3, 6, 3, 5, 1, 1, 1, 3, 6, 2, 3, 4, 5, 6, 1, 1, 6, 2, 4, 3, 3, 1, 3, 5, 1, 2, 3, 6, 3, 4, 5, 6, 2, 4, 2, 6, 6, 1, 2, 6, 1, 3, 4, 5, 6, 2, 6, 4, 1, 4, 1, 3, 4, 6, 1, 4, 1, 4, 3, 3, 3, 6, 6, 2, 6, 4, 1, 2, 3, 5, 1, 6, 2, 3, 6, 3, 4, 3, 5, 6, 2, 6, 1, 4, 2, 3, 4, 6, 2, 4, 1, 2, 3, 4, 6, 1, 2, 4, 5, 6, 2, 1, 2, 3, 4, 5, 6, 2, 5, 4, 2, 2, 3, 5, 1, 2, 3, 4, 5, 6, 3, 5, 6, 1, 2, 3, 5, 6, 4, 5, 4, 4, 4, 2, 4, 5, 5, 1, 2, 4, 5, 1, 3, 5, 6, 6, 4, 1, 2, 3, 5, 6, 6, 2, 4, 2, 2, 1, 2, 3, 4, 6, 2, 6, 2, 1, 2, 3, 4, 5, 6, 1, 2, 3, 4, 5, 6, 1, 6], \"Freq\": [0.9969892219817242, 0.995601846287178, 0.997814538826519, 0.1684007005761091, 0.8308511386039819, 0.9968404290888074, 0.9951998380575529, 0.9987200221788782, 0.9988304594551404, 0.218667858828228, 0.05412570763074951, 0.48063628376105566, 0.24681322679621776, 0.9975563012450281, 0.9984842490851571, 0.9986962608701203, 0.9983794450935347, 0.8579171507437579, 0.14104344461955803, 0.9967440158018877, 0.14197112984673357, 0.24608329173433818, 0.6114223325399325, 0.9971987205925353, 0.9975728107873834, 0.9964421026661707, 0.06287803717642655, 0.9350572625268594, 0.9989017988784076, 0.9981315562287548, 0.9991649827224659, 0.13227572738221766, 0.6771546410942885, 0.18931205019840325, 0.9989145815525213, 0.5789510349980291, 0.4209191224694598, 0.9972032658292147, 0.9983568431232323, 0.997592664303573, 0.9985311375548522, 0.9981803656451458, 0.9988764133158343, 0.9107329484612379, 0.0887578720957986, 0.8937096707433614, 0.10504423368811897, 0.18634956526279223, 0.6517901073377663, 0.1612140425064156, 0.9988406935465011, 0.9954437831060582, 0.9968704525601104, 0.6795903552401595, 0.32021478174658224, 0.1784398068401852, 0.8209989142302118, 0.9965263777286694, 0.18973350371045825, 0.8084297114619525, 0.8821913124101177, 0.11708859413308445, 0.9987633546195205, 0.9273825780558675, 0.07241024427513579, 0.9995634468583237, 0.999157731787129, 0.1455158168029215, 0.29972597486136343, 0.230628841725385, 0.005948759806408741, 0.11485682395450722, 0.20363062414245303, 0.9986174660361694, 0.9986764260375888, 0.2304448709349899, 0.767558685498851, 0.9963963885096616, 0.9983165737817833, 0.998642425203974, 0.9950475748032521, 0.9974070356933673, 0.9993373114637094, 0.9976127771053245, 0.9971893427901685, 0.9979698823427728, 0.9962848995560695, 0.9980322215949775, 0.22661457926453416, 0.7725497020381846, 0.9969591209221904, 0.9983756421558838, 0.9958672027378483, 0.3261495122712192, 0.6734486516180463, 0.997553996772633, 0.9978893807694964, 0.996388870823319, 0.8580170984748483, 0.14057907263147232, 0.9979444456992732, 0.9983644910800281, 0.9423888989180698, 0.0568989523875061, 0.9978105208645572, 0.372129009505376, 0.09696618761968655, 0.3300252701441963, 0.04082786847144697, 0.16033444180974485, 0.848509091046822, 0.06203722127936671, 0.0890534305461877, 0.9970269951903316, 0.9985068738057282, 0.996895414295446, 0.16598502201575313, 0.6890893338229751, 0.14460816311978492, 0.9987707397900707, 0.9977244619286757, 0.21337876627760335, 0.5014942577996465, 0.2848660686853283, 0.9989698089325407, 0.9975804416561591, 0.4100377733588335, 0.3672316321840102, 0.09969324984136474, 0.12334927522745129, 0.9986322642935019, 0.99769042297272, 0.03162742395807209, 0.08433979722152557, 0.08721501758135031, 0.4581184439987412, 0.24247691701188603, 0.09679908544743276, 0.9984103935759214, 0.9971657953484945, 0.24450127542480443, 0.6371486438409929, 0.11803509848094007, 0.12523378795805068, 0.49071198546828015, 0.19083243879322007, 0.19253629985387383, 0.07241863985835713, 0.9272425848530824, 0.998290905445959, 0.9980990588700183, 0.9991538108412931, 0.998083108906558, 0.9978651498890454, 0.9996931984295204, 0.9985768395489072, 0.9970391818113439, 0.9982727522111818, 0.9977853982652363, 0.9935754048268501, 0.20066610125256742, 0.7986241479380704, 0.9970569160703469, 0.9972401095378268, 0.9990087750572488, 0.9977697783502196, 0.998531072433789, 0.9980999988086977, 0.9985260594448162, 0.9585847657056837, 0.04079084109385888, 0.9983353488333576, 0.9986601576989269, 0.8098493214411412, 0.18964310743295065, 0.7545718657131546, 0.24489572340759802, 0.5898962514246272, 0.25403722320267963, 0.07870478387567681, 0.07714627330388123, 0.99527017134123, 0.9990306630410102, 0.9969181568756477, 0.9983702562598945, 0.9981325165451189, 0.2567418037244973, 0.5077623416278358, 0.23528705689515209, 0.9994683278180843, 0.8427599736050279, 0.15658937308610166, 0.9975040131243541, 0.9965065734679137, 0.31893324687310776, 0.6788106267907361, 0.999182090133566, 0.998216861618785, 0.9984814941704252, 0.5316544558623206, 0.15851846312255058, 0.08955263825754481, 0.2202789033001677, 0.9996855823402958, 0.9976306805670101, 0.9923452112015926, 0.9966507785019069, 0.11301378313024657, 0.885882235504836, 0.4225050378579596, 0.06901171217280647, 0.2591773190489843, 0.026837888067202515, 0.03182206727968299, 0.19054900527713786, 0.4095331259651917, 0.08063943408597304, 0.1670388277495156, 0.09158335728335511, 0.14342299348148063, 0.10713524814279277, 0.9987488927606077, 0.99695789855964, 0.994770247822288, 0.1517250579096203, 0.21575581629349674, 0.6305637727803486, 0.3925193434165348, 0.6068674641301726, 0.33119408027414887, 0.039165137601635626, 0.260323831280713, 0.03527970728401304, 0.33399159010283713, 0.9547419844838483, 0.044187603227249427, 0.8849959322628884, 0.11319715412664852, 0.9974102995207436, 0.7753038466729743, 0.2244450518656516, 0.9996731898471279, 0.999293202125934, 0.9994011933144594, 0.999165471686835, 0.36099871265209765, 0.6389224077482732, 0.9985661499263147, 0.5097466126178173, 0.2708695389224385, 0.21968159455914302, 0.9994845513235813, 0.999328935727003, 0.9994883855347622, 0.9961248259478428, 0.5194675272331257, 0.2231716067637743, 0.25640993117540023, 0.9967589392257056, 0.055919582897436725, 0.9436429613942446, 0.9986739164820355, 0.9990054900102262, 0.9960520392301879, 0.9973188848744251, 0.997335586466102, 0.26124073764673267, 0.7386390656113319, 0.9983617764894022, 0.9994257133405648, 0.9987329738122299, 0.9947954567380812, 0.995353226074172, 0.9995732267416165, 0.9961614001024441, 0.8322369798343068, 0.16588507368318953, 0.998555133049809, 0.9994216588761416, 0.9983137432943485, 0.9973069646725069, 0.9984251567184061, 0.9970020750298335, 0.9989987149725711, 0.999349272333915, 0.9988393353974278, 0.5519223073343912, 0.38989210385590123, 0.0582954083650381, 0.3796202822097716, 0.034424005439677025, 0.03538022781300139, 0.436037402235909, 0.11474668479892342, 0.9984483384002626, 0.9980616100270224, 0.9991945003769914, 0.7657826050835935, 0.2324697194003766, 0.9984600325435851, 0.9978730437837866, 0.40289271980397046, 0.3902071807673215, 0.2067742862973778, 0.9994036697071198, 0.5006917670891854, 0.432730834714199, 0.06588049566962965, 0.16327573962768543, 0.242452166130558, 0.5940283190474586, 0.9973429372462519, 0.996631597165369, 0.9976878975927967, 0.7171372183431662, 0.28225293727303225, 0.9952782386041861, 0.22971447908892134, 0.514286147214003, 0.2550859290181455, 0.06804381484999895, 0.3281696487036408, 0.3898343559114523, 0.2140545008822884, 0.9965876741132875, 0.4048058131584424, 0.5948670790925892, 0.9975869447002705, 0.22683718323499133, 0.7726249915158683, 0.9995211445310884, 0.1634544052701007, 0.8354336269360702, 0.9963980059128563, 0.07104409635455838, 0.9263057178536651, 0.22805357327500275, 0.7710382715488189, 0.9984953637693158, 0.9983066803923609, 0.9981858525053043, 0.9973763918755316, 0.9977009532588927, 0.2650537356833538, 0.7349743325717453, 0.9973507824683095, 0.08857164711644441, 0.1906127152229472, 0.3228579394889748, 0.39796016561536085, 0.9989549051994582, 0.9970448467879536, 0.534851419356843, 0.39389164039776, 0.07104827568502164, 0.28363547569491415, 0.715841914849069, 0.7372448588683032, 0.14528766762714118, 0.11767100353272592, 0.638461581339633, 0.3608406434682806, 0.2681602327430563, 0.7314301520681294, 0.18638190018711623, 0.08602241547097672, 0.09239444624660463, 0.6340170621749767, 0.8639567918786312, 0.13387760204730856, 0.47658549743576495, 0.05208370678632435, 0.3203343770767919, 0.016447486353576114, 0.1347127453721472, 0.1112945994414063, 0.4576399552320375, 0.13578800549607872, 0.15813286715999042, 0.13750684100868732, 0.9988264088050626, 0.1311140290957857, 0.0746703215029811, 0.24223757841911978, 0.29809333072449934, 0.07114258977843081, 0.18285409438918993, 0.19140074107105143, 0.8072789320980637, 0.9954804191725828, 0.9959558097621828, 0.9986536239853753, 0.9983052162981586, 0.9992040294493385, 0.4464548654343324, 0.0530750539327528, 0.2891809923836017, 0.02497649596835426, 0.03239139320895943, 0.1537615533051809, 0.4094690492411224, 0.571661334979489, 0.01861222951096011, 0.1486000448037822, 0.22646906391493446, 0.48668136944470153, 0.13821750892229523, 0.9971288508703227, 0.7999734936191644, 0.1996209462662347, 0.9987580085987792, 0.998298976647346, 0.9976445492541862, 0.998777077793471, 0.9984411822107438, 0.997402900261569, 0.997578926198574, 0.997528645687478, 0.2575252188341146, 0.20886838025255378, 0.5328517200761174, 0.21798976980509796, 0.07779242765593691, 0.4949650067339283, 0.2085862895389957, 0.9984579299866809, 0.9984598832255984, 0.3982094576659342, 0.0468051520488885, 0.28814421730096984, 0.07349871532677023, 0.19307125220166507, 0.9972616931948568, 0.9991276252971446, 0.9986775103648358, 0.9974797596807471, 0.9985488441994994, 0.2976717174903477, 0.36982357105987174, 0.08701731083761688, 0.12254937942964376, 0.1221868073011537, 0.18772851760296436, 0.8103614343194628, 0.997516296481262, 0.36004187902812684, 0.30287385546241646, 0.07303506684109119, 0.08656872139950425, 0.09146883770513657, 0.08586870478441393, 0.22940779138074352, 0.1487420435984902, 0.33431989109754695, 0.00979179597356832, 0.0662111918212715, 0.21122302742983093, 0.5439691384506623, 0.4560451746868785], \"Term\": [\"access\", \"act\", \"administration\", \"afp\", \"afp\", \"aircraft\", \"allegation\", \"analyst\", \"angeles\", \"announced\", \"announced\", \"announced\", \"announced\", \"appeal\", \"apple\", \"army\", \"athens\", \"attack\", \"attack\", \"attorney\", \"australia\", \"australia\", \"australia\", \"available\", \"baghdad\", \"bankruptcy\", \"beat\", \"beat\", \"billion\", \"bomb\", \"boston\", \"british\", \"british\", \"british\", \"bush\", \"business\", \"business\", \"california\", \"campaign\", \"captain\", \"care\", \"career\", \"case\", \"champion\", \"champion\", \"championship\", \"championship\", \"city\", \"city\", \"city\", \"coach\", \"committee\", \"communication\", \"company\", \"company\", \"computer\", \"computer\", \"congress\", \"contract\", \"contract\", \"corp\", \"corp\", \"cost\", \"country\", \"country\", \"court\", \"cup\", \"day\", \"day\", \"day\", \"day\", \"day\", \"day\", \"death\", \"debate\", \"decision\", \"decision\", \"democrat\", \"democratic\", \"designed\", \"desktop\", \"digital\", \"dollar\", \"donald\", \"dont\", \"earnings\", \"earth\", \"economy\", \"election\", \"election\", \"email\", \"engine\", \"feature\", \"federal\", \"federal\", \"fell\", \"field\", \"file\", \"final\", \"final\", \"foot\", \"football\", \"force\", \"force\", \"foreign\", \"friday\", \"friday\", \"friday\", \"friday\", \"friday\", \"game\", \"game\", \"game\", \"gaza\", \"george\", \"goal\", \"good\", \"good\", \"good\", \"google\", \"got\", \"government\", \"government\", \"government\", \"grand\", \"great\", \"group\", \"group\", \"group\", \"group\", \"growth\", \"health\", \"help\", \"help\", \"help\", \"help\", \"help\", \"help\", \"higher\", \"hill\", \"hit\", \"hit\", \"hit\", \"home\", \"home\", \"home\", \"home\", \"house\", \"house\", \"href\", \"information\", \"internet\", \"investor\", \"iran\", \"iraq\", \"iraqi\", \"israel\", \"israeli\", \"issue\", \"jet\", \"john\", \"john\", \"judge\", \"justice\", \"killed\", \"killing\", \"korea\", \"labor\", \"largest\", \"launched\", \"launched\", \"law\", \"lead\", \"leader\", \"leader\", \"league\", \"league\", \"like\", \"like\", \"like\", \"like\", \"linux\", \"los\", \"losing\", \"lower\", \"lta\", \"make\", \"make\", \"make\", \"maker\", \"market\", \"market\", \"match\", \"medal\", \"michael\", \"michael\", \"microsoft\", \"militant\", \"military\", \"million\", \"million\", \"million\", \"million\", \"minister\", \"minute\", \"miss\", \"mission\", \"mobile\", \"mobile\", \"monday\", \"monday\", \"monday\", \"monday\", \"monday\", \"monday\", \"month\", \"month\", \"month\", \"month\", \"month\", \"month\", \"music\", \"nasa\", \"nba\", \"need\", \"need\", \"need\", \"network\", \"network\", \"new\", \"new\", \"new\", \"new\", \"new\", \"night\", \"night\", \"north\", \"north\", \"nuclear\", \"official\", \"official\", \"oil\", \"olympic\", \"online\", \"palestinian\", \"party\", \"party\", \"peace\", \"people\", \"people\", \"people\", \"percent\", \"phone\", \"play\", \"played\", \"player\", \"player\", \"player\", \"playing\", \"point\", \"point\", \"police\", \"policy\", \"poll\", \"popular\", \"practice\", \"president\", \"president\", \"presidential\", \"price\", \"prime\", \"prix\", \"prize\", \"profit\", \"project\", \"quarter\", \"quarter\", \"quote\", \"rate\", \"really\", \"rebel\", \"red\", \"region\", \"republican\", \"research\", \"retailer\", \"reuters\", \"reuters\", \"reuters\", \"right\", \"right\", \"right\", \"right\", \"right\", \"rise\", \"rose\", \"round\", \"run\", \"run\", \"russia\", \"russian\", \"said\", \"said\", \"said\", \"sale\", \"saturday\", \"saturday\", \"saturday\", \"say\", \"say\", \"say\", \"scandal\", \"scored\", \"search\", \"season\", \"season\", \"seattle\", \"second\", \"second\", \"second\", \"security\", \"security\", \"security\", \"security\", \"selling\", \"series\", \"series\", \"server\", \"service\", \"service\", \"share\", \"site\", \"site\", \"size\", \"small\", \"small\", \"software\", \"software\", \"soldier\", \"south\", \"southern\", \"sox\", \"space\", \"sport\", \"sport\", \"standard\", \"state\", \"state\", \"state\", \"state\", \"stock\", \"summer\", \"sunday\", \"sunday\", \"sunday\", \"support\", \"support\", \"talk\", \"talk\", \"talk\", \"team\", \"team\", \"technology\", \"technology\", \"test\", \"test\", \"test\", \"test\", \"thing\", \"thing\", \"thursday\", \"thursday\", \"thursday\", \"thursday\", \"thursday\", \"time\", \"time\", \"time\", \"time\", \"time\", \"title\", \"today\", \"today\", \"today\", \"today\", \"today\", \"today\", \"told\", \"told\", \"tool\", \"touchdown\", \"tour\", \"troop\", \"trump\", \"tuesday\", \"tuesday\", \"tuesday\", \"tuesday\", \"tuesday\", \"tuesday\", \"union\", \"union\", \"union\", \"united\", \"united\", \"united\", \"united\", \"update\", \"use\", \"use\", \"user\", \"using\", \"version\", \"victory\", \"video\", \"vote\", \"voter\", \"wall\", \"want\", \"want\", \"want\", \"washington\", \"washington\", \"washington\", \"washington\", \"weapon\", \"web\", \"wednesday\", \"wednesday\", \"wednesday\", \"wednesday\", \"wednesday\", \"williams\", \"win\", \"window\", \"winning\", \"woman\", \"world\", \"world\", \"world\", \"world\", \"world\", \"yankee\", \"yankee\", \"yard\", \"year\", \"year\", \"year\", \"year\", \"year\", \"year\", \"yesterday\", \"yesterday\", \"yesterday\", \"yesterday\", \"yesterday\", \"yesterday\", \"york\", \"york\"]}, \"R\": 30, \"lambda.step\": 0.01, \"plot.opts\": {\"xlab\": \"PC1\", \"ylab\": \"PC2\"}, \"topic.order\": [3, 2, 4, 1, 5, 6]};\n",
       "\n",
       "function LDAvis_load_lib(url, callback){\n",
       "  var s = document.createElement('script');\n",
       "  s.src = url;\n",
       "  s.async = true;\n",
       "  s.onreadystatechange = s.onload = callback;\n",
       "  s.onerror = function(){console.warn(\"failed to load library \" + url);};\n",
       "  document.getElementsByTagName(\"head\")[0].appendChild(s);\n",
       "}\n",
       "\n",
       "if(typeof(LDAvis) !== \"undefined\"){\n",
       "   // already loaded: just create the visualization\n",
       "   !function(LDAvis){\n",
       "       new LDAvis(\"#\" + \"ldavis_el1341621715350787049845784764\", ldavis_el1341621715350787049845784764_data);\n",
       "   }(LDAvis);\n",
       "}else if(typeof define === \"function\" && define.amd){\n",
       "   // require.js is available: use it to load d3/LDAvis\n",
       "   require.config({paths: {d3: \"https://d3js.org/d3.v5\"}});\n",
       "   require([\"d3\"], function(d3){\n",
       "      window.d3 = d3;\n",
       "      LDAvis_load_lib(\"https://cdn.jsdelivr.net/gh/bmabey/pyLDAvis@3.4.0/pyLDAvis/js/ldavis.v3.0.0.js\", function(){\n",
       "        new LDAvis(\"#\" + \"ldavis_el1341621715350787049845784764\", ldavis_el1341621715350787049845784764_data);\n",
       "      });\n",
       "    });\n",
       "}else{\n",
       "    // require.js not available: dynamically load d3 & LDAvis\n",
       "    LDAvis_load_lib(\"https://d3js.org/d3.v5.js\", function(){\n",
       "         LDAvis_load_lib(\"https://cdn.jsdelivr.net/gh/bmabey/pyLDAvis@3.4.0/pyLDAvis/js/ldavis.v3.0.0.js\", function(){\n",
       "                 new LDAvis(\"#\" + \"ldavis_el1341621715350787049845784764\", ldavis_el1341621715350787049845784764_data);\n",
       "            })\n",
       "         });\n",
       "}\n",
       "</script>"
      ],
      "text/plain": [
       "<IPython.core.display.HTML object>"
      ]
     },
     "execution_count": 122,
     "metadata": {},
     "output_type": "execute_result"
    }
   ],
   "source": [
    "import pyLDAvis.gensim_models\n",
    "\n",
    "pyLDAvis.enable_notebook()\n",
    "vis = pyLDAvis.gensim_models.prepare(ldamodel, corpus, dictionary)\n",
    "pyLDAvis.display(vis)"
   ]
  },
  {
   "cell_type": "markdown",
   "metadata": {},
   "source": [
    "Business, Entertainment, Politics, Sports, Tech, World  \n",
    "Politics - 4 <br/>\n",
    "Tech - 0 <br/>\n",
    "Sports - 1 <br/>\n",
    "Business - 2 <br/>\n",
    "World - 3 <br/>\n",
    "Entertainment - 5 <br/>"
   ]
  },
  {
   "cell_type": "code",
   "execution_count": 123,
   "metadata": {},
   "outputs": [
    {
     "name": "stdout",
     "output_type": "stream",
     "text": [
      "0 번째 문서의 topic 비율은 [(1, 0.30019727), (3, 0.3870032), (4, 0.16775833), (5, 0.1283482)]\n",
      "[(3, 0.3870032), (1, 0.30019727), (4, 0.16775833), (5, 0.1283482)]\n",
      "1 번째 문서의 topic 비율은 [(0, 0.01857243), (1, 0.77370006), (2, 0.018521767), (3, 0.15209904), (4, 0.018545438), (5, 0.01856129)]\n",
      "[(1, 0.77370006), (3, 0.15209904), (0, 0.01857243), (5, 0.01856129), (4, 0.018545438), (2, 0.018521767)]\n",
      "2 번째 문서의 topic 비율은 [(0, 0.5534282), (1, 0.26930615), (2, 0.015234957), (3, 0.015307034), (4, 0.015248857), (5, 0.13147484)]\n",
      "[(0, 0.5534282), (1, 0.26930615), (5, 0.13147484), (3, 0.015307034), (4, 0.015248857), (2, 0.015234957)]\n",
      "3 번째 문서의 topic 비율은 [(0, 0.7848649), (1, 0.016687931), (2, 0.1483837), (3, 0.016679322), (4, 0.016694361), (5, 0.016689822)]\n",
      "[(0, 0.7848649), (2, 0.1483837), (4, 0.016694361), (5, 0.016689822), (1, 0.016687931), (3, 0.016679322)]\n",
      "4 번째 문서의 topic 비율은 [(0, 0.83310395), (1, 0.033453334), (2, 0.033335418), (3, 0.033335418), (4, 0.033436485), (5, 0.03333542)]\n",
      "[(0, 0.83310395), (1, 0.033453334), (4, 0.033436485), (5, 0.03333542), (2, 0.033335418), (3, 0.033335418)]\n"
     ]
    }
   ],
   "source": [
    "for i, topic_list in enumerate(ldamodel[corpus]):\n",
    "    if i==5:\n",
    "        break\n",
    "    print(i,'번째 문서의 topic 비율은',topic_list)\n",
    "    # doc = topic_list[0] if ldamodel.per_word_topics else topic_list            \n",
    "    doc = sorted(topic_list, key=lambda x: (x[1]), reverse=True)\n",
    "    print(doc)"
   ]
  },
  {
   "cell_type": "code",
   "execution_count": 124,
   "metadata": {},
   "outputs": [],
   "source": [
    "def make_topictable_per_doc(ldamodel, corpus):\n",
    "    topic_table = pd.DataFrame()\n",
    "\n",
    "    # 몇 번째 문서인지를 의미하는 문서 번호와 해당 문서의 토픽 비중을 한 줄씩 꺼내온다.\n",
    "    for i, topic_list in enumerate(ldamodel[corpus]):\n",
    "        doc = topic_list[0] if ldamodel.per_word_topics else topic_list            \n",
    "        doc = sorted(doc, key=lambda x: (x[1]), reverse=True)\n",
    "        # 각 문서에 대해서 비중이 높은 토픽순으로 토픽을 정렬한다.\n",
    "\n",
    "        # 모든 문서에 대해서 각각 아래를 수행\n",
    "        for j, (topic_num, prop_topic) in enumerate(doc): #  몇 번 토픽인지와 비중을 나눠서 저장한다.\n",
    "            if j == 0:  # 정렬을 한 상태이므로 가장 앞에 있는 것이 가장 비중이 높은 토픽\n",
    "                topic_table = pd.concat([topic_table, pd.DataFrame([int(topic_num), round(prop_topic,4), doc]).T], ignore_index= True)\n",
    "                # pd.DataFrame({'가장 비중이 높은 토픽' : int(topic_num), '가장 높은 토픽의 비중' : round(prop_topic,4), '각 토픽의 비중':topic_list})\n",
    "                # print(topic_table)\n",
    "                # topic_table.append(pd.Series([int(topic_num), round(prop_topic,4), topic_list]), ignore_index=True)\n",
    "                # 가장 비중이 높은 토픽과, 가장 비중이 높은 토픽의 비중과, 전체 토픽의 비중을 저장한다.\n",
    "            else:\n",
    "                break\n",
    "    return topic_table"
   ]
  },
  {
   "cell_type": "code",
   "execution_count": 125,
   "metadata": {},
   "outputs": [],
   "source": [
    "topictable = make_topictable_per_doc(ldamodel, corpus)"
   ]
  },
  {
   "cell_type": "code",
   "execution_count": 126,
   "metadata": {},
   "outputs": [
    {
     "data": {
      "text/html": [
       "<div>\n",
       "<style scoped>\n",
       "    .dataframe tbody tr th:only-of-type {\n",
       "        vertical-align: middle;\n",
       "    }\n",
       "\n",
       "    .dataframe tbody tr th {\n",
       "        vertical-align: top;\n",
       "    }\n",
       "\n",
       "    .dataframe thead th {\n",
       "        text-align: right;\n",
       "    }\n",
       "</style>\n",
       "<table border=\"1\" class=\"dataframe\">\n",
       "  <thead>\n",
       "    <tr style=\"text-align: right;\">\n",
       "      <th></th>\n",
       "      <th>num</th>\n",
       "      <th>best_topic</th>\n",
       "      <th>best_topic_rate</th>\n",
       "      <th>topic_rate</th>\n",
       "    </tr>\n",
       "  </thead>\n",
       "  <tbody>\n",
       "    <tr>\n",
       "      <th>0</th>\n",
       "      <td>0</td>\n",
       "      <td>3</td>\n",
       "      <td>0.3871</td>\n",
       "      <td>[(3, 0.38706496), (1, 0.30021867), (4, 0.16776...</td>\n",
       "    </tr>\n",
       "    <tr>\n",
       "      <th>1</th>\n",
       "      <td>1</td>\n",
       "      <td>1</td>\n",
       "      <td>0.7737</td>\n",
       "      <td>[(1, 0.77370757), (3, 0.1520915), (0, 0.018572...</td>\n",
       "    </tr>\n",
       "    <tr>\n",
       "      <th>2</th>\n",
       "      <td>2</td>\n",
       "      <td>0</td>\n",
       "      <td>0.5535</td>\n",
       "      <td>[(0, 0.55345213), (1, 0.2692915), (5, 0.131465...</td>\n",
       "    </tr>\n",
       "    <tr>\n",
       "      <th>3</th>\n",
       "      <td>3</td>\n",
       "      <td>0</td>\n",
       "      <td>0.7849</td>\n",
       "      <td>[(0, 0.7848793), (2, 0.14836921), (4, 0.016694...</td>\n",
       "    </tr>\n",
       "    <tr>\n",
       "      <th>4</th>\n",
       "      <td>4</td>\n",
       "      <td>0</td>\n",
       "      <td>0.8331</td>\n",
       "      <td>[(0, 0.8331153), (1, 0.033446807), (4, 0.03343...</td>\n",
       "    </tr>\n",
       "    <tr>\n",
       "      <th>...</th>\n",
       "      <td>...</td>\n",
       "      <td>...</td>\n",
       "      <td>...</td>\n",
       "      <td>...</td>\n",
       "    </tr>\n",
       "    <tr>\n",
       "      <th>59995</th>\n",
       "      <td>59995</td>\n",
       "      <td>1</td>\n",
       "      <td>0.5471</td>\n",
       "      <td>[(1, 0.5470573), (4, 0.38566053), (3, 0.016893...</td>\n",
       "    </tr>\n",
       "    <tr>\n",
       "      <th>59996</th>\n",
       "      <td>59996</td>\n",
       "      <td>2</td>\n",
       "      <td>0.5543</td>\n",
       "      <td>[(2, 0.55431587), (3, 0.29467893), (0, 0.11966...</td>\n",
       "    </tr>\n",
       "    <tr>\n",
       "      <th>59997</th>\n",
       "      <td>59997</td>\n",
       "      <td>1</td>\n",
       "      <td>0.4721</td>\n",
       "      <td>[(1, 0.47208622), (0, 0.29982916), (5, 0.18620...</td>\n",
       "    </tr>\n",
       "    <tr>\n",
       "      <th>59998</th>\n",
       "      <td>59998</td>\n",
       "      <td>2</td>\n",
       "      <td>0.8808</td>\n",
       "      <td>[(2, 0.88078445), (4, 0.023868008), (0, 0.0238...</td>\n",
       "    </tr>\n",
       "    <tr>\n",
       "      <th>59999</th>\n",
       "      <td>59999</td>\n",
       "      <td>5</td>\n",
       "      <td>0.7618</td>\n",
       "      <td>[(5, 0.76178455), (2, 0.1047389), (1, 0.097624...</td>\n",
       "    </tr>\n",
       "  </tbody>\n",
       "</table>\n",
       "<p>60000 rows × 4 columns</p>\n",
       "</div>"
      ],
      "text/plain": [
       "         num best_topic best_topic_rate  \\\n",
       "0          0          3          0.3871   \n",
       "1          1          1          0.7737   \n",
       "2          2          0          0.5535   \n",
       "3          3          0          0.7849   \n",
       "4          4          0          0.8331   \n",
       "...      ...        ...             ...   \n",
       "59995  59995          1          0.5471   \n",
       "59996  59996          2          0.5543   \n",
       "59997  59997          1          0.4721   \n",
       "59998  59998          2          0.8808   \n",
       "59999  59999          5          0.7618   \n",
       "\n",
       "                                              topic_rate  \n",
       "0      [(3, 0.38706496), (1, 0.30021867), (4, 0.16776...  \n",
       "1      [(1, 0.77370757), (3, 0.1520915), (0, 0.018572...  \n",
       "2      [(0, 0.55345213), (1, 0.2692915), (5, 0.131465...  \n",
       "3      [(0, 0.7848793), (2, 0.14836921), (4, 0.016694...  \n",
       "4      [(0, 0.8331153), (1, 0.033446807), (4, 0.03343...  \n",
       "...                                                  ...  \n",
       "59995  [(1, 0.5470573), (4, 0.38566053), (3, 0.016893...  \n",
       "59996  [(2, 0.55431587), (3, 0.29467893), (0, 0.11966...  \n",
       "59997  [(1, 0.47208622), (0, 0.29982916), (5, 0.18620...  \n",
       "59998  [(2, 0.88078445), (4, 0.023868008), (0, 0.0238...  \n",
       "59999  [(5, 0.76178455), (2, 0.1047389), (1, 0.097624...  \n",
       "\n",
       "[60000 rows x 4 columns]"
      ]
     },
     "execution_count": 126,
     "metadata": {},
     "output_type": "execute_result"
    }
   ],
   "source": [
    "topictable = topictable.reset_index() # 문서 번호을 의미하는 열(column)로 사용하기 위해서 인덱스 열을 하나 더 만든다.\n",
    "topictable.columns = ['num', 'best_topic', 'best_topic_rate', 'topic_rate']\n",
    "topictable"
   ]
  },
  {
   "cell_type": "code",
   "execution_count": 127,
   "metadata": {},
   "outputs": [
    {
     "data": {
      "text/html": [
       "<div>\n",
       "<style scoped>\n",
       "    .dataframe tbody tr th:only-of-type {\n",
       "        vertical-align: middle;\n",
       "    }\n",
       "\n",
       "    .dataframe tbody tr th {\n",
       "        vertical-align: top;\n",
       "    }\n",
       "\n",
       "    .dataframe thead th {\n",
       "        text-align: right;\n",
       "    }\n",
       "</style>\n",
       "<table border=\"1\" class=\"dataframe\">\n",
       "  <thead>\n",
       "    <tr style=\"text-align: right;\">\n",
       "      <th></th>\n",
       "      <th>contents</th>\n",
       "      <th>tfidf_tokens</th>\n",
       "      <th>best_topic_rate</th>\n",
       "      <th>topic</th>\n",
       "    </tr>\n",
       "  </thead>\n",
       "  <tbody>\n",
       "    <tr>\n",
       "      <th>0</th>\n",
       "      <td>madrid afp spanish national team coach luis ar...</td>\n",
       "      <td>[afp, arsenal, coach, comment, decided, face, ...</td>\n",
       "      <td>0.3871</td>\n",
       "      <td>3</td>\n",
       "    </tr>\n",
       "    <tr>\n",
       "      <th>1</th>\n",
       "      <td>bosnia one man hero often another man villain ...</td>\n",
       "      <td>[citizen, decided, great, hero, lee, look, man...</td>\n",
       "      <td>0.7737</td>\n",
       "      <td>1</td>\n",
       "    </tr>\n",
       "    <tr>\n",
       "      <th>2</th>\n",
       "      <td>yasmine hamdan performs hal also sings film sc...</td>\n",
       "      <td>[begin, continue, creation, film, living, myst...</td>\n",
       "      <td>0.5535</td>\n",
       "      <td>0</td>\n",
       "    </tr>\n",
       "    <tr>\n",
       "      <th>3</th>\n",
       "      <td>macromedia announced special version contribut...</td>\n",
       "      <td>[announced, application, creation, designed, e...</td>\n",
       "      <td>0.7849</td>\n",
       "      <td>0</td>\n",
       "    </tr>\n",
       "    <tr>\n",
       "      <th>4</th>\n",
       "      <td>overtheair fix cell phone come qualcomms cdma</td>\n",
       "      <td>[cell, come, fix, phone]</td>\n",
       "      <td>0.8331</td>\n",
       "      <td>0</td>\n",
       "    </tr>\n",
       "  </tbody>\n",
       "</table>\n",
       "</div>"
      ],
      "text/plain": [
       "                                            contents  \\\n",
       "0  madrid afp spanish national team coach luis ar...   \n",
       "1  bosnia one man hero often another man villain ...   \n",
       "2  yasmine hamdan performs hal also sings film sc...   \n",
       "3  macromedia announced special version contribut...   \n",
       "4      overtheair fix cell phone come qualcomms cdma   \n",
       "\n",
       "                                        tfidf_tokens best_topic_rate topic  \n",
       "0  [afp, arsenal, coach, comment, decided, face, ...          0.3871     3  \n",
       "1  [citizen, decided, great, hero, lee, look, man...          0.7737     1  \n",
       "2  [begin, continue, creation, film, living, myst...          0.5535     0  \n",
       "3  [announced, application, creation, designed, e...          0.7849     0  \n",
       "4                           [cell, come, fix, phone]          0.8331     0  "
      ]
     },
     "execution_count": 127,
     "metadata": {},
     "output_type": "execute_result"
    }
   ],
   "source": [
    "# 토픽 비율이 가장 큰 토픽을 베스트 토픽으로 추가\n",
    "df['best_topic_rate'] = topictable['best_topic_rate']\n",
    "df['topic'] = topictable['best_topic']\n",
    "df.head()"
   ]
  },
  {
   "cell_type": "markdown",
   "metadata": {},
   "source": [
    "Business, Entertainment, Politics, Sports, Tech, World  \n",
    "Politics - 4 <br/>\n",
    "Tech - 0 <br/>\n",
    "Sports - 1 <br/>\n",
    "Business - 2 <br/>\n",
    "World - 3 <br/>\n",
    "Entertainment - 5 <br/>"
   ]
  },
  {
   "cell_type": "code",
   "execution_count": 135,
   "metadata": {},
   "outputs": [
    {
     "data": {
      "text/plain": [
       "topic\n",
       "Politics         12983\n",
       "World            12678\n",
       "Tech             11105\n",
       "Entertainment     9897\n",
       "Business          8817\n",
       "Sports            4520\n",
       "Name: count, dtype: int64"
      ]
     },
     "execution_count": 135,
     "metadata": {},
     "output_type": "execute_result"
    }
   ],
   "source": [
    "# 토픽 번호에 맞게 재설정\n",
    "df['topic'] = df['topic'].replace({5: 'Entertainment', 2: 'Business', 0:'Tech', 3:'World', 1:'Sports', 4:'Politics'})\n",
    "df.topic.value_counts()"
   ]
  },
  {
   "cell_type": "code",
   "execution_count": 130,
   "metadata": {},
   "outputs": [
    {
     "data": {
      "text/html": [
       "<div>\n",
       "<style scoped>\n",
       "    .dataframe tbody tr th:only-of-type {\n",
       "        vertical-align: middle;\n",
       "    }\n",
       "\n",
       "    .dataframe tbody tr th {\n",
       "        vertical-align: top;\n",
       "    }\n",
       "\n",
       "    .dataframe thead th {\n",
       "        text-align: right;\n",
       "    }\n",
       "</style>\n",
       "<table border=\"1\" class=\"dataframe\">\n",
       "  <thead>\n",
       "    <tr style=\"text-align: right;\">\n",
       "      <th></th>\n",
       "      <th>contents</th>\n",
       "      <th>tfidf_tokens</th>\n",
       "      <th>best_topic_rate</th>\n",
       "      <th>topic</th>\n",
       "    </tr>\n",
       "  </thead>\n",
       "  <tbody>\n",
       "    <tr>\n",
       "      <th>0</th>\n",
       "      <td>madrid afp spanish national team coach luis ar...</td>\n",
       "      <td>[afp, arsenal, coach, comment, decided, face, ...</td>\n",
       "      <td>0.3871</td>\n",
       "      <td>5</td>\n",
       "    </tr>\n",
       "    <tr>\n",
       "      <th>1</th>\n",
       "      <td>bosnia one man hero often another man villain ...</td>\n",
       "      <td>[citizen, decided, great, hero, lee, look, man...</td>\n",
       "      <td>0.7737</td>\n",
       "      <td>3</td>\n",
       "    </tr>\n",
       "    <tr>\n",
       "      <th>2</th>\n",
       "      <td>yasmine hamdan performs hal also sings film sc...</td>\n",
       "      <td>[begin, continue, creation, film, living, myst...</td>\n",
       "      <td>0.5535</td>\n",
       "      <td>4</td>\n",
       "    </tr>\n",
       "    <tr>\n",
       "      <th>3</th>\n",
       "      <td>macromedia announced special version contribut...</td>\n",
       "      <td>[announced, application, creation, designed, e...</td>\n",
       "      <td>0.7849</td>\n",
       "      <td>4</td>\n",
       "    </tr>\n",
       "    <tr>\n",
       "      <th>4</th>\n",
       "      <td>overtheair fix cell phone come qualcomms cdma</td>\n",
       "      <td>[cell, come, fix, phone]</td>\n",
       "      <td>0.8331</td>\n",
       "      <td>4</td>\n",
       "    </tr>\n",
       "  </tbody>\n",
       "</table>\n",
       "</div>"
      ],
      "text/plain": [
       "                                            contents  \\\n",
       "0  madrid afp spanish national team coach luis ar...   \n",
       "1  bosnia one man hero often another man villain ...   \n",
       "2  yasmine hamdan performs hal also sings film sc...   \n",
       "3  macromedia announced special version contribut...   \n",
       "4      overtheair fix cell phone come qualcomms cdma   \n",
       "\n",
       "                                        tfidf_tokens best_topic_rate  topic  \n",
       "0  [afp, arsenal, coach, comment, decided, face, ...          0.3871      5  \n",
       "1  [citizen, decided, great, hero, lee, look, man...          0.7737      3  \n",
       "2  [begin, continue, creation, film, living, myst...          0.5535      4  \n",
       "3  [announced, application, creation, designed, e...          0.7849      4  \n",
       "4                           [cell, come, fix, phone]          0.8331      4  "
      ]
     },
     "execution_count": 130,
     "metadata": {},
     "output_type": "execute_result"
    }
   ],
   "source": [
    "df['topic'] = df['topic'].replace({'Business':0,'Entertainment':1, 'Politics':2, 'Sports':3, 'Tech':4, 'World':5})\n",
    "df.head()"
   ]
  },
  {
   "cell_type": "code",
   "execution_count": 132,
   "metadata": {},
   "outputs": [
    {
     "data": {
      "text/html": [
       "<div>\n",
       "<style scoped>\n",
       "    .dataframe tbody tr th:only-of-type {\n",
       "        vertical-align: middle;\n",
       "    }\n",
       "\n",
       "    .dataframe tbody tr th {\n",
       "        vertical-align: top;\n",
       "    }\n",
       "\n",
       "    .dataframe thead th {\n",
       "        text-align: right;\n",
       "    }\n",
       "</style>\n",
       "<table border=\"1\" class=\"dataframe\">\n",
       "  <thead>\n",
       "    <tr style=\"text-align: right;\">\n",
       "      <th></th>\n",
       "      <th>id</th>\n",
       "      <th>category</th>\n",
       "    </tr>\n",
       "  </thead>\n",
       "  <tbody>\n",
       "    <tr>\n",
       "      <th>0</th>\n",
       "      <td>NEWS_00000</td>\n",
       "      <td>-1</td>\n",
       "    </tr>\n",
       "    <tr>\n",
       "      <th>1</th>\n",
       "      <td>NEWS_00001</td>\n",
       "      <td>-1</td>\n",
       "    </tr>\n",
       "    <tr>\n",
       "      <th>2</th>\n",
       "      <td>NEWS_00002</td>\n",
       "      <td>-1</td>\n",
       "    </tr>\n",
       "    <tr>\n",
       "      <th>3</th>\n",
       "      <td>NEWS_00003</td>\n",
       "      <td>-1</td>\n",
       "    </tr>\n",
       "    <tr>\n",
       "      <th>4</th>\n",
       "      <td>NEWS_00004</td>\n",
       "      <td>-1</td>\n",
       "    </tr>\n",
       "    <tr>\n",
       "      <th>...</th>\n",
       "      <td>...</td>\n",
       "      <td>...</td>\n",
       "    </tr>\n",
       "    <tr>\n",
       "      <th>59995</th>\n",
       "      <td>NEWS_59995</td>\n",
       "      <td>-1</td>\n",
       "    </tr>\n",
       "    <tr>\n",
       "      <th>59996</th>\n",
       "      <td>NEWS_59996</td>\n",
       "      <td>-1</td>\n",
       "    </tr>\n",
       "    <tr>\n",
       "      <th>59997</th>\n",
       "      <td>NEWS_59997</td>\n",
       "      <td>-1</td>\n",
       "    </tr>\n",
       "    <tr>\n",
       "      <th>59998</th>\n",
       "      <td>NEWS_59998</td>\n",
       "      <td>-1</td>\n",
       "    </tr>\n",
       "    <tr>\n",
       "      <th>59999</th>\n",
       "      <td>NEWS_59999</td>\n",
       "      <td>-1</td>\n",
       "    </tr>\n",
       "  </tbody>\n",
       "</table>\n",
       "<p>60000 rows × 2 columns</p>\n",
       "</div>"
      ],
      "text/plain": [
       "               id  category\n",
       "0      NEWS_00000        -1\n",
       "1      NEWS_00001        -1\n",
       "2      NEWS_00002        -1\n",
       "3      NEWS_00003        -1\n",
       "4      NEWS_00004        -1\n",
       "...           ...       ...\n",
       "59995  NEWS_59995        -1\n",
       "59996  NEWS_59996        -1\n",
       "59997  NEWS_59997        -1\n",
       "59998  NEWS_59998        -1\n",
       "59999  NEWS_59999        -1\n",
       "\n",
       "[60000 rows x 2 columns]"
      ]
     },
     "execution_count": 132,
     "metadata": {},
     "output_type": "execute_result"
    }
   ],
   "source": [
    "submission = pd.read_csv('./data/sample_submission.csv')\n",
    "submission"
   ]
  },
  {
   "cell_type": "code",
   "execution_count": 133,
   "metadata": {},
   "outputs": [
    {
     "data": {
      "text/html": [
       "<div>\n",
       "<style scoped>\n",
       "    .dataframe tbody tr th:only-of-type {\n",
       "        vertical-align: middle;\n",
       "    }\n",
       "\n",
       "    .dataframe tbody tr th {\n",
       "        vertical-align: top;\n",
       "    }\n",
       "\n",
       "    .dataframe thead th {\n",
       "        text-align: right;\n",
       "    }\n",
       "</style>\n",
       "<table border=\"1\" class=\"dataframe\">\n",
       "  <thead>\n",
       "    <tr style=\"text-align: right;\">\n",
       "      <th></th>\n",
       "      <th>id</th>\n",
       "      <th>category</th>\n",
       "    </tr>\n",
       "  </thead>\n",
       "  <tbody>\n",
       "    <tr>\n",
       "      <th>0</th>\n",
       "      <td>NEWS_00000</td>\n",
       "      <td>5</td>\n",
       "    </tr>\n",
       "    <tr>\n",
       "      <th>1</th>\n",
       "      <td>NEWS_00001</td>\n",
       "      <td>3</td>\n",
       "    </tr>\n",
       "    <tr>\n",
       "      <th>2</th>\n",
       "      <td>NEWS_00002</td>\n",
       "      <td>4</td>\n",
       "    </tr>\n",
       "    <tr>\n",
       "      <th>3</th>\n",
       "      <td>NEWS_00003</td>\n",
       "      <td>4</td>\n",
       "    </tr>\n",
       "    <tr>\n",
       "      <th>4</th>\n",
       "      <td>NEWS_00004</td>\n",
       "      <td>4</td>\n",
       "    </tr>\n",
       "  </tbody>\n",
       "</table>\n",
       "</div>"
      ],
      "text/plain": [
       "           id  category\n",
       "0  NEWS_00000         5\n",
       "1  NEWS_00001         3\n",
       "2  NEWS_00002         4\n",
       "3  NEWS_00003         4\n",
       "4  NEWS_00004         4"
      ]
     },
     "execution_count": 133,
     "metadata": {},
     "output_type": "execute_result"
    }
   ],
   "source": [
    "submission['category'] = df['topic'].values\n",
    "submission.head()"
   ]
  },
  {
   "cell_type": "code",
   "execution_count": 134,
   "metadata": {},
   "outputs": [],
   "source": [
    "submission.to_csv('submission1.csv', index = 0)"
   ]
  }
 ],
 "metadata": {
  "kernelspec": {
   "display_name": "base",
   "language": "python",
   "name": "python3"
  },
  "language_info": {
   "codemirror_mode": {
    "name": "ipython",
    "version": 3
   },
   "file_extension": ".py",
   "mimetype": "text/x-python",
   "name": "python",
   "nbconvert_exporter": "python",
   "pygments_lexer": "ipython3",
   "version": "3.10.9"
  },
  "orig_nbformat": 4
 },
 "nbformat": 4,
 "nbformat_minor": 2
}

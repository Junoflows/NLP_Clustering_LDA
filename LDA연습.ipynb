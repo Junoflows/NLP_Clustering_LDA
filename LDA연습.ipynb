{
 "cells": [
  {
   "cell_type": "code",
   "execution_count": 4,
   "metadata": {},
   "outputs": [
    {
     "name": "stdout",
     "output_type": "stream",
     "text": [
      "뉴스 제목 개수 : 1244184\n"
     ]
    }
   ],
   "source": [
    "import pandas as pd\n",
    "import urllib.request\n",
    "import nltk\n",
    "from nltk.corpus import stopwords\n",
    "from nltk.stem import WordNetLemmatizer\n",
    "from sklearn.feature_extraction.text import TfidfVectorizer\n",
    "from sklearn.decomposition import LatentDirichletAllocation\n",
    "\n",
    "urllib.request.urlretrieve(\"https://raw.githubusercontent.com/ukairia777/tensorflow-nlp-tutorial/main/19.%20Topic%20Modeling%20(LDA%2C%20BERT-Based)/dataset/abcnews-date-text.csv\")\n",
    "\n",
    "data = pd.read_csv('abcnews-date-text.csv')\n",
    "print('뉴스 제목 개수 :',len(data))"
   ]
  },
  {
   "cell_type": "code",
   "execution_count": 5,
   "metadata": {},
   "outputs": [
    {
     "data": {
      "text/html": [
       "<div>\n",
       "<style scoped>\n",
       "    .dataframe tbody tr th:only-of-type {\n",
       "        vertical-align: middle;\n",
       "    }\n",
       "\n",
       "    .dataframe tbody tr th {\n",
       "        vertical-align: top;\n",
       "    }\n",
       "\n",
       "    .dataframe thead th {\n",
       "        text-align: right;\n",
       "    }\n",
       "</style>\n",
       "<table border=\"1\" class=\"dataframe\">\n",
       "  <thead>\n",
       "    <tr style=\"text-align: right;\">\n",
       "      <th></th>\n",
       "      <th>publish_date</th>\n",
       "      <th>headline_text</th>\n",
       "    </tr>\n",
       "  </thead>\n",
       "  <tbody>\n",
       "    <tr>\n",
       "      <th>0</th>\n",
       "      <td>20030219</td>\n",
       "      <td>aba decides against community broadcasting lic...</td>\n",
       "    </tr>\n",
       "    <tr>\n",
       "      <th>1</th>\n",
       "      <td>20030219</td>\n",
       "      <td>act fire witnesses must be aware of defamation</td>\n",
       "    </tr>\n",
       "    <tr>\n",
       "      <th>2</th>\n",
       "      <td>20030219</td>\n",
       "      <td>a g calls for infrastructure protection summit</td>\n",
       "    </tr>\n",
       "    <tr>\n",
       "      <th>3</th>\n",
       "      <td>20030219</td>\n",
       "      <td>air nz staff in aust strike for pay rise</td>\n",
       "    </tr>\n",
       "    <tr>\n",
       "      <th>4</th>\n",
       "      <td>20030219</td>\n",
       "      <td>air nz strike to affect australian travellers</td>\n",
       "    </tr>\n",
       "  </tbody>\n",
       "</table>\n",
       "</div>"
      ],
      "text/plain": [
       "   publish_date                                      headline_text\n",
       "0      20030219  aba decides against community broadcasting lic...\n",
       "1      20030219     act fire witnesses must be aware of defamation\n",
       "2      20030219     a g calls for infrastructure protection summit\n",
       "3      20030219           air nz staff in aust strike for pay rise\n",
       "4      20030219      air nz strike to affect australian travellers"
      ]
     },
     "execution_count": 5,
     "metadata": {},
     "output_type": "execute_result"
    }
   ],
   "source": [
    "data.head()"
   ]
  },
  {
   "cell_type": "code",
   "execution_count": 6,
   "metadata": {},
   "outputs": [
    {
     "data": {
      "text/html": [
       "<div>\n",
       "<style scoped>\n",
       "    .dataframe tbody tr th:only-of-type {\n",
       "        vertical-align: middle;\n",
       "    }\n",
       "\n",
       "    .dataframe tbody tr th {\n",
       "        vertical-align: top;\n",
       "    }\n",
       "\n",
       "    .dataframe thead th {\n",
       "        text-align: right;\n",
       "    }\n",
       "</style>\n",
       "<table border=\"1\" class=\"dataframe\">\n",
       "  <thead>\n",
       "    <tr style=\"text-align: right;\">\n",
       "      <th></th>\n",
       "      <th>headline_text</th>\n",
       "    </tr>\n",
       "  </thead>\n",
       "  <tbody>\n",
       "    <tr>\n",
       "      <th>0</th>\n",
       "      <td>aba decides against community broadcasting lic...</td>\n",
       "    </tr>\n",
       "    <tr>\n",
       "      <th>1</th>\n",
       "      <td>act fire witnesses must be aware of defamation</td>\n",
       "    </tr>\n",
       "    <tr>\n",
       "      <th>2</th>\n",
       "      <td>a g calls for infrastructure protection summit</td>\n",
       "    </tr>\n",
       "    <tr>\n",
       "      <th>3</th>\n",
       "      <td>air nz staff in aust strike for pay rise</td>\n",
       "    </tr>\n",
       "    <tr>\n",
       "      <th>4</th>\n",
       "      <td>air nz strike to affect australian travellers</td>\n",
       "    </tr>\n",
       "  </tbody>\n",
       "</table>\n",
       "</div>"
      ],
      "text/plain": [
       "                                       headline_text\n",
       "0  aba decides against community broadcasting lic...\n",
       "1     act fire witnesses must be aware of defamation\n",
       "2     a g calls for infrastructure protection summit\n",
       "3           air nz staff in aust strike for pay rise\n",
       "4      air nz strike to affect australian travellers"
      ]
     },
     "execution_count": 6,
     "metadata": {},
     "output_type": "execute_result"
    }
   ],
   "source": [
    "text = data[['headline_text']]\n",
    "text.head(5)"
   ]
  },
  {
   "cell_type": "code",
   "execution_count": 7,
   "metadata": {},
   "outputs": [
    {
     "name": "stderr",
     "output_type": "stream",
     "text": [
      "C:\\Users\\USER\\AppData\\Local\\Temp\\ipykernel_4136\\553712249.py:1: SettingWithCopyWarning: \n",
      "A value is trying to be set on a copy of a slice from a DataFrame.\n",
      "Try using .loc[row_indexer,col_indexer] = value instead\n",
      "\n",
      "See the caveats in the documentation: https://pandas.pydata.org/pandas-docs/stable/user_guide/indexing.html#returning-a-view-versus-a-copy\n",
      "  text['headline_text'] = text.apply(lambda row: nltk.word_tokenize(row['headline_text']), axis=1)\n"
     ]
    },
    {
     "data": {
      "text/html": [
       "<div>\n",
       "<style scoped>\n",
       "    .dataframe tbody tr th:only-of-type {\n",
       "        vertical-align: middle;\n",
       "    }\n",
       "\n",
       "    .dataframe tbody tr th {\n",
       "        vertical-align: top;\n",
       "    }\n",
       "\n",
       "    .dataframe thead th {\n",
       "        text-align: right;\n",
       "    }\n",
       "</style>\n",
       "<table border=\"1\" class=\"dataframe\">\n",
       "  <thead>\n",
       "    <tr style=\"text-align: right;\">\n",
       "      <th></th>\n",
       "      <th>headline_text</th>\n",
       "    </tr>\n",
       "  </thead>\n",
       "  <tbody>\n",
       "    <tr>\n",
       "      <th>0</th>\n",
       "      <td>[aba, decides, against, community, broadcastin...</td>\n",
       "    </tr>\n",
       "    <tr>\n",
       "      <th>1</th>\n",
       "      <td>[act, fire, witnesses, must, be, aware, of, de...</td>\n",
       "    </tr>\n",
       "    <tr>\n",
       "      <th>2</th>\n",
       "      <td>[a, g, calls, for, infrastructure, protection,...</td>\n",
       "    </tr>\n",
       "    <tr>\n",
       "      <th>3</th>\n",
       "      <td>[air, nz, staff, in, aust, strike, for, pay, r...</td>\n",
       "    </tr>\n",
       "    <tr>\n",
       "      <th>4</th>\n",
       "      <td>[air, nz, strike, to, affect, australian, trav...</td>\n",
       "    </tr>\n",
       "  </tbody>\n",
       "</table>\n",
       "</div>"
      ],
      "text/plain": [
       "                                       headline_text\n",
       "0  [aba, decides, against, community, broadcastin...\n",
       "1  [act, fire, witnesses, must, be, aware, of, de...\n",
       "2  [a, g, calls, for, infrastructure, protection,...\n",
       "3  [air, nz, staff, in, aust, strike, for, pay, r...\n",
       "4  [air, nz, strike, to, affect, australian, trav..."
      ]
     },
     "execution_count": 7,
     "metadata": {},
     "output_type": "execute_result"
    }
   ],
   "source": [
    "text['headline_text'] = text.apply(lambda row: nltk.word_tokenize(row['headline_text']), axis=1)\n",
    "text.head(5)"
   ]
  },
  {
   "cell_type": "code",
   "execution_count": 9,
   "metadata": {},
   "outputs": [
    {
     "name": "stderr",
     "output_type": "stream",
     "text": [
      "C:\\Users\\USER\\AppData\\Local\\Temp\\ipykernel_4136\\2298318182.py:2: SettingWithCopyWarning: \n",
      "A value is trying to be set on a copy of a slice from a DataFrame.\n",
      "Try using .loc[row_indexer,col_indexer] = value instead\n",
      "\n",
      "See the caveats in the documentation: https://pandas.pydata.org/pandas-docs/stable/user_guide/indexing.html#returning-a-view-versus-a-copy\n",
      "  text['headline_text'] = text['headline_text'].apply(lambda x: [word for word in x if word not in (stop_words)])\n"
     ]
    },
    {
     "data": {
      "text/html": [
       "<div>\n",
       "<style scoped>\n",
       "    .dataframe tbody tr th:only-of-type {\n",
       "        vertical-align: middle;\n",
       "    }\n",
       "\n",
       "    .dataframe tbody tr th {\n",
       "        vertical-align: top;\n",
       "    }\n",
       "\n",
       "    .dataframe thead th {\n",
       "        text-align: right;\n",
       "    }\n",
       "</style>\n",
       "<table border=\"1\" class=\"dataframe\">\n",
       "  <thead>\n",
       "    <tr style=\"text-align: right;\">\n",
       "      <th></th>\n",
       "      <th>headline_text</th>\n",
       "    </tr>\n",
       "  </thead>\n",
       "  <tbody>\n",
       "    <tr>\n",
       "      <th>0</th>\n",
       "      <td>[aba, decides, community, broadcasting, licence]</td>\n",
       "    </tr>\n",
       "    <tr>\n",
       "      <th>1</th>\n",
       "      <td>[act, fire, witnesses, must, aware, defamation]</td>\n",
       "    </tr>\n",
       "    <tr>\n",
       "      <th>2</th>\n",
       "      <td>[g, calls, infrastructure, protection, summit]</td>\n",
       "    </tr>\n",
       "    <tr>\n",
       "      <th>3</th>\n",
       "      <td>[air, nz, staff, aust, strike, pay, rise]</td>\n",
       "    </tr>\n",
       "    <tr>\n",
       "      <th>4</th>\n",
       "      <td>[air, nz, strike, affect, australian, travellers]</td>\n",
       "    </tr>\n",
       "  </tbody>\n",
       "</table>\n",
       "</div>"
      ],
      "text/plain": [
       "                                       headline_text\n",
       "0   [aba, decides, community, broadcasting, licence]\n",
       "1    [act, fire, witnesses, must, aware, defamation]\n",
       "2     [g, calls, infrastructure, protection, summit]\n",
       "3          [air, nz, staff, aust, strike, pay, rise]\n",
       "4  [air, nz, strike, affect, australian, travellers]"
      ]
     },
     "execution_count": 9,
     "metadata": {},
     "output_type": "execute_result"
    }
   ],
   "source": [
    "stop_words = stopwords.words('english')\n",
    "text['headline_text'] = text['headline_text'].apply(lambda x: [word for word in x if word not in (stop_words)])\n",
    "text.head(5)"
   ]
  },
  {
   "cell_type": "code",
   "execution_count": 10,
   "metadata": {},
   "outputs": [
    {
     "name": "stderr",
     "output_type": "stream",
     "text": [
      "C:\\Users\\USER\\AppData\\Local\\Temp\\ipykernel_4136\\1262865813.py:1: SettingWithCopyWarning: \n",
      "A value is trying to be set on a copy of a slice from a DataFrame.\n",
      "Try using .loc[row_indexer,col_indexer] = value instead\n",
      "\n",
      "See the caveats in the documentation: https://pandas.pydata.org/pandas-docs/stable/user_guide/indexing.html#returning-a-view-versus-a-copy\n",
      "  text['headline_text'] = text['headline_text'].apply(lambda x: [WordNetLemmatizer().lemmatize(word, pos='v') for word in x])\n"
     ]
    },
    {
     "data": {
      "text/html": [
       "<div>\n",
       "<style scoped>\n",
       "    .dataframe tbody tr th:only-of-type {\n",
       "        vertical-align: middle;\n",
       "    }\n",
       "\n",
       "    .dataframe tbody tr th {\n",
       "        vertical-align: top;\n",
       "    }\n",
       "\n",
       "    .dataframe thead th {\n",
       "        text-align: right;\n",
       "    }\n",
       "</style>\n",
       "<table border=\"1\" class=\"dataframe\">\n",
       "  <thead>\n",
       "    <tr style=\"text-align: right;\">\n",
       "      <th></th>\n",
       "      <th>headline_text</th>\n",
       "    </tr>\n",
       "  </thead>\n",
       "  <tbody>\n",
       "    <tr>\n",
       "      <th>0</th>\n",
       "      <td>[aba, decide, community, broadcast, licence]</td>\n",
       "    </tr>\n",
       "    <tr>\n",
       "      <th>1</th>\n",
       "      <td>[act, fire, witness, must, aware, defamation]</td>\n",
       "    </tr>\n",
       "    <tr>\n",
       "      <th>2</th>\n",
       "      <td>[g, call, infrastructure, protection, summit]</td>\n",
       "    </tr>\n",
       "    <tr>\n",
       "      <th>3</th>\n",
       "      <td>[air, nz, staff, aust, strike, pay, rise]</td>\n",
       "    </tr>\n",
       "    <tr>\n",
       "      <th>4</th>\n",
       "      <td>[air, nz, strike, affect, australian, travellers]</td>\n",
       "    </tr>\n",
       "  </tbody>\n",
       "</table>\n",
       "</div>"
      ],
      "text/plain": [
       "                                       headline_text\n",
       "0       [aba, decide, community, broadcast, licence]\n",
       "1      [act, fire, witness, must, aware, defamation]\n",
       "2      [g, call, infrastructure, protection, summit]\n",
       "3          [air, nz, staff, aust, strike, pay, rise]\n",
       "4  [air, nz, strike, affect, australian, travellers]"
      ]
     },
     "execution_count": 10,
     "metadata": {},
     "output_type": "execute_result"
    }
   ],
   "source": [
    "text['headline_text'] = text['headline_text'].apply(lambda x: [WordNetLemmatizer().lemmatize(word, pos='v') for word in x])\n",
    "text.head(5)"
   ]
  },
  {
   "cell_type": "code",
   "execution_count": 11,
   "metadata": {},
   "outputs": [
    {
     "data": {
      "text/plain": [
       "0     [aba, decide, community, broadcast, licence]\n",
       "1    [act, fire, witness, must, aware, defamation]\n",
       "2       [call, infrastructure, protection, summit]\n",
       "3            [air, staff, aust, strike, pay, rise]\n",
       "4    [air, strike, affect, australian, travellers]\n",
       "Name: headline_text, dtype: object"
      ]
     },
     "execution_count": 11,
     "metadata": {},
     "output_type": "execute_result"
    }
   ],
   "source": [
    "tokenized_doc = text['headline_text'].apply(lambda x: [word for word in x if len(word) > 2])\n",
    "tokenized_doc[:5]"
   ]
  },
  {
   "cell_type": "code",
   "execution_count": 14,
   "metadata": {},
   "outputs": [
    {
     "name": "stderr",
     "output_type": "stream",
     "text": [
      "C:\\Users\\USER\\AppData\\Local\\Temp\\ipykernel_4136\\1796951639.py:8: SettingWithCopyWarning: \n",
      "A value is trying to be set on a copy of a slice from a DataFrame.\n",
      "Try using .loc[row_indexer,col_indexer] = value instead\n",
      "\n",
      "See the caveats in the documentation: https://pandas.pydata.org/pandas-docs/stable/user_guide/indexing.html#returning-a-view-versus-a-copy\n",
      "  text['headline_text'] = detokenized_doc\n"
     ]
    },
    {
     "data": {
      "text/html": [
       "<div>\n",
       "<style scoped>\n",
       "    .dataframe tbody tr th:only-of-type {\n",
       "        vertical-align: middle;\n",
       "    }\n",
       "\n",
       "    .dataframe tbody tr th {\n",
       "        vertical-align: top;\n",
       "    }\n",
       "\n",
       "    .dataframe thead th {\n",
       "        text-align: right;\n",
       "    }\n",
       "</style>\n",
       "<table border=\"1\" class=\"dataframe\">\n",
       "  <thead>\n",
       "    <tr style=\"text-align: right;\">\n",
       "      <th></th>\n",
       "      <th>headline_text</th>\n",
       "    </tr>\n",
       "  </thead>\n",
       "  <tbody>\n",
       "    <tr>\n",
       "      <th>0</th>\n",
       "      <td>aba decide community broadcast licence</td>\n",
       "    </tr>\n",
       "    <tr>\n",
       "      <th>1</th>\n",
       "      <td>act fire witness must aware defamation</td>\n",
       "    </tr>\n",
       "    <tr>\n",
       "      <th>2</th>\n",
       "      <td>call infrastructure protection summit</td>\n",
       "    </tr>\n",
       "    <tr>\n",
       "      <th>3</th>\n",
       "      <td>air staff aust strike pay rise</td>\n",
       "    </tr>\n",
       "    <tr>\n",
       "      <th>4</th>\n",
       "      <td>air strike affect australian travellers</td>\n",
       "    </tr>\n",
       "  </tbody>\n",
       "</table>\n",
       "</div>"
      ],
      "text/plain": [
       "                             headline_text\n",
       "0   aba decide community broadcast licence\n",
       "1   act fire witness must aware defamation\n",
       "2    call infrastructure protection summit\n",
       "3           air staff aust strike pay rise\n",
       "4  air strike affect australian travellers"
      ]
     },
     "execution_count": 14,
     "metadata": {},
     "output_type": "execute_result"
    }
   ],
   "source": [
    "# 역토큰화 (토큰화 작업을 되돌림)\n",
    "detokenized_doc = []\n",
    "for i in range(len(text)):\n",
    "    t = ' '.join(tokenized_doc[i])\n",
    "    detokenized_doc.append(t)\n",
    "\n",
    "# 다시 text['headline_text']에 재저장\n",
    "text['headline_text'] = detokenized_doc\n",
    "text.head(5)"
   ]
  },
  {
   "cell_type": "code",
   "execution_count": 16,
   "metadata": {},
   "outputs": [
    {
     "name": "stdout",
     "output_type": "stream",
     "text": [
      "TF-IDF 행렬의 크기 : (1244184, 94955)\n"
     ]
    }
   ],
   "source": [
    "# 상위 1,000개의 단어를 보존 // 모든 단어 보존\n",
    "vectorizer = TfidfVectorizer(stop_words='english')\n",
    "X = vectorizer.fit_transform(text['headline_text'])\n",
    "\n",
    "# TF-IDF 행렬의 크기 확인\n",
    "print('TF-IDF 행렬의 크기 :',X.shape)"
   ]
  },
  {
   "cell_type": "markdown",
   "metadata": {},
   "source": [
    "토픽 모델링"
   ]
  },
  {
   "cell_type": "code",
   "execution_count": 20,
   "metadata": {},
   "outputs": [],
   "source": [
    "lda_model = LatentDirichletAllocation(n_components=6,learning_method='online',random_state=777,max_iter=1)"
   ]
  },
  {
   "cell_type": "code",
   "execution_count": 21,
   "metadata": {},
   "outputs": [],
   "source": [
    "lda_top = lda_model.fit_transform(X)"
   ]
  },
  {
   "cell_type": "code",
   "execution_count": 22,
   "metadata": {},
   "outputs": [
    {
     "name": "stdout",
     "output_type": "stream",
     "text": [
      "[[1.66666720e-01 1.68781184e-01 1.75770653e-01 ... 1.66722329e-01\n",
      "  1.66711925e-01 1.66666668e-01]\n",
      " [1.66672730e-01 1.68498191e-01 1.77092165e-01 ... 1.90003822e-01\n",
      "  1.66711686e-01 1.66666668e-01]\n",
      " [1.66666722e-01 1.69348102e-01 4.81009586e+00 ... 1.66726940e-01\n",
      "  1.66714590e-01 1.66666667e-01]\n",
      " [1.66666735e-01 1.69410768e-01 2.96187285e+00 ... 1.76808532e-01\n",
      "  1.73867305e-01 1.66666667e-01]\n",
      " [1.66693316e-01 1.69051469e-01 1.76663435e-01 ... 1.66727677e-01\n",
      "  1.88237689e-01 1.66666667e-01]\n",
      " [1.66673534e-01 2.56367533e+02 1.70791276e+00 ... 1.74533971e-01\n",
      "  1.66706993e-01 1.66666667e-01]]\n",
      "(6, 94955)\n"
     ]
    }
   ],
   "source": [
    "print(lda_model.components_)\n",
    "print(lda_model.components_.shape) "
   ]
  },
  {
   "cell_type": "code",
   "execution_count": 24,
   "metadata": {},
   "outputs": [
    {
     "name": "stdout",
     "output_type": "stream",
     "text": [
      "Topic 1: [('coronavirus', 13055.12), ('covid', 7249.17), ('government', 6497.6), ('donald', 5654.46), ('election', 5645.96)]\n",
      "Topic 2: [('case', 9071.28), ('new', 6145.35), ('vaccine', 5492.95), ('change', 4745.06), ('record', 4742.01)]\n",
      "Topic 3: [('trump', 9321.61), ('restrictions', 4979.47), ('south', 4821.97), ('house', 4191.23), ('brisbane', 3640.0)]\n",
      "Topic 4: [('australia', 12836.22), ('covid', 12513.91), ('coronavirus', 10708.27), ('victoria', 8377.68), ('people', 4215.43)]\n",
      "Topic 5: [('australian', 8000.12), ('news', 5894.53), ('lockdown', 4891.27), ('coronavirus', 4825.71), ('state', 4125.78)]\n",
      "Topic 6: [('queensland', 9068.35), ('police', 8490.0), ('man', 5431.42), ('live', 5189.55), ('charge', 4577.36)]\n"
     ]
    }
   ],
   "source": [
    "# 단어 집합. 1,000개의 단어가 저장됨.\n",
    "terms = vectorizer.get_feature_names_out()\n",
    "\n",
    "def get_topics(components, feature_names, n=5):\n",
    "    for idx, topic in enumerate(components):\n",
    "        print(\"Topic %d:\" % (idx+1), [(feature_names[i], topic[i].round(2)) for i in topic.argsort()[:-n - 1:-1]])\n",
    "\n",
    "get_topics(lda_model.components_,terms)"
   ]
  },
  {
   "cell_type": "code",
   "execution_count": null,
   "metadata": {},
   "outputs": [],
   "source": []
  },
  {
   "cell_type": "code",
   "execution_count": 25,
   "metadata": {},
   "outputs": [
    {
     "data": {
      "text/plain": [
       "0     [aba, decide, community, broadcast, licence]\n",
       "1    [act, fire, witness, must, aware, defamation]\n",
       "2       [call, infrastructure, protection, summit]\n",
       "3            [air, staff, aust, strike, pay, rise]\n",
       "4    [air, strike, affect, australian, travellers]\n",
       "Name: headline_text, dtype: object"
      ]
     },
     "execution_count": 25,
     "metadata": {},
     "output_type": "execute_result"
    }
   ],
   "source": [
    "tokenized_doc[:5]"
   ]
  },
  {
   "cell_type": "code",
   "execution_count": 27,
   "metadata": {},
   "outputs": [
    {
     "name": "stdout",
     "output_type": "stream",
     "text": [
      "[(0, 1), (1, 1), (2, 1), (3, 1), (4, 1)]\n"
     ]
    }
   ],
   "source": [
    "from gensim import corpora\n",
    "dictionary = corpora.Dictionary(tokenized_doc)\n",
    "corpus = [dictionary.doc2bow(text) for text in tokenized_doc]\n",
    "print(corpus[0]) # 수행된 결과에서 두번째 뉴스 출력. 첫번째 문서의 인덱스는 0"
   ]
  },
  {
   "cell_type": "code",
   "execution_count": 112,
   "metadata": {},
   "outputs": [
    {
     "data": {
      "text/plain": [
       "('act', 96686)"
      ]
     },
     "execution_count": 112,
     "metadata": {},
     "output_type": "execute_result"
    }
   ],
   "source": [
    "dictionary[5], len(dictionary)"
   ]
  },
  {
   "cell_type": "code",
   "execution_count": 37,
   "metadata": {},
   "outputs": [
    {
     "name": "stdout",
     "output_type": "stream",
     "text": [
      "(0, '0.015*\"government\" + 0.012*\"health\" + 0.011*\"change\" + 0.011*\"court\" + 0.011*\"restrictions\" + 0.011*\"charge\" + 0.010*\"nsw\" + 0.008*\"help\" + 0.007*\"age\" + 0.007*\"call\"')\n",
      "(1, '0.044*\"australia\" + 0.017*\"new\" + 0.015*\"news\" + 0.014*\"record\" + 0.013*\"day\" + 0.012*\"one\" + 0.009*\"world\" + 0.008*\"win\" + 0.008*\"announce\" + 0.008*\"protest\"')\n",
      "(2, '0.027*\"coronavirus\" + 0.020*\"victoria\" + 0.019*\"covid\" + 0.013*\"vaccine\" + 0.011*\"live\" + 0.011*\"say\" + 0.011*\"nsw\" + 0.010*\"lockdown\" + 0.010*\"new\" + 0.009*\"minister\"')\n",
      "(3, '0.028*\"queensland\" + 0.026*\"australian\" + 0.017*\"covid\" + 0.016*\"election\" + 0.015*\"border\" + 0.014*\"coronavirus\" + 0.013*\"open\" + 0.012*\"test\" + 0.010*\"morrison\" + 0.009*\"return\"')\n",
      "(4, '0.026*\"case\" + 0.025*\"police\" + 0.020*\"trump\" + 0.017*\"man\" + 0.015*\"coronavirus\" + 0.015*\"covid\" + 0.014*\"sydney\" + 0.014*\"find\" + 0.012*\"china\" + 0.011*\"donald\"')\n",
      "(5, '0.017*\"melbourne\" + 0.016*\"coronavirus\" + 0.014*\"house\" + 0.013*\"two\" + 0.012*\"people\" + 0.010*\"quarantine\" + 0.010*\"national\" + 0.010*\"market\" + 0.010*\"adelaide\" + 0.009*\"rise\"')\n"
     ]
    }
   ],
   "source": [
    "import gensim\n",
    "NUM_TOPICS = 6 # 20개의 토픽, k=20\n",
    "ldamodel = gensim.models.ldamodel.LdaModel(corpus, num_topics = NUM_TOPICS, id2word=dictionary, passes=15)\n",
    "topics = ldamodel.print_topics(num_words=10)\n",
    "for topic in topics:\n",
    "    print(topic)"
   ]
  },
  {
   "cell_type": "code",
   "execution_count": 39,
   "metadata": {},
   "outputs": [
    {
     "data": {
      "text/plain": [
       "[(0,\n",
       "  '0.015*\"government\" + 0.012*\"health\" + 0.011*\"change\" + 0.011*\"court\" + 0.011*\"restrictions\" + 0.011*\"charge\" + 0.010*\"nsw\" + 0.008*\"help\" + 0.007*\"age\" + 0.007*\"call\"'),\n",
       " (1,\n",
       "  '0.044*\"australia\" + 0.017*\"new\" + 0.015*\"news\" + 0.014*\"record\" + 0.013*\"day\" + 0.012*\"one\" + 0.009*\"world\" + 0.008*\"win\" + 0.008*\"announce\" + 0.008*\"protest\"'),\n",
       " (2,\n",
       "  '0.027*\"coronavirus\" + 0.020*\"victoria\" + 0.019*\"covid\" + 0.013*\"vaccine\" + 0.011*\"live\" + 0.011*\"say\" + 0.011*\"nsw\" + 0.010*\"lockdown\" + 0.010*\"new\" + 0.009*\"minister\"'),\n",
       " (3,\n",
       "  '0.028*\"queensland\" + 0.026*\"australian\" + 0.017*\"covid\" + 0.016*\"election\" + 0.015*\"border\" + 0.014*\"coronavirus\" + 0.013*\"open\" + 0.012*\"test\" + 0.010*\"morrison\" + 0.009*\"return\"'),\n",
       " (4,\n",
       "  '0.026*\"case\" + 0.025*\"police\" + 0.020*\"trump\" + 0.017*\"man\" + 0.015*\"coronavirus\" + 0.015*\"covid\" + 0.014*\"sydney\" + 0.014*\"find\" + 0.012*\"china\" + 0.011*\"donald\"'),\n",
       " (5,\n",
       "  '0.017*\"melbourne\" + 0.016*\"coronavirus\" + 0.014*\"house\" + 0.013*\"two\" + 0.012*\"people\" + 0.010*\"quarantine\" + 0.010*\"national\" + 0.010*\"market\" + 0.010*\"adelaide\" + 0.009*\"rise\"')]"
      ]
     },
     "execution_count": 39,
     "metadata": {},
     "output_type": "execute_result"
    }
   ],
   "source": [
    "ldamodel.print_topics()"
   ]
  },
  {
   "cell_type": "code",
   "execution_count": null,
   "metadata": {},
   "outputs": [],
   "source": [
    "# pip install pyLDAvis"
   ]
  },
  {
   "cell_type": "code",
   "execution_count": 43,
   "metadata": {},
   "outputs": [
    {
     "data": {
      "text/html": [
       "\n",
       "<link rel=\"stylesheet\" type=\"text/css\" href=\"https://cdn.jsdelivr.net/gh/bmabey/pyLDAvis@3.4.0/pyLDAvis/js/ldavis.v1.0.0.css\">\n",
       "\n",
       "\n",
       "<div id=\"ldavis_el413620339215062403519074278\" style=\"background-color:white;\"></div>\n",
       "<script type=\"text/javascript\">\n",
       "\n",
       "var ldavis_el413620339215062403519074278_data = {\"mdsDat\": {\"x\": [-0.19418992479185854, -0.194932840757529, -0.08036525622966083, 0.3351004019782685, -0.043178977923257575, 0.1775665977240376], \"y\": [-0.012897713040369909, 0.13663171462236343, 0.06452380634189922, -0.0794897124222818, -0.34096035491302, 0.23219225941140906], \"topics\": [1, 2, 3, 4, 5, 6], \"cluster\": [1, 1, 1, 1, 1, 1], \"Freq\": [22.15697678547735, 17.275118397002796, 16.511485569163845, 15.210105303738425, 14.708552814084841, 14.137761130532747]}, \"tinfo\": {\"Term\": [\"australia\", \"case\", \"queensland\", \"police\", \"australian\", \"trump\", \"victoria\", \"man\", \"government\", \"melbourne\", \"election\", \"news\", \"find\", \"health\", \"border\", \"vaccine\", \"sydney\", \"house\", \"change\", \"china\", \"court\", \"two\", \"restrictions\", \"day\", \"charge\", \"open\", \"donald\", \"people\", \"nsw\", \"live\", \"government\", \"health\", \"change\", \"court\", \"charge\", \"restrictions\", \"help\", \"age\", \"leave\", \"federal\", \"care\", \"concern\", \"indigenous\", \"workers\", \"car\", \"community\", \"climate\", \"fund\", \"child\", \"pay\", \"job\", \"nrl\", \"support\", \"hear\", \"guilty\", \"assault\", \"deaths\", \"cut\", \"service\", \"mental\", \"plan\", \"call\", \"nsw\", \"face\", \"school\", \"new\", \"covid\", \"case\", \"police\", \"trump\", \"man\", \"find\", \"china\", \"donald\", \"die\", \"death\", \"coast\", \"crash\", \"years\", \"woman\", \"family\", \"afl\", \"arrest\", \"miss\", \"shoot\", \"gold\", \"travel\", \"hotel\", \"life\", \"dead\", \"royal\", \"jail\", \"beach\", \"commission\", \"black\", \"program\", \"search\", \"andrews\", \"sydney\", \"kill\", \"covid\", \"murder\", \"coronavirus\", \"nsw\", \"say\", \"victoria\", \"vaccine\", \"live\", \"lockdown\", \"minister\", \"scott\", \"bushfire\", \"canberra\", \"tasmania\", \"premier\", \"victorian\", \"australias\", \"biden\", \"pandemic\", \"regional\", \"joe\", \"residents\", \"flight\", \"emergency\", \"children\", \"street\", \"tasmanian\", \"talk\", \"game\", \"season\", \"wall\", \"rain\", \"northern\", \"weather\", \"brief\", \"coronavirus\", \"south\", \"covid\", \"say\", \"nsw\", \"new\", \"north\", \"warn\", \"test\", \"fire\", \"australia\", \"news\", \"day\", \"one\", \"world\", \"announce\", \"protest\", \"abc\", \"three\", \"christmas\", \"break\", \"president\", \"final\", \"storm\", \"india\", \"million\", \"rescue\", \"young\", \"cup\", \"top\", \"local\", \"sexual\", \"zealand\", \"extend\", \"david\", \"mask\", \"free\", \"footage\", \"prime\", \"become\", \"record\", \"win\", \"new\", \"first\", \"state\", \"end\", \"south\", \"melbourne\", \"house\", \"two\", \"people\", \"quarantine\", \"national\", \"market\", \"adelaide\", \"rise\", \"amid\", \"use\", \"australians\", \"2020\", \"island\", \"business\", \"price\", \"fall\", \"budget\", \"see\", \"abuse\", \"students\", \"finance\", \"track\", \"bank\", \"drive\", \"city\", \"drop\", \"post\", \"share\", \"shark\", \"coronavirus\", \"qld\", \"say\", \"record\", \"queensland\", \"australian\", \"election\", \"border\", \"open\", \"morrison\", \"return\", \"time\", \"speak\", \"rule\", \"update\", \"old\", \"mark\", \"lead\", \"officer\", \"daniel\", \"beat\", \"latest\", \"violence\", \"ahead\", \"dog\", \"sport\", \"country\", \"come\", \"asx\", \"johnson\", \"peter\", \"star\", \"company\", \"domestic\", \"berejiklian\", \"2021\", \"test\", \"year\", \"attack\", \"covid\", \"coronavirus\", \"take\", \"sydney\", \"say\", \"first\", \"new\"], \"Freq\": [43739.0, 29485.0, 26452.0, 28500.0, 24271.0, 22369.0, 21499.0, 19223.0, 21586.0, 16289.0, 14886.0, 14558.0, 15509.0, 18030.0, 13646.0, 14650.0, 21978.0, 13138.0, 16680.0, 14061.0, 16332.0, 12737.0, 16012.0, 12736.0, 15836.0, 12053.0, 13032.0, 11815.0, 38197.0, 12229.0, 21585.970386403296, 18030.126054034623, 16679.895928824317, 16331.735794902444, 15835.386972459064, 16011.483641473837, 12304.443704697253, 10913.574059201095, 10169.045395439614, 9960.556165059923, 9904.26371311352, 9651.469647372003, 9595.032619108715, 8037.797037362438, 7922.284632743212, 7319.344375318286, 6985.377155885035, 6614.371248847045, 6601.892208537465, 6576.94770315933, 6375.363519125537, 6366.082126838717, 6276.710206331675, 6240.859352316372, 6219.262501374289, 6098.662775182025, 5978.219164261516, 5929.4182090731665, 5689.498223154973, 5638.346036221593, 8320.126076233719, 10440.092051497415, 14784.4338957741, 7792.797196253769, 6887.578404513515, 8345.747986138858, 8838.757299290799, 29484.45530562103, 28499.58270121462, 22368.497988064737, 19223.097834919237, 15508.913304052698, 14060.725768083797, 13031.665182908342, 11041.263847417305, 10914.85885167405, 10680.02612559179, 9415.751783097954, 8699.912633476046, 8674.437520080992, 8382.53848665882, 7344.788272459582, 7245.4931199563525, 7161.200543165374, 6943.494112726697, 6692.262225609788, 6470.8539708701755, 6407.8028270728955, 5926.295770825787, 5868.93998558843, 5716.506322737643, 5695.544841860485, 5152.282677228961, 4911.385733181811, 4758.208530210536, 4626.3510833203845, 4573.749721173749, 4583.026773353218, 15718.774724707664, 7837.529399651687, 17316.358257839376, 7040.834892514651, 17378.32981313431, 11870.490483968404, 5868.234548591555, 21498.92119852051, 14650.01076588369, 12228.326112748737, 11102.48527805247, 9381.151451085796, 9024.706439483713, 8321.01519955081, 7749.728573288855, 7569.793371999167, 7561.626454881721, 7539.213209223902, 7058.1966620185485, 7020.95135203304, 6905.1557369046695, 5940.896037195375, 5250.691894873001, 5123.901341222276, 4652.997082324367, 4611.929821035785, 4595.620771821254, 4416.100340260063, 4387.827713462116, 4092.1975545757286, 3975.3591982335824, 3941.223649578314, 3893.5162790082218, 3821.9363814794406, 3792.6903103613827, 3782.4197014136716, 3713.001664640494, 29515.284997590134, 7934.340556175713, 20483.21487797538, 11875.822425200853, 11541.814432643465, 11012.065477240216, 4954.795170563543, 5269.6008421417655, 4920.493208200134, 4722.0754631552445, 43738.677279319636, 14557.303459590936, 12736.169756118034, 11559.118671534394, 9376.309023785088, 8264.258889429537, 8254.456234335714, 6886.514773345683, 6649.543344519203, 6238.527493857209, 6051.648014639128, 5997.503232346725, 5917.822062925459, 5660.207653367842, 5510.982987634748, 5377.264670360032, 5182.926264307559, 4872.154886356146, 4817.365229329935, 4574.2027234889265, 4571.962436118877, 4540.936692603461, 4451.135556170942, 4174.857055329067, 3902.496494660043, 3945.563083864548, 3882.0916143544664, 3838.451673733812, 3738.6531151274617, 3462.7378222733064, 13964.111894478052, 8450.762812986168, 16814.17119273868, 7621.970177856144, 7326.691169864544, 5141.462309963555, 5206.774980709649, 16289.068623115836, 13137.680617157683, 12737.156267427574, 11815.015478836915, 10064.572791016126, 9901.80066278251, 9338.64837210677, 9277.76528975589, 9189.808340574526, 7502.196164662938, 7401.3475201800575, 6859.938221946898, 6822.328770217597, 6629.21873542178, 5880.538858957037, 5801.982470366898, 5761.214415860216, 5556.845156214017, 5461.581966799383, 5188.5119702819675, 5012.68638663313, 4864.999402819476, 4889.995170361903, 4636.114699533944, 3994.7755001935216, 3985.030692452236, 3862.0470463375686, 3839.659266366537, 3759.201182623484, 3584.1600679383296, 15219.853196100179, 5551.3980308251785, 8717.76709600478, 4625.643548329444, 26451.82616570488, 24271.092185366637, 14885.721904644783, 13645.757147242593, 12052.533909998403, 9684.582272969286, 8494.52876905995, 7980.754949588985, 7591.168949220843, 7381.856288033424, 6224.9903332177355, 5184.687913767272, 4956.918717049422, 4951.025532045021, 4921.456962439634, 4655.704938876335, 4545.783417564722, 4364.499657232, 4188.488450308814, 4122.789853552903, 4101.909693176097, 3775.2920302658763, 3749.6243879284134, 3749.288735809768, 3539.107277009441, 3481.9933621499613, 3464.1661202045525, 3332.4512482036635, 3318.6758687046927, 3093.5052690344214, 3101.5810590090355, 4267.189127392288, 11442.85280309342, 7390.565919137894, 5723.440314258583, 15775.34294189334, 13114.2860156786, 5144.202204865498, 6258.838792160485, 5643.122876712007, 4626.7149902135425, 4587.777178953109], \"Total\": [43739.0, 29485.0, 26452.0, 28500.0, 24271.0, 22369.0, 21499.0, 19223.0, 21586.0, 16289.0, 14886.0, 14558.0, 15509.0, 18030.0, 13646.0, 14650.0, 21978.0, 13138.0, 16680.0, 14061.0, 16332.0, 12737.0, 16012.0, 12736.0, 15836.0, 12053.0, 13032.0, 11815.0, 38197.0, 12229.0, 21586.683598504085, 18030.84010400581, 16680.609329677147, 16332.448501139652, 15836.100647033629, 16012.209098698526, 12305.157843457571, 10914.287929269683, 10169.760764370043, 9961.2696586869, 9904.976338303293, 9652.184254616028, 9595.746795150997, 8038.51029162936, 7922.999151301527, 7320.058508422379, 6986.089721482813, 6615.083218513513, 6602.604699031076, 6577.661434829791, 6376.076787385185, 6366.800155224929, 6277.423915660514, 6241.573146221028, 6219.975363737514, 6099.376021285737, 5978.9373166924115, 5930.1306047425605, 5690.210848292228, 5639.0577339312895, 10739.836479128464, 18183.969909619784, 38197.19031124578, 11830.794727210883, 11324.471031329042, 44130.34936484667, 67322.0023292703, 29485.206180748362, 28500.327424255305, 22369.24352385281, 19223.841767012673, 15509.658216549962, 14061.473788818435, 13032.40940792951, 11042.009838284966, 10915.603345660029, 10680.771000012735, 9416.495933053431, 8700.659164385033, 8675.181924433748, 8383.284866112517, 7345.53523250113, 7246.237560948124, 7161.945526440665, 6944.23785803102, 6693.007443814081, 6471.604532192559, 6408.554745861205, 5927.041568416295, 5869.683925655532, 5717.250598034718, 5696.288955485165, 5153.028108673859, 4912.129917896104, 4758.956820820439, 4627.097896611982, 4574.49360188893, 4583.782945431406, 21978.21867013956, 10653.867491775078, 67322.0023292703, 10716.214376992175, 83181.53343164173, 38197.19031124578, 35026.34565174254, 21499.675877527225, 14650.768363013665, 12229.079334045036, 11103.245685378099, 9381.90522358394, 9025.46226423135, 8321.767756209476, 7750.481165598441, 7570.545064553659, 7562.380278009621, 7539.9667545833245, 7058.950113074541, 7021.709665396298, 6905.920653781542, 5941.648724132057, 5251.446262665518, 5124.655002508587, 4653.751634868207, 4612.682053415672, 4596.372968506652, 4416.851385483891, 4388.578984426004, 4092.94881016869, 3976.1106045017455, 3941.9754304336534, 3894.2674945931453, 3822.686854445525, 3793.443081025676, 3783.170504028154, 3713.757486504955, 83181.53343164173, 13141.716825185116, 67322.0023292703, 35026.34565174254, 38197.19031124578, 44130.34936484667, 6726.242371101713, 10322.745841805989, 16363.956577751072, 15141.463574023626, 43739.408324156444, 14558.033540304621, 12736.899330824386, 11559.847981414192, 9377.03761593792, 8264.991139383055, 8255.187880986457, 6887.243577675854, 6650.274788546052, 6239.262028459144, 6052.37769702337, 5998.234150407163, 5918.551629602043, 5660.937983087722, 5511.713819019021, 5377.995774430261, 5183.65711416055, 4872.886204615257, 4818.0924636356085, 4574.931003515949, 4572.694586770013, 4541.670184874399, 4451.865141862143, 4175.587391383763, 3903.22605624771, 3946.30153468913, 3882.8220267273714, 3839.1845920119254, 3739.386512806067, 3463.4679818533846, 21487.29207052099, 11950.918551666988, 44130.34936484667, 12249.273171362602, 13119.65934073472, 7138.111069867319, 13141.716825185116, 16289.797353207983, 13138.408310756988, 12737.885481193043, 11815.744522085497, 10065.310067569739, 9902.528311330998, 9339.37371602038, 9278.492994485094, 9190.535520822192, 7502.925562880426, 7402.075461619077, 6860.6667779789295, 6823.061553142632, 6629.946332889908, 5881.266000242129, 5802.7082132456335, 5761.941254186672, 5557.57353341433, 5462.3107412481895, 5189.239853323778, 5013.4141488956075, 4865.7249080459305, 4890.72555787757, 4636.840436169892, 3995.503242007686, 3985.7578003998133, 3862.7756680183616, 3840.388092247231, 3759.9272133309714, 3584.8884285743766, 83181.53343164173, 10247.922316335667, 35026.34565174254, 21487.29207052099, 26452.565401676402, 24271.8295715475, 14886.459341471103, 13646.498057604605, 12053.27052091764, 9685.322825342448, 8495.267350582939, 7981.4923496700885, 7591.906555275024, 7382.595493414539, 6225.730139030701, 5185.425135971831, 4957.657131868581, 4951.763434044445, 4922.195856242862, 4656.444949802137, 4546.521145360573, 4365.239030271363, 4189.224880432456, 4123.527834747287, 4102.646190453272, 3776.0290972778603, 3750.3605945809018, 3750.0258163451786, 3539.849181399301, 3482.729417277421, 3464.9025503432654, 3333.18837034473, 3319.4140222844885, 3094.2414301672457, 3102.3271331922842, 4292.448021784138, 16363.956577751072, 11309.54133907287, 9135.149441982694, 67322.0023292703, 83181.53343164173, 10686.49514110245, 21978.21867013956, 35026.34565174254, 12249.273171362602, 44130.34936484667], \"Category\": [\"Default\", \"Default\", \"Default\", \"Default\", \"Default\", \"Default\", \"Default\", \"Default\", \"Default\", \"Default\", \"Default\", \"Default\", \"Default\", \"Default\", \"Default\", \"Default\", \"Default\", \"Default\", \"Default\", \"Default\", \"Default\", \"Default\", \"Default\", \"Default\", \"Default\", \"Default\", \"Default\", \"Default\", \"Default\", \"Default\", \"Topic1\", \"Topic1\", \"Topic1\", \"Topic1\", \"Topic1\", \"Topic1\", \"Topic1\", \"Topic1\", \"Topic1\", \"Topic1\", \"Topic1\", \"Topic1\", \"Topic1\", \"Topic1\", \"Topic1\", \"Topic1\", \"Topic1\", \"Topic1\", \"Topic1\", \"Topic1\", \"Topic1\", \"Topic1\", \"Topic1\", \"Topic1\", \"Topic1\", \"Topic1\", \"Topic1\", \"Topic1\", \"Topic1\", \"Topic1\", \"Topic1\", \"Topic1\", \"Topic1\", \"Topic1\", \"Topic1\", \"Topic1\", \"Topic1\", \"Topic2\", \"Topic2\", \"Topic2\", \"Topic2\", \"Topic2\", \"Topic2\", \"Topic2\", \"Topic2\", \"Topic2\", \"Topic2\", \"Topic2\", \"Topic2\", \"Topic2\", \"Topic2\", \"Topic2\", \"Topic2\", \"Topic2\", \"Topic2\", \"Topic2\", \"Topic2\", \"Topic2\", \"Topic2\", \"Topic2\", \"Topic2\", \"Topic2\", \"Topic2\", \"Topic2\", \"Topic2\", \"Topic2\", \"Topic2\", \"Topic2\", \"Topic2\", \"Topic2\", \"Topic2\", \"Topic2\", \"Topic2\", \"Topic2\", \"Topic2\", \"Topic3\", \"Topic3\", \"Topic3\", \"Topic3\", \"Topic3\", \"Topic3\", \"Topic3\", \"Topic3\", \"Topic3\", \"Topic3\", \"Topic3\", \"Topic3\", \"Topic3\", \"Topic3\", \"Topic3\", \"Topic3\", \"Topic3\", \"Topic3\", \"Topic3\", \"Topic3\", \"Topic3\", \"Topic3\", \"Topic3\", \"Topic3\", \"Topic3\", \"Topic3\", \"Topic3\", \"Topic3\", \"Topic3\", \"Topic3\", \"Topic3\", \"Topic3\", \"Topic3\", \"Topic3\", \"Topic3\", \"Topic3\", \"Topic3\", \"Topic3\", \"Topic3\", \"Topic3\", \"Topic4\", \"Topic4\", \"Topic4\", \"Topic4\", \"Topic4\", \"Topic4\", \"Topic4\", \"Topic4\", \"Topic4\", \"Topic4\", \"Topic4\", \"Topic4\", \"Topic4\", \"Topic4\", \"Topic4\", \"Topic4\", \"Topic4\", \"Topic4\", \"Topic4\", \"Topic4\", \"Topic4\", \"Topic4\", \"Topic4\", \"Topic4\", \"Topic4\", \"Topic4\", \"Topic4\", \"Topic4\", \"Topic4\", \"Topic4\", \"Topic4\", \"Topic4\", \"Topic4\", \"Topic4\", \"Topic4\", \"Topic4\", \"Topic4\", \"Topic5\", \"Topic5\", \"Topic5\", \"Topic5\", \"Topic5\", \"Topic5\", \"Topic5\", \"Topic5\", \"Topic5\", \"Topic5\", \"Topic5\", \"Topic5\", \"Topic5\", \"Topic5\", \"Topic5\", \"Topic5\", \"Topic5\", \"Topic5\", \"Topic5\", \"Topic5\", \"Topic5\", \"Topic5\", \"Topic5\", \"Topic5\", \"Topic5\", \"Topic5\", \"Topic5\", \"Topic5\", \"Topic5\", \"Topic5\", \"Topic5\", \"Topic5\", \"Topic5\", \"Topic5\", \"Topic6\", \"Topic6\", \"Topic6\", \"Topic6\", \"Topic6\", \"Topic6\", \"Topic6\", \"Topic6\", \"Topic6\", \"Topic6\", \"Topic6\", \"Topic6\", \"Topic6\", \"Topic6\", \"Topic6\", \"Topic6\", \"Topic6\", \"Topic6\", \"Topic6\", \"Topic6\", \"Topic6\", \"Topic6\", \"Topic6\", \"Topic6\", \"Topic6\", \"Topic6\", \"Topic6\", \"Topic6\", \"Topic6\", \"Topic6\", \"Topic6\", \"Topic6\", \"Topic6\", \"Topic6\", \"Topic6\", \"Topic6\", \"Topic6\", \"Topic6\", \"Topic6\", \"Topic6\", \"Topic6\", \"Topic6\"], \"logprob\": [30.0, 29.0, 28.0, 27.0, 26.0, 25.0, 24.0, 23.0, 22.0, 21.0, 20.0, 19.0, 18.0, 17.0, 16.0, 15.0, 14.0, 13.0, 12.0, 11.0, 10.0, 9.0, 8.0, 7.0, 6.0, 5.0, 4.0, 3.0, 2.0, 1.0, -4.2125, -4.3925, -4.4704, -4.4915, -4.5223, -4.5113, -4.7746, -4.8946, -4.9652, -4.9859, -4.9916, -5.0175, -5.0233, -5.2004, -5.2149, -5.294, -5.3407, -5.3953, -5.3972, -5.401, -5.4321, -5.4336, -5.4477, -5.4534, -5.4569, -5.4765, -5.4964, -5.5046, -5.5459, -5.555, -5.1659, -4.9389, -4.591, -5.2314, -5.3548, -5.1628, -5.1054, -3.6518, -3.6858, -3.928, -4.0796, -4.2943, -4.3923, -4.4683, -4.634, -4.6456, -4.6673, -4.7933, -4.8724, -4.8753, -4.9095, -5.0417, -5.0553, -5.067, -5.0979, -5.1347, -5.1684, -5.1782, -5.2563, -5.266, -5.2923, -5.296, -5.3962, -5.4441, -5.4758, -5.5039, -5.5153, -5.5133, -4.2808, -4.9768, -4.184, -5.084, -4.1805, -4.5616, -5.2661, -3.9225, -4.306, -4.4867, -4.5833, -4.7518, -4.7905, -4.8717, -4.9428, -4.9663, -4.9674, -4.9704, -5.0363, -5.0416, -5.0582, -5.2086, -5.3321, -5.3566, -5.453, -5.4618, -5.4654, -5.5052, -5.5116, -5.5814, -5.6104, -5.619, -5.6312, -5.6497, -5.6574, -5.6601, -5.6786, -3.6056, -4.9193, -3.9709, -4.516, -4.5445, -4.5915, -5.3901, -5.3285, -5.3971, -5.4382, -3.1301, -4.2303, -4.3639, -4.4609, -4.6702, -4.7964, -4.7976, -4.9788, -5.0138, -5.0776, -5.108, -5.117, -5.1304, -5.1749, -5.2016, -5.2262, -5.263, -5.3248, -5.3361, -5.3879, -5.3884, -5.3952, -5.4152, -5.4793, -5.5468, -5.5358, -5.552, -5.5633, -5.5896, -5.6663, -4.2719, -4.7741, -4.0862, -4.8773, -4.9169, -5.271, -5.2584, -4.0843, -4.2994, -4.3303, -4.4055, -4.5658, -4.5821, -4.6407, -4.6472, -4.6567, -4.8596, -4.8732, -4.9491, -4.9546, -4.9834, -5.1032, -5.1166, -5.1237, -5.1598, -5.1771, -5.2284, -5.2629, -5.2928, -5.2877, -5.341, -5.4899, -5.4923, -5.5236, -5.5295, -5.5506, -5.5983, -4.1522, -5.1608, -4.7095, -5.3432, -3.5599, -3.646, -4.1349, -4.2218, -4.346, -4.5647, -4.6958, -4.7582, -4.8083, -4.8362, -5.0067, -5.1896, -5.2345, -5.2357, -5.2417, -5.2972, -5.3211, -5.3618, -5.4029, -5.4187, -5.4238, -5.5068, -5.5136, -5.5137, -5.5714, -5.5877, -5.5928, -5.6316, -5.6357, -5.706, -5.7034, -5.3843, -4.3979, -4.8351, -5.0907, -4.0768, -4.2616, -5.1974, -5.0013, -5.1048, -5.3034, -5.3119], \"loglift\": [30.0, 29.0, 28.0, 27.0, 26.0, 25.0, 24.0, 23.0, 22.0, 21.0, 20.0, 19.0, 18.0, 17.0, 16.0, 15.0, 14.0, 13.0, 12.0, 11.0, 10.0, 9.0, 8.0, 7.0, 6.0, 5.0, 4.0, 3.0, 2.0, 1.0, 1.507, 1.507, 1.507, 1.507, 1.507, 1.507, 1.507, 1.507, 1.5069, 1.5069, 1.5069, 1.5069, 1.5069, 1.5069, 1.5069, 1.5069, 1.5069, 1.5069, 1.5069, 1.5069, 1.5069, 1.5069, 1.5069, 1.5069, 1.5069, 1.5069, 1.5069, 1.5069, 1.5069, 1.5069, 1.2517, 0.9521, 0.5578, 1.0895, 1.0098, -0.1584, -0.5233, 1.7559, 1.7559, 1.7559, 1.7559, 1.7559, 1.7558, 1.7558, 1.7558, 1.7558, 1.7558, 1.7558, 1.7558, 1.7558, 1.7558, 1.7558, 1.7558, 1.7558, 1.7558, 1.7558, 1.7558, 1.7558, 1.7558, 1.7558, 1.7558, 1.7558, 1.7558, 1.7558, 1.7557, 1.7557, 1.7557, 1.7557, 1.4207, 1.4489, 0.3981, 1.3359, 0.1901, 0.5872, -0.0306, 1.8011, 1.8011, 1.8011, 1.801, 1.801, 1.801, 1.801, 1.801, 1.801, 1.801, 1.801, 1.801, 1.801, 1.801, 1.801, 1.801, 1.801, 1.801, 1.801, 1.801, 1.8009, 1.8009, 1.8009, 1.8009, 1.8009, 1.8009, 1.8009, 1.8009, 1.8009, 1.8009, 0.765, 1.2965, 0.6112, 0.7195, 0.6043, 0.413, 1.4955, 1.1287, 0.5994, 0.6359, 1.8832, 1.8832, 1.8832, 1.8831, 1.8831, 1.8831, 1.8831, 1.8831, 1.8831, 1.8831, 1.8831, 1.8831, 1.8831, 1.8831, 1.8831, 1.8831, 1.8831, 1.8831, 1.8831, 1.8831, 1.8831, 1.883, 1.883, 1.883, 1.883, 1.883, 1.883, 1.883, 1.883, 1.883, 1.4522, 1.5367, 0.9183, 1.4088, 1.3006, 1.5551, 0.9574, 1.9167, 1.9167, 1.9167, 1.9167, 1.9167, 1.9167, 1.9167, 1.9167, 1.9167, 1.9166, 1.9166, 1.9166, 1.9166, 1.9166, 1.9166, 1.9166, 1.9166, 1.9166, 1.9166, 1.9166, 1.9166, 1.9166, 1.9166, 1.9166, 1.9166, 1.9166, 1.9166, 1.9166, 1.9165, 1.9165, 0.2183, 1.3037, 0.526, 0.3809, 1.9563, 1.9563, 1.9563, 1.9563, 1.9563, 1.9562, 1.9562, 1.9562, 1.9562, 1.9562, 1.9562, 1.9562, 1.9562, 1.9562, 1.9562, 1.9562, 1.9562, 1.9562, 1.9561, 1.9561, 1.9561, 1.9561, 1.9561, 1.9561, 1.9561, 1.9561, 1.9561, 1.9561, 1.9561, 1.9561, 1.9561, 1.9504, 1.5986, 1.5309, 1.4888, 0.5053, 0.109, 1.2252, 0.7003, 0.1307, 0.9827, -0.3074]}, \"token.table\": {\"Topic\": [5, 1, 3, 4, 5, 6, 4, 5, 5, 2, 1, 6, 5, 2, 4, 2, 1, 6, 1, 6, 4, 6, 5, 3, 5, 2, 6, 4, 6, 3, 2, 6, 4, 3, 5, 3, 5, 1, 2, 3, 3, 1, 1, 2, 1, 1, 1, 3, 2, 4, 5, 1, 2, 6, 2, 1, 6, 1, 1, 2, 3, 4, 5, 6, 6, 1, 1, 2, 3, 4, 5, 6, 2, 4, 1, 6, 4, 4, 2, 2, 1, 2, 6, 6, 2, 5, 5, 6, 3, 4, 5, 4, 1, 3, 5, 5, 2, 1, 4, 5, 2, 2, 3, 5, 6, 4, 6, 3, 4, 4, 1, 3, 2, 1, 1, 1, 1, 1, 2, 5, 4, 1, 5, 2, 1, 3, 6, 2, 5, 6, 6, 1, 2, 3, 4, 3, 2, 6, 5, 4, 5, 1, 4, 3, 2, 6, 1, 2, 5, 1, 3, 4, 5, 6, 4, 2, 3, 3, 1, 1, 2, 3, 6, 6, 4, 6, 3, 1, 5, 6, 1, 5, 2, 5, 3, 4, 5, 4, 2, 4, 2, 5, 5, 6, 3, 4, 5, 6, 3, 4, 3, 1, 6, 5, 2, 6, 2, 3, 4, 5, 6, 1, 2, 5, 3, 2, 3, 5, 1, 4, 5, 5, 2, 3, 4, 6, 6, 6, 1, 4, 4, 3, 5, 1, 2, 6, 3, 4, 6, 3, 3, 3, 3, 6, 4, 6, 4, 5, 2, 2, 5, 6, 5, 3, 3, 3, 6, 3, 1, 2, 3, 5, 3, 4, 6, 2, 1, 4, 4, 6, 2, 4, 4], \"Freq\": [0.9998444168890513, 0.00023296729393693487, 0.0051252804666125674, 0.00023296729393693487, 0.00023296729393693487, 0.9940714432289012, 0.9999646335035044, 0.9999537787170071, 0.9999468669658547, 0.9999271349895973, 0.9999736190513252, 0.9998719943775233, 0.9998766397357046, 0.9998291922979934, 0.9998800798008927, 0.9998292133072212, 0.999938350860084, 0.9997601080283977, 0.3733929063408596, 0.6264812673669714, 0.9999906646163702, 0.9999658216309959, 0.9999028114904123, 0.9998654030614579, 0.999818748093349, 0.9998004845593355, 0.9998853749176763, 0.9998648805602256, 0.999894552322099, 0.9998989326773513, 0.9997989431599268, 0.9999635028999746, 0.9999375952654845, 0.9997960323182902, 0.999896801470843, 0.9999077412117272, 0.9999547716015365, 0.5741320543253304, 0.20831534691420994, 0.21749926004374348, 0.9999379179707478, 0.999873892287195, 0.9999014295168462, 0.9999590920022411, 0.9999634707782489, 0.9999304975979781, 0.9999084150787999, 0.9999188559089509, 0.9999663058918609, 0.9999580032930259, 0.9998098729431735, 0.9998440155328292, 0.9999278141987377, 0.9997264508578295, 0.999769973939006, 0.9998553961800768, 0.9998752724783022, 0.9998773070856515, 0.057957575451069075, 0.20891656216317742, 0.35482635126287154, 0.037664609808794734, 0.18297330395463002, 0.1576551844980958, 0.9999038506906716, 0.9999725392589103, 0.13129437173850925, 0.25721160097567897, 0.3042541708699949, 0.029128664213057657, 0.04378954722085363, 0.23432161038296, 0.9999473335881036, 0.9997732580593142, 0.9998093457264404, 0.9999044443117155, 0.9996858864359784, 0.9999293916987936, 0.9998834816892708, 0.9999447263114165, 0.9998432302192239, 0.9999085457901454, 0.9998424942285359, 0.9999219743602126, 0.9999685853999292, 0.999874047904055, 0.9997991941326586, 0.9999691436720736, 0.9998521351769374, 0.7202185493725526, 0.2796257974222165, 0.9998593272445991, 0.6587046922618025, 0.16161213545548136, 0.17970052300123085, 0.9998366428699723, 0.9999660197503644, 0.9999729292855087, 0.9999067965210806, 0.9998510174620164, 0.9999575608604153, 0.33048324394378603, 0.3118588884697357, 0.24759825770288843, 0.1100289936871198, 0.6222410010268498, 0.377736697946895, 0.9998384884009334, 0.9996914469769466, 0.9997882914226527, 0.9998362502061227, 0.99972068068215, 0.9998494781572352, 0.9999683323980284, 0.9998431884886232, 0.9999534073841838, 0.9999081727943259, 0.9999059058427123, 0.9999134366665802, 0.9999689223574629, 0.9998704905511318, 0.9999221743583965, 0.9998572638687566, 0.99994927302891, 0.9998311206999083, 0.9999150209974174, 0.9997905615998182, 0.7356952774239999, 0.2643171601462087, 0.9997161598110045, 0.9998458258245546, 0.9999251934841271, 0.9998242684137992, 0.9999117403677289, 0.9998481012110402, 0.9998878088972003, 0.9999562123417954, 0.9998674511263885, 0.9999599848949465, 0.9999235905603058, 0.9999510519872842, 0.9998124271853213, 0.9998148428388517, 0.9999035138852538, 0.9998679791074682, 0.9999666686027643, 0.34293826819014217, 0.6570417268916439, 0.9999466488441752, 0.18912154832493241, 0.24953348791686505, 0.38100763402053844, 0.07636467982926219, 0.10396473325123293, 0.999929005500519, 0.2632970836151898, 0.7366668827291165, 0.9998831981879754, 0.9998743238038856, 0.38704417470327357, 0.3107558410259644, 0.3021688219984567, 0.9997570482203902, 0.9999180132851824, 0.9999266442417275, 0.9999775562228383, 0.9998666863076341, 0.9998994422506625, 0.9999369889824458, 0.9997395163846163, 0.7746859103645465, 0.22523620398699976, 0.9999885115616242, 0.9998989445238583, 0.9999497145084429, 0.9999609634433583, 0.9998779512566189, 0.9998966373749428, 0.9997627245767189, 0.9998561049120162, 0.45823922694206576, 0.5416707727332638, 0.9999691944343834, 0.9999786258282395, 0.9998203215508678, 0.6498724899429089, 0.2152900414262315, 0.1348238759212695, 0.9998908174881792, 0.9998732334824472, 0.9998721860284709, 0.9999244889514575, 0.9999685294680077, 0.9999417312711563, 0.9999561680863169, 0.9999193382036073, 0.167531036732862, 0.33905906479881887, 0.08339436917121505, 0.24889836029943607, 0.16110730066181667, 0.6082403302498115, 0.16089051708988916, 0.23082755854718456, 0.9999487822099504, 0.9998920969331498, 0.9997525528885536, 0.9999431117593067, 0.9997872050220088, 0.9998524364722409, 0.999753395936048, 0.999752173995906, 0.9998217431406691, 0.6037262943297548, 0.3962191598909797, 0.9998805892474539, 0.9997274657447417, 0.9996434733916322, 0.4414748774776982, 0.5584748665882415, 0.9998343060654392, 0.9998072415371073, 0.9999173918444981, 0.999932469805097, 0.7152080992513024, 0.28478195134638984, 0.2241146389323043, 0.2944838282755581, 0.4813551994437467, 0.9997681842083309, 0.9999280019405457, 0.9998680701821572, 0.30066078314393596, 0.6992807604707438, 0.9999586801215304, 0.999938313582408, 0.9997964988946865, 0.9998516461680411, 0.999906586969344, 0.9999444092129677, 0.999930484443878, 0.9998827223451072, 0.9998547080984713, 0.9999475547633662, 0.9999685633620211, 0.9998717826464238, 0.9997076116781943, 0.9999313106781913, 0.11954183692118384, 0.1693347900633949, 0.5105230798822032, 0.20062491431423965, 0.9996906023593418, 0.7071422973442658, 0.2928645178919572, 0.9998637579656493, 0.9999365191296836, 0.9998893450170067, 0.3464331472456679, 0.6535189870578693, 0.9999242397187869, 0.9998181355816563, 0.9998056675495384], \"Term\": [\"2020\", \"2021\", \"2021\", \"2021\", \"2021\", \"2021\", \"abc\", \"abuse\", \"adelaide\", \"afl\", \"age\", \"ahead\", \"amid\", \"andrews\", \"announce\", \"arrest\", \"assault\", \"asx\", \"attack\", \"attack\", \"australia\", \"australian\", \"australians\", \"australias\", \"bank\", \"beach\", \"beat\", \"become\", \"berejiklian\", \"biden\", \"black\", \"border\", \"break\", \"brief\", \"budget\", \"bushfire\", \"business\", \"call\", \"call\", \"call\", \"canberra\", \"car\", \"care\", \"case\", \"change\", \"charge\", \"child\", \"children\", \"china\", \"christmas\", \"city\", \"climate\", \"coast\", \"come\", \"commission\", \"community\", \"company\", \"concern\", \"coronavirus\", \"coronavirus\", \"coronavirus\", \"coronavirus\", \"coronavirus\", \"coronavirus\", \"country\", \"court\", \"covid\", \"covid\", \"covid\", \"covid\", \"covid\", \"covid\", \"crash\", \"cup\", \"cut\", \"daniel\", \"david\", \"day\", \"dead\", \"death\", \"deaths\", \"die\", \"dog\", \"domestic\", \"donald\", \"drive\", \"drop\", \"election\", \"emergency\", \"end\", \"end\", \"extend\", \"face\", \"face\", \"face\", \"fall\", \"family\", \"federal\", \"final\", \"finance\", \"find\", \"fire\", \"fire\", \"fire\", \"fire\", \"first\", \"first\", \"flight\", \"footage\", \"free\", \"fund\", \"game\", \"gold\", \"government\", \"guilty\", \"health\", \"hear\", \"help\", \"hotel\", \"house\", \"india\", \"indigenous\", \"island\", \"jail\", \"job\", \"joe\", \"johnson\", \"kill\", \"kill\", \"latest\", \"lead\", \"leave\", \"life\", \"live\", \"local\", \"lockdown\", \"man\", \"mark\", \"market\", \"mask\", \"melbourne\", \"mental\", \"million\", \"minister\", \"miss\", \"morrison\", \"murder\", \"murder\", \"national\", \"new\", \"new\", \"new\", \"new\", \"new\", \"news\", \"north\", \"north\", \"northern\", \"nrl\", \"nsw\", \"nsw\", \"nsw\", \"officer\", \"old\", \"one\", \"open\", \"pandemic\", \"pay\", \"people\", \"peter\", \"plan\", \"plan\", \"police\", \"post\", \"premier\", \"president\", \"price\", \"prime\", \"program\", \"protest\", \"qld\", \"qld\", \"quarantine\", \"queensland\", \"rain\", \"record\", \"record\", \"record\", \"regional\", \"rescue\", \"residents\", \"restrictions\", \"return\", \"rise\", \"royal\", \"rule\", \"say\", \"say\", \"say\", \"say\", \"say\", \"school\", \"school\", \"school\", \"scott\", \"search\", \"season\", \"see\", \"service\", \"sexual\", \"share\", \"shark\", \"shoot\", \"south\", \"south\", \"speak\", \"sport\", \"star\", \"state\", \"state\", \"storm\", \"street\", \"students\", \"support\", \"sydney\", \"sydney\", \"take\", \"take\", \"take\", \"talk\", \"tasmania\", \"tasmanian\", \"test\", \"test\", \"three\", \"time\", \"top\", \"track\", \"travel\", \"trump\", \"two\", \"update\", \"use\", \"vaccine\", \"victoria\", \"victorian\", \"violence\", \"wall\", \"warn\", \"warn\", \"warn\", \"warn\", \"weather\", \"win\", \"win\", \"woman\", \"workers\", \"world\", \"year\", \"year\", \"years\", \"young\", \"zealand\"]}, \"R\": 30, \"lambda.step\": 0.01, \"plot.opts\": {\"xlab\": \"PC1\", \"ylab\": \"PC2\"}, \"topic.order\": [1, 5, 3, 2, 6, 4]};\n",
       "\n",
       "function LDAvis_load_lib(url, callback){\n",
       "  var s = document.createElement('script');\n",
       "  s.src = url;\n",
       "  s.async = true;\n",
       "  s.onreadystatechange = s.onload = callback;\n",
       "  s.onerror = function(){console.warn(\"failed to load library \" + url);};\n",
       "  document.getElementsByTagName(\"head\")[0].appendChild(s);\n",
       "}\n",
       "\n",
       "if(typeof(LDAvis) !== \"undefined\"){\n",
       "   // already loaded: just create the visualization\n",
       "   !function(LDAvis){\n",
       "       new LDAvis(\"#\" + \"ldavis_el413620339215062403519074278\", ldavis_el413620339215062403519074278_data);\n",
       "   }(LDAvis);\n",
       "}else if(typeof define === \"function\" && define.amd){\n",
       "   // require.js is available: use it to load d3/LDAvis\n",
       "   require.config({paths: {d3: \"https://d3js.org/d3.v5\"}});\n",
       "   require([\"d3\"], function(d3){\n",
       "      window.d3 = d3;\n",
       "      LDAvis_load_lib(\"https://cdn.jsdelivr.net/gh/bmabey/pyLDAvis@3.4.0/pyLDAvis/js/ldavis.v3.0.0.js\", function(){\n",
       "        new LDAvis(\"#\" + \"ldavis_el413620339215062403519074278\", ldavis_el413620339215062403519074278_data);\n",
       "      });\n",
       "    });\n",
       "}else{\n",
       "    // require.js not available: dynamically load d3 & LDAvis\n",
       "    LDAvis_load_lib(\"https://d3js.org/d3.v5.js\", function(){\n",
       "         LDAvis_load_lib(\"https://cdn.jsdelivr.net/gh/bmabey/pyLDAvis@3.4.0/pyLDAvis/js/ldavis.v3.0.0.js\", function(){\n",
       "                 new LDAvis(\"#\" + \"ldavis_el413620339215062403519074278\", ldavis_el413620339215062403519074278_data);\n",
       "            })\n",
       "         });\n",
       "}\n",
       "</script>"
      ],
      "text/plain": [
       "<IPython.core.display.HTML object>"
      ]
     },
     "execution_count": 43,
     "metadata": {},
     "output_type": "execute_result"
    }
   ],
   "source": [
    "import pyLDAvis.gensim_models\n",
    "\n",
    "pyLDAvis.enable_notebook()\n",
    "vis = pyLDAvis.gensim_models.prepare(ldamodel, corpus, dictionary)\n",
    "pyLDAvis.display(vis)"
   ]
  },
  {
   "cell_type": "code",
   "execution_count": 126,
   "metadata": {},
   "outputs": [
    {
     "name": "stdout",
     "output_type": "stream",
     "text": [
      "0 번째 문서의 topic 비율은 [(0, 0.20515978), (1, 0.029301945), (2, 0.1504378), (3, 0.2050645), (4, 0.38073403), (5, 0.029301958)]\n",
      "1 번째 문서의 topic 비율은 [(0, 0.024015067), (1, 0.023825083), (2, 0.5474377), (3, 0.023846032), (4, 0.19234931), (5, 0.18852675)]\n",
      "2 번째 문서의 topic 비율은 [(0, 0.033618893), (1, 0.033342775), (2, 0.6329594), (3, 0.033342775), (4, 0.033466924), (5, 0.23326924)]\n",
      "3 번째 문서의 topic 비율은 [(0, 0.5958986), (1, 0.023837658), (2, 0.023837658), (3, 0.023837658), (4, 0.023837658), (5, 0.30875078)]\n",
      "4 번째 문서의 topic 비율은 [(0, 0.36111572), (1, 0.027782893), (2, 0.19439459), (3, 0.36114103), (4, 0.027782893), (5, 0.027782893)]\n"
     ]
    }
   ],
   "source": [
    "for i, topic_list in enumerate(ldamodel[corpus]):\n",
    "    if i==5:\n",
    "        break\n",
    "    print(i,'번째 문서의 topic 비율은',topic_list)\n",
    "    # doc = topic_list[0] if ldamodel.per_word_topics else topic_list            \n",
    "    doc = sorted(topic_list, key=lambda x: (x[1]), reverse=True)\n",
    "    print(doc)\n",
    "    "
   ]
  },
  {
   "cell_type": "code",
   "execution_count": 182,
   "metadata": {},
   "outputs": [],
   "source": [
    "def make_topictable_per_doc(ldamodel, corpus):\n",
    "    topic_table = pd.DataFrame()\n",
    "\n",
    "    # 몇 번째 문서인지를 의미하는 문서 번호와 해당 문서의 토픽 비중을 한 줄씩 꺼내온다.\n",
    "    for i, topic_list in enumerate(ldamodel[corpus]):\n",
    "        if i == 1000:\n",
    "            break\n",
    "        doc = topic_list[0] if ldamodel.per_word_topics else topic_list            \n",
    "        doc = sorted(doc, key=lambda x: (x[1]), reverse=True)\n",
    "        # 각 문서에 대해서 비중이 높은 토픽순으로 토픽을 정렬한다.\n",
    "        # EX) 정렬 전 0번 문서 : (2번 토픽, 48.5%), (8번 토픽, 25%), (10번 토픽, 5%), (12번 토픽, 21.5%), \n",
    "        # Ex) 정렬 후 0번 문서 : (2번 토픽, 48.5%), (8번 토픽, 25%), (12번 토픽, 21.5%), (10번 토픽, 5%)\n",
    "        # 48 > 25 > 21 > 5 순으로 정렬이 된 것.\n",
    "\n",
    "        # 모든 문서에 대해서 각각 아래를 수행\n",
    "        for j, (topic_num, prop_topic) in enumerate(doc): #  몇 번 토픽인지와 비중을 나눠서 저장한다.\n",
    "            if j == 0:  # 정렬을 한 상태이므로 가장 앞에 있는 것이 가장 비중이 높은 토픽\n",
    "                topic_table = pd.concat([topic_table, pd.DataFrame([int(topic_num), round(prop_topic,4), doc]).T], ignore_index= True)\n",
    "                # pd.DataFrame({'가장 비중이 높은 토픽' : int(topic_num), '가장 높은 토픽의 비중' : round(prop_topic,4), '각 토픽의 비중':topic_list})\n",
    "                # print(topic_table)\n",
    "                # topic_table.append(pd.Series([int(topic_num), round(prop_topic,4), topic_list]), ignore_index=True)\n",
    "                # 가장 비중이 높은 토픽과, 가장 비중이 높은 토픽의 비중과, 전체 토픽의 비중을 저장한다.\n",
    "            else:\n",
    "                break\n",
    "    return topic_table"
   ]
  },
  {
   "cell_type": "code",
   "execution_count": 163,
   "metadata": {},
   "outputs": [
    {
     "data": {
      "text/html": [
       "<div>\n",
       "<style scoped>\n",
       "    .dataframe tbody tr th:only-of-type {\n",
       "        vertical-align: middle;\n",
       "    }\n",
       "\n",
       "    .dataframe tbody tr th {\n",
       "        vertical-align: top;\n",
       "    }\n",
       "\n",
       "    .dataframe thead th {\n",
       "        text-align: right;\n",
       "    }\n",
       "</style>\n",
       "<table border=\"1\" class=\"dataframe\">\n",
       "  <thead>\n",
       "    <tr style=\"text-align: right;\">\n",
       "      <th></th>\n",
       "      <th>0</th>\n",
       "      <th>1</th>\n",
       "      <th>2</th>\n",
       "    </tr>\n",
       "  </thead>\n",
       "  <tbody>\n",
       "    <tr>\n",
       "      <th>0</th>\n",
       "      <td>e0</td>\n",
       "      <td>e1</td>\n",
       "      <td>e2</td>\n",
       "    </tr>\n",
       "    <tr>\n",
       "      <th>0</th>\n",
       "      <td>f0</td>\n",
       "      <td>f1</td>\n",
       "      <td>f2</td>\n",
       "    </tr>\n",
       "    <tr>\n",
       "      <th>0</th>\n",
       "      <td>g0</td>\n",
       "      <td>g1</td>\n",
       "      <td>g2</td>\n",
       "    </tr>\n",
       "  </tbody>\n",
       "</table>\n",
       "</div>"
      ],
      "text/plain": [
       "    0   1   2\n",
       "0  e0  e1  e2\n",
       "0  f0  f1  f2\n",
       "0  g0  g1  g2"
      ]
     },
     "execution_count": 163,
     "metadata": {},
     "output_type": "execute_result"
    }
   ],
   "source": [
    "df = pd.DataFrame()\n",
    "sr1 = pd.DataFrame(['e0','e1','e2'])\n",
    "sr2 = pd.DataFrame(['f0','f1','f2'])\n",
    "sr3 = pd.DataFrame(['g0','g1','g2'])\n",
    "A = pd.concat([df, sr1.T])\n",
    "A = pd.concat([A, sr2.T])\n",
    "pd.concat([A, sr3.T])"
   ]
  },
  {
   "cell_type": "code",
   "execution_count": null,
   "metadata": {},
   "outputs": [],
   "source": []
  },
  {
   "cell_type": "code",
   "execution_count": 194,
   "metadata": {},
   "outputs": [],
   "source": [
    "topictable = make_topictable_per_doc(ldamodel, corpus)"
   ]
  },
  {
   "cell_type": "code",
   "execution_count": 195,
   "metadata": {},
   "outputs": [],
   "source": [
    "topictable = topictable.reset_index() # 문서 번호을 의미하는 열(column)로 사용하기 위해서 인덱스 열을 하나 더 만든다.\n",
    "topictable.columns = ['num', 'best_topic', 'best_topic_rate', 'topic_rate']"
   ]
  },
  {
   "cell_type": "code",
   "execution_count": 196,
   "metadata": {},
   "outputs": [
    {
     "data": {
      "text/html": [
       "<div>\n",
       "<style scoped>\n",
       "    .dataframe tbody tr th:only-of-type {\n",
       "        vertical-align: middle;\n",
       "    }\n",
       "\n",
       "    .dataframe tbody tr th {\n",
       "        vertical-align: top;\n",
       "    }\n",
       "\n",
       "    .dataframe thead th {\n",
       "        text-align: right;\n",
       "    }\n",
       "</style>\n",
       "<table border=\"1\" class=\"dataframe\">\n",
       "  <thead>\n",
       "    <tr style=\"text-align: right;\">\n",
       "      <th></th>\n",
       "      <th>num</th>\n",
       "      <th>best_topic</th>\n",
       "      <th>best_topic_rate</th>\n",
       "      <th>topic_rate</th>\n",
       "    </tr>\n",
       "  </thead>\n",
       "  <tbody>\n",
       "    <tr>\n",
       "      <th>0</th>\n",
       "      <td>0</td>\n",
       "      <td>4</td>\n",
       "      <td>0.3807</td>\n",
       "      <td>[(4, 0.38066486), (0, 0.20512268), (3, 0.20502...</td>\n",
       "    </tr>\n",
       "    <tr>\n",
       "      <th>1</th>\n",
       "      <td>1</td>\n",
       "      <td>2</td>\n",
       "      <td>0.5474</td>\n",
       "      <td>[(2, 0.54737), (4, 0.19238877), (5, 0.18855181...</td>\n",
       "    </tr>\n",
       "    <tr>\n",
       "      <th>2</th>\n",
       "      <td>2</td>\n",
       "      <td>2</td>\n",
       "      <td>0.633</td>\n",
       "      <td>[(2, 0.6329586), (5, 0.23326924), (0, 0.033619...</td>\n",
       "    </tr>\n",
       "    <tr>\n",
       "      <th>3</th>\n",
       "      <td>3</td>\n",
       "      <td>0</td>\n",
       "      <td>0.5959</td>\n",
       "      <td>[(0, 0.5958986), (5, 0.30875078), (1, 0.023837...</td>\n",
       "    </tr>\n",
       "    <tr>\n",
       "      <th>4</th>\n",
       "      <td>4</td>\n",
       "      <td>3</td>\n",
       "      <td>0.3611</td>\n",
       "      <td>[(3, 0.361141), (0, 0.36111572), (2, 0.1943945...</td>\n",
       "    </tr>\n",
       "    <tr>\n",
       "      <th>...</th>\n",
       "      <td>...</td>\n",
       "      <td>...</td>\n",
       "      <td>...</td>\n",
       "      <td>...</td>\n",
       "    </tr>\n",
       "    <tr>\n",
       "      <th>995</th>\n",
       "      <td>995</td>\n",
       "      <td>0</td>\n",
       "      <td>0.8332</td>\n",
       "      <td>[(0, 0.8331586), (2, 0.03341528), (1, 0.033356...</td>\n",
       "    </tr>\n",
       "    <tr>\n",
       "      <th>996</th>\n",
       "      <td>996</td>\n",
       "      <td>5</td>\n",
       "      <td>0.5416</td>\n",
       "      <td>[(5, 0.54160905), (0, 0.29168916), (1, 0.04167...</td>\n",
       "    </tr>\n",
       "    <tr>\n",
       "      <th>997</th>\n",
       "      <td>997</td>\n",
       "      <td>1</td>\n",
       "      <td>0.5308</td>\n",
       "      <td>[(1, 0.5307774), (0, 0.35695925), (3, 0.028065...</td>\n",
       "    </tr>\n",
       "    <tr>\n",
       "      <th>998</th>\n",
       "      <td>998</td>\n",
       "      <td>5</td>\n",
       "      <td>0.6331</td>\n",
       "      <td>[(5, 0.6331105), (3, 0.23347138), (0, 0.033354...</td>\n",
       "    </tr>\n",
       "    <tr>\n",
       "      <th>999</th>\n",
       "      <td>999</td>\n",
       "      <td>5</td>\n",
       "      <td>0.5809</td>\n",
       "      <td>[(5, 0.5808711), (4, 0.1809818), (0, 0.1664752...</td>\n",
       "    </tr>\n",
       "  </tbody>\n",
       "</table>\n",
       "<p>1000 rows × 4 columns</p>\n",
       "</div>"
      ],
      "text/plain": [
       "     num best_topic best_topic_rate  \\\n",
       "0      0          4          0.3807   \n",
       "1      1          2          0.5474   \n",
       "2      2          2           0.633   \n",
       "3      3          0          0.5959   \n",
       "4      4          3          0.3611   \n",
       "..   ...        ...             ...   \n",
       "995  995          0          0.8332   \n",
       "996  996          5          0.5416   \n",
       "997  997          1          0.5308   \n",
       "998  998          5          0.6331   \n",
       "999  999          5          0.5809   \n",
       "\n",
       "                                            topic_rate  \n",
       "0    [(4, 0.38066486), (0, 0.20512268), (3, 0.20502...  \n",
       "1    [(2, 0.54737), (4, 0.19238877), (5, 0.18855181...  \n",
       "2    [(2, 0.6329586), (5, 0.23326924), (0, 0.033619...  \n",
       "3    [(0, 0.5958986), (5, 0.30875078), (1, 0.023837...  \n",
       "4    [(3, 0.361141), (0, 0.36111572), (2, 0.1943945...  \n",
       "..                                                 ...  \n",
       "995  [(0, 0.8331586), (2, 0.03341528), (1, 0.033356...  \n",
       "996  [(5, 0.54160905), (0, 0.29168916), (1, 0.04167...  \n",
       "997  [(1, 0.5307774), (0, 0.35695925), (3, 0.028065...  \n",
       "998  [(5, 0.6331105), (3, 0.23347138), (0, 0.033354...  \n",
       "999  [(5, 0.5808711), (4, 0.1809818), (0, 0.1664752...  \n",
       "\n",
       "[1000 rows x 4 columns]"
      ]
     },
     "execution_count": 196,
     "metadata": {},
     "output_type": "execute_result"
    }
   ],
   "source": [
    "topictable"
   ]
  },
  {
   "cell_type": "code",
   "execution_count": null,
   "metadata": {},
   "outputs": [],
   "source": []
  }
 ],
 "metadata": {
  "kernelspec": {
   "display_name": "base",
   "language": "python",
   "name": "python3"
  },
  "language_info": {
   "codemirror_mode": {
    "name": "ipython",
    "version": 3
   },
   "file_extension": ".py",
   "mimetype": "text/x-python",
   "name": "python",
   "nbconvert_exporter": "python",
   "pygments_lexer": "ipython3",
   "version": "3.10.9"
  },
  "orig_nbformat": 4
 },
 "nbformat": 4,
 "nbformat_minor": 2
}
